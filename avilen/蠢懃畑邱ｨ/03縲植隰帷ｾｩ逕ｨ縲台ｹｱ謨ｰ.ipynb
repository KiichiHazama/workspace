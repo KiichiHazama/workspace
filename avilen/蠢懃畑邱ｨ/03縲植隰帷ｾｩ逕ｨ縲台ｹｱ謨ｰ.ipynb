{
 "cells": [
  {
   "cell_type": "markdown",
   "id": "91175a54",
   "metadata": {
    "id": "3ed1bf57"
   },
   "source": [
    "## randomライブラリ\n",
    "\n",
    "randomライブラリを利用して色々なことをやってみよう。\n",
    "\n",
    "まず、忘れずにライブラリのインポートをしよう。"
   ]
  },
  {
   "cell_type": "code",
   "execution_count": null,
   "id": "5c767e68",
   "metadata": {
    "id": "73301d00"
   },
   "outputs": [],
   "source": [
    "import random"
   ]
  },
  {
   "cell_type": "markdown",
   "id": "f2c98197",
   "metadata": {
    "id": "532123e1"
   },
   "source": [
    "ライブラリのインポートが完了したら、例題に取り掛かろう\n",
    "\n",
    "【例題】ランダムな数字を出力してみよう。"
   ]
  },
  {
   "cell_type": "code",
   "execution_count": null,
   "id": "34434b52",
   "metadata": {
    "id": "a2e5fa81"
   },
   "outputs": [],
   "source": [
    "# 何度か実行してランダムな値が出力できることを確認しよう。\n",
    "print(random.random())\n",
    "print(random.randint(0,5))\n",
    "print(random.uniform(10,15))"
   ]
  },
  {
   "cell_type": "markdown",
   "id": "15fffd01",
   "metadata": {
    "id": "3adc6b41"
   },
   "source": [
    "**解説**\n",
    "* 実行するたびにランダムに値を算出している\n",
    "* 範囲は関数によって以下のように決まっている\n",
    "    * 0≦x<1の実数`x`を出力する関数random()を動かす場合：random.random()\n",
    "    * a≦x≦bの整数`x`を出力する関数randint()を動かす場合：random.randint(a,b)\n",
    "    * a≦x≦bの実数`x`を出力する関数uniform()を動かす場合：random.uniform(a,b)"
   ]
  },
  {
   "cell_type": "markdown",
   "id": "d32ddfef",
   "metadata": {
    "id": "0d4665e0"
   },
   "source": [
    "【例題】適当なリストの中からランダムに要素を取り出してみよう。"
   ]
  },
  {
   "cell_type": "code",
   "execution_count": null,
   "id": "d944ff1d",
   "metadata": {
    "id": "f57a508f"
   },
   "outputs": [],
   "source": [
    "# 何度か実行してランダムに要素を取り出せることを確認しよう。\n",
    "animals = [\"鼠\",\"牛\",\"虎\",\"兎\",\"竜\",\"蛇\",\"馬\",\"羊\",\"猿\",\"鳥\",\"犬\",\"猪\"]\n",
    "print(random.choice(animals))"
   ]
  },
  {
   "cell_type": "markdown",
   "id": "b30c63d4",
   "metadata": {
    "id": "060944fa"
   },
   "source": [
    "**解説**\n",
    "* 実行するたびにランダムに要素を取り出している\n",
    "* リストからランダムに要素を抽出する方法：random.choice(リスト名)\n",
    "\n",
    "**注意**\n",
    "- 関数名の前に書くライブラリ名を忘れないよう気を付けよう。"
   ]
  },
  {
   "cell_type": "markdown",
   "id": "1f9196c6",
   "metadata": {
    "id": "97028f83"
   },
   "source": [
    "### random関数の偏り\n",
    "\n",
    "`random.random()`という関数では、乱数によって0.0～1.0までのランダムな値を算出することができる。\n",
    "\n",
    "これが本当に偏っているのか、乱数を100個生成して検証してみよう。\n",
    "\n",
    "【例題】randomで乱数を100個生成し、リスト`valid`に格納しよう。"
   ]
  },
  {
   "cell_type": "code",
   "execution_count": null,
   "id": "70f9d467",
   "metadata": {
    "id": "49f5a98a",
    "scrolled": true
   },
   "outputs": [],
   "source": [
    "import random\n",
    "valid = []\n",
    "for i in range(100):\n",
    "    valid.append(random.random())\n",
    "print(valid)"
   ]
  },
  {
   "cell_type": "code",
   "execution_count": null,
   "id": "8a23c942",
   "metadata": {
    "id": "a4b6282e"
   },
   "outputs": [],
   "source": [
    "print(len(valid))"
   ]
  },
  {
   "cell_type": "markdown",
   "id": "ce9b92ff",
   "metadata": {
    "id": "f0f7f224"
   },
   "source": [
    "【例題】リスト`valid`の中身について、0.5以下の値が何個あるか計測しよう。"
   ]
  },
  {
   "cell_type": "code",
   "execution_count": null,
   "id": "d9760ff5",
   "metadata": {
    "id": "f18ab8fa"
   },
   "outputs": [],
   "source": [
    "test = []\n",
    "for r in valid:\n",
    "    if r <= 0.5:\n",
    "        test.append(r)\n",
    "print(test)"
   ]
  },
  {
   "cell_type": "code",
   "execution_count": null,
   "id": "6237ab62",
   "metadata": {
    "id": "12f94626"
   },
   "outputs": [],
   "source": [
    "print(len(test))"
   ]
  },
  {
   "cell_type": "markdown",
   "id": "05308ba6",
   "metadata": {
    "id": "62318d3f"
   },
   "source": [
    "どうだろうか？0.5以下の値の数は100個中50個となっただろうか？\n",
    "\n",
    "実は乱数は偏りがあるため、必ず50個ぴったりになるとは限らない。"
   ]
  },
  {
   "cell_type": "markdown",
   "id": "1d5cd31d",
   "metadata": {
    "id": "ef56e12f"
   },
   "source": [
    "【補足】リスト`valid`および`test`を内包表記で書いてみよう"
   ]
  },
  {
   "cell_type": "code",
   "execution_count": null,
   "id": "8dadc40c",
   "metadata": {
    "id": "0ae1f60a"
   },
   "outputs": [],
   "source": [
    "from random import random\n",
    "valid = [random() for i in range(100)]\n",
    "test = [i for i in valid if i <= 0.5]"
   ]
  },
  {
   "cell_type": "code",
   "execution_count": null,
   "id": "fe9670b4",
   "metadata": {
    "id": "e2f904a4"
   },
   "outputs": [],
   "source": [
    "print(len(valid))\n",
    "print(len(test))"
   ]
  },
  {
   "cell_type": "markdown",
   "id": "f9b258a5",
   "metadata": {
    "id": "57048188"
   },
   "source": [
    "このように乱数は偏りが発生するが、上手く使えば様々な機能を実装できる。\n",
    "\n",
    "乱数の種類も一様乱数、正規乱数などたくさんあるので、興味のある人は自分で試してみよう。"
   ]
  }
 ],
 "metadata": {
  "colab": {
   "provenance": []
  },
  "kernelspec": {
   "display_name": "Python 3 (ipykernel)",
   "language": "python",
   "name": "python3"
  },
  "language_info": {
   "codemirror_mode": {
    "name": "ipython",
    "version": 3
   },
   "file_extension": ".py",
   "mimetype": "text/x-python",
   "name": "python",
   "nbconvert_exporter": "python",
   "pygments_lexer": "ipython3",
   "version": "3.10.12"
  },
  "vscode": {
   "interpreter": {
    "hash": "f25b26b4ea7004765cfa1e96cf36e4bfdb1569f2ca834d9e6ec0cf32829ced3d"
   }
  }
 },
 "nbformat": 4,
 "nbformat_minor": 5
}
