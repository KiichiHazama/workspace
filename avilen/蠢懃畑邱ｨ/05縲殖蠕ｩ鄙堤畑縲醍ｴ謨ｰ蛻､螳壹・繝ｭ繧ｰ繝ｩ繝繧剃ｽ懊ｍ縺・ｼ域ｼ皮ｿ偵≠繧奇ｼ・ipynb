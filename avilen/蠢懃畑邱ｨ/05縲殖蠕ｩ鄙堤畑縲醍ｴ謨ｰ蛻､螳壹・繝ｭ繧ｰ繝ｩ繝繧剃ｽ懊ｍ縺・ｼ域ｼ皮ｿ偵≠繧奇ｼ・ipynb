{
 "cells": [
  {
   "cell_type": "markdown",
   "id": "e11fb2e9",
   "metadata": {
    "id": "ddec28c9"
   },
   "source": [
    "## 素数判定プログラム\n",
    "\n",
    "この章では、if文とfor文を活かして素数判定のプログラムを作成してみよう。\n",
    "\n",
    "## 1. 主なアルゴリズム\n",
    "\n",
    "まずは以下の条件を満たすように、頑張って実装してみよう\n",
    "\n",
    "- `input`で判定したい数値を入力\n",
    "- 入力した数値に対して、その数値以下の数で割り切れるか判定\n",
    "- 全ての数値について割り切れなかったら素数とする\n",
    "\n",
    "### ヒント\n",
    "\n",
    "- `input`で入力したデータはstr型として認識されるので、int型に変換する必要がある\n",
    "- 「aがbで割り切れる」という条件は`a%b==0`で書ける\n",
    "- 素数は2,3,5,7,...と続くため、割り切るためのfor文について、iは2からn-1までの数である"
   ]
  },
  {
   "cell_type": "markdown",
   "id": "a755b412",
   "metadata": {
    "id": "12cb0deb"
   },
   "source": [
    "【問題】上記の条件を満たすように、ヒントを参考にして素数判定プログラム`prime`を作成してみよう"
   ]
  },
  {
   "cell_type": "code",
   "execution_count": 8,
   "id": "07b67841",
   "metadata": {
    "id": "0d9287d4"
   },
   "outputs": [],
   "source": [
    "def prime():\n",
    "    num=int(input('数字を入力してください'))\n",
    "    for i in range(2,num):\n",
    "        if num%i==0:\n",
    "            return '素数ではありません'\n",
    "    return '素数です'"
   ]
  },
  {
   "cell_type": "markdown",
   "id": "44e66032",
   "metadata": {
    "id": "4511943a"
   },
   "source": [
    "完成した`prime`を適当な数値で試してみよう。29や57あたりが良いだろう。"
   ]
  },
  {
   "cell_type": "code",
   "execution_count": 10,
   "id": "5bf23ab0",
   "metadata": {
    "id": "53c3c6a7",
    "scrolled": true
   },
   "outputs": [
    {
     "name": "stdin",
     "output_type": "stream",
     "text": [
      "数字を入力してください 57\n"
     ]
    },
    {
     "data": {
      "text/plain": [
       "'素数ではありません'"
      ]
     },
     "execution_count": 10,
     "metadata": {},
     "output_type": "execute_result"
    }
   ],
   "source": [
    "prime()"
   ]
  },
  {
   "cell_type": "markdown",
   "id": "16dcb043",
   "metadata": {
    "id": "53e0be33"
   },
   "source": [
    "## 2. 例外処理:tryとexcept\n",
    "\n",
    "関数を考える際は、「どんなエラーがあり得るだろうか？」と考えて、対応できるように改良しておくと良い。\n",
    "\n",
    "今回は上で作った関数`prime`に対して、「例外処理」を実行できるのが`try`と`except`だ。\n",
    "\n",
    "具体的には、以下のように使用する。\n",
    "\n",
    "```\n",
    "try: \n",
    "    例外が発生するかもしれないが、実行したい処理。\n",
    "except エラー名:\n",
    "    例外発生時に行う処理\n",
    "else:\n",
    "    例外が発生しなかった場合に行う処理\n",
    "```"
   ]
  },
  {
   "cell_type": "markdown",
   "id": "c9564e9c",
   "metadata": {},
   "source": [
    "【例題】`input`で入力を受け取ってint型に変換し、3倍にして表示する処理を書いてみよう。ただし、int型に変換できない文字列（0や1ではなく、ただの文字）が入力された場合に「Error！」と表示するようにしよう。"
   ]
  },
  {
   "cell_type": "code",
   "execution_count": 13,
   "id": "7c145058",
   "metadata": {},
   "outputs": [
    {
     "name": "stdin",
     "output_type": "stream",
     "text": [
      "数字を入力してください 3\n"
     ]
    },
    {
     "name": "stdout",
     "output_type": "stream",
     "text": [
      "9\n"
     ]
    }
   ],
   "source": [
    "num=input('数字を入力してください')\n",
    "try:\n",
    "    n=int(num)\n",
    "except ValueError:\n",
    "    print('Error!')\n",
    "else:\n",
    "    print(n*3)"
   ]
  },
  {
   "cell_type": "markdown",
   "id": "c33a9cf3",
   "metadata": {
    "id": "53e0be33"
   },
   "source": [
    "【問題】関数`prime`について、`input`でint型に変換できない文字列（0や1ではなく、ただの文字）が入力された場合を考える。\n",
    "\n",
    "このときに「入力が数字ではありません」と返す処理を追加しよう。"
   ]
  },
  {
   "cell_type": "code",
   "execution_count": 23,
   "id": "186d9e87",
   "metadata": {
    "id": "40d0e048"
   },
   "outputs": [],
   "source": [
    "def prime():\n",
    "    num=input('数字を入力してください')\n",
    "    try:\n",
    "        n=int(num)\n",
    "    except ValueError:\n",
    "        print('入力が数字ではありません')\n",
    "    else:\n",
    "        for i in range(2,n):\n",
    "            if n%i==0:\n",
    "                return '素数ではありません'\n",
    "        return '素数です'"
   ]
  },
  {
   "cell_type": "markdown",
   "id": "e7318513",
   "metadata": {
    "id": "83daf81f"
   },
   "source": [
    "実験として、改良した関数`prime`に「Hello」と入力してみよう。"
   ]
  },
  {
   "cell_type": "code",
   "execution_count": 24,
   "id": "04e3b5f6",
   "metadata": {
    "id": "9d34df44",
    "scrolled": true
   },
   "outputs": [
    {
     "name": "stdin",
     "output_type": "stream",
     "text": [
      "数字を入力してください Hello\n"
     ]
    },
    {
     "name": "stdout",
     "output_type": "stream",
     "text": [
      "入力が数字ではありません\n"
     ]
    }
   ],
   "source": [
    "prime()"
   ]
  },
  {
   "cell_type": "markdown",
   "id": "9330b4eb",
   "metadata": {
    "id": "6b7d8ec8"
   },
   "source": [
    "## 3.さらに改良してみる\n",
    "\n",
    "これで一応は関数が完成したわけだが、ただ素数かどうか判定するだけでは物足りないと思うかもしれない。\n",
    "\n",
    "そこで、素数でない場合に、入力した数の約数を返すように関数を改良しよう。"
   ]
  },
  {
   "cell_type": "markdown",
   "id": "5f4d7936",
   "metadata": {
    "id": "fc0469bc"
   },
   "source": [
    "【問題】`input`で入力した整数が素数でない場合に、約数を返すように改良しよう\n",
    "\n",
    "ヒント：割り切れるか判定するfor文の途中で、割り切れた数を空のリストに追加するように処理させる。"
   ]
  },
  {
   "cell_type": "code",
   "execution_count": 25,
   "id": "85500749",
   "metadata": {
    "id": "97de3110"
   },
   "outputs": [],
   "source": [
    "def prime():\n",
    "    num=input('数字を入力してください')\n",
    "    try:\n",
    "        n=int(num)\n",
    "    except ValueError:\n",
    "        print('入力が数字ではありません')\n",
    "    else:\n",
    "        div=[]\n",
    "        for i in range(2,n):\n",
    "            if n%i==0:\n",
    "                div.append(i)\n",
    "        if div==[]:\n",
    "            return '素数です'\n",
    "        else:\n",
    "            return div"
   ]
  },
  {
   "cell_type": "markdown",
   "id": "9714b664",
   "metadata": {
    "id": "1e228e34"
   },
   "source": [
    "完成したら、適当な数で試してみよう。"
   ]
  },
  {
   "cell_type": "code",
   "execution_count": 26,
   "id": "c2c952d4",
   "metadata": {
    "id": "5ce0f5aa"
   },
   "outputs": [
    {
     "name": "stdin",
     "output_type": "stream",
     "text": [
      "数字を入力してください 10\n"
     ]
    },
    {
     "data": {
      "text/plain": [
       "[2, 5]"
      ]
     },
     "execution_count": 26,
     "metadata": {},
     "output_type": "execute_result"
    }
   ],
   "source": [
    "prime()"
   ]
  },
  {
   "cell_type": "code",
   "execution_count": 27,
   "id": "73542872",
   "metadata": {
    "id": "8bf3cfc2"
   },
   "outputs": [
    {
     "name": "stdin",
     "output_type": "stream",
     "text": [
      "数字を入力してください 37\n"
     ]
    },
    {
     "data": {
      "text/plain": [
       "'素数です'"
      ]
     },
     "execution_count": 27,
     "metadata": {},
     "output_type": "execute_result"
    }
   ],
   "source": [
    "prime()"
   ]
  },
  {
   "cell_type": "code",
   "execution_count": null,
   "id": "cf8c16d7",
   "metadata": {
    "id": "09af0c81"
   },
   "outputs": [],
   "source": []
  }
 ],
 "metadata": {
  "colab": {
   "provenance": []
  },
  "kernelspec": {
   "display_name": "Python 3 (ipykernel)",
   "language": "python",
   "name": "python3"
  },
  "language_info": {
   "codemirror_mode": {
    "name": "ipython",
    "version": 3
   },
   "file_extension": ".py",
   "mimetype": "text/x-python",
   "name": "python",
   "nbconvert_exporter": "python",
   "pygments_lexer": "ipython3",
   "version": "3.10.12"
  },
  "vscode": {
   "interpreter": {
    "hash": "f25b26b4ea7004765cfa1e96cf36e4bfdb1569f2ca834d9e6ec0cf32829ced3d"
   }
  }
 },
 "nbformat": 4,
 "nbformat_minor": 5
}
