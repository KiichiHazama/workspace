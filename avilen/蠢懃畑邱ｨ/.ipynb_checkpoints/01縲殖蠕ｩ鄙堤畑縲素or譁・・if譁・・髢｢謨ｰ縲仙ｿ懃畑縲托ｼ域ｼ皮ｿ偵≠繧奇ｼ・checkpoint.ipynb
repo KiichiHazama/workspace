{
 "cells": [
  {
   "cell_type": "markdown",
   "id": "9eb24732",
   "metadata": {
    "id": "cf1971bf"
   },
   "source": [
    "# for文・if文を応用した関数\n",
    "\n",
    "---\n",
    "\n",
    "ここからはPythonの応用プログラミングについて学んでいく。最初のテーマは「for文・if文」だ。\n",
    "\n",
    "どのプログラミング言語でも頻出する「繰り返し」と「条件分岐」は、さまざまな応用例が存在する。\n",
    "\n",
    "その応用例をいくつか練習しよう。"
   ]
  },
  {
   "cell_type": "markdown",
   "id": "bffd0318",
   "metadata": {
    "id": "18031a52"
   },
   "source": [
    "## 1. for文の応用\n",
    "\n",
    "【例題】for文を使って1～50の足し算をしてみよう"
   ]
  },
  {
   "cell_type": "code",
   "execution_count": 1,
   "id": "22966f2e",
   "metadata": {
    "id": "03f76117"
   },
   "outputs": [
    {
     "name": "stdout",
     "output_type": "stream",
     "text": [
      "1275\n"
     ]
    }
   ],
   "source": [
    "sum=0\n",
    "for i in range(1,51):\n",
    "    sum+=i\n",
    "print(sum)"
   ]
  },
  {
   "cell_type": "markdown",
   "id": "74411e99",
   "metadata": {
    "id": "c025049b"
   },
   "source": [
    "pythonのインデックスが0から始まるため、iは`range(51)`の範囲で指定する。"
   ]
  },
  {
   "cell_type": "markdown",
   "id": "8b067d36",
   "metadata": {
    "id": "f79213f3"
   },
   "source": [
    "【問題】for文を使って、1～50の掛け算をコーディングしてみよう"
   ]
  },
  {
   "cell_type": "code",
   "execution_count": 2,
   "id": "8c9568d0",
   "metadata": {
    "id": "cb8c6c58"
   },
   "outputs": [
    {
     "name": "stdout",
     "output_type": "stream",
     "text": [
      "30414093201713378043612608166064768844377641568960512000000000000\n"
     ]
    }
   ],
   "source": [
    "sum=1\n",
    "for i in range(1,51):\n",
    "    sum*=i\n",
    "print(sum)"
   ]
  },
  {
   "cell_type": "markdown",
   "id": "11195c3e",
   "metadata": {
    "id": "e5451b75"
   },
   "source": [
    "## 2. for文+if文の応用\n",
    "\n",
    "次に、for文とif文を組み合わせてさらに高度なプログラムを書いてみよう。\n",
    "\n",
    "【例題】1～30の数字について、3の倍数のときだけBuzzと表示、それ以外はその数字を表示するようなプログラムを書いてみよう。"
   ]
  },
  {
   "cell_type": "code",
   "execution_count": 3,
   "id": "1301b800",
   "metadata": {
    "id": "76bfc75c"
   },
   "outputs": [
    {
     "name": "stdout",
     "output_type": "stream",
     "text": [
      "1\n",
      "2\n",
      "Buzz\n",
      "4\n",
      "5\n",
      "Buzz\n",
      "7\n",
      "8\n",
      "Buzz\n",
      "10\n",
      "11\n",
      "Buzz\n",
      "13\n",
      "14\n",
      "Buzz\n",
      "16\n",
      "17\n",
      "Buzz\n",
      "19\n",
      "20\n",
      "Buzz\n",
      "22\n",
      "23\n",
      "Buzz\n",
      "25\n",
      "26\n",
      "Buzz\n",
      "28\n",
      "29\n",
      "Buzz\n"
     ]
    }
   ],
   "source": [
    "for i in range(1,31):\n",
    "    if i % 3 == 0:\n",
    "        print('Buzz')\n",
    "    else:\n",
    "        print(i)"
   ]
  },
  {
   "cell_type": "markdown",
   "id": "2c2e9e81",
   "metadata": {
    "id": "7b0da718"
   },
   "source": [
    "`i % 3 == 0`はiが3で割り切れるかどうかを判断する条件だ。\n",
    "\n",
    "`range(1,31,1)`でインデックス`i`を1から始めているのもポイント。\n",
    "\n",
    "これを応用して、「Fizzbuzz」と呼ばれる高度な課題にチャレンジしてみよう。"
   ]
  },
  {
   "cell_type": "markdown",
   "id": "990fd933",
   "metadata": {
    "id": "dfddea27"
   },
   "source": [
    "【問題】1～30までの数を出力したい。ただし、3の倍数なら代わりにFizzを、5の倍数なら代わりにBuzzを、3の倍数でも5の倍数でもあるなら代わりにFizzBuzzを出力したい。\n",
    "\n",
    "【ヒント】\n",
    "- ”%”であまりが求められる\n",
    "- nがmの倍数であるとは、nをmで割ったあまりが0ということ\n",
    "- 条件式の複合はandやorを使用する"
   ]
  },
  {
   "cell_type": "code",
   "execution_count": 8,
   "id": "f6f18def",
   "metadata": {
    "id": "901fc958"
   },
   "outputs": [
    {
     "name": "stdout",
     "output_type": "stream",
     "text": [
      "1\n",
      "2\n",
      "Fizz\n",
      "4\n",
      "Buzz\n",
      "Fizz\n",
      "7\n",
      "8\n",
      "Fizz\n",
      "Buzz\n",
      "11\n",
      "Fizz\n",
      "13\n",
      "14\n",
      "FizzBuzz\n",
      "16\n",
      "17\n",
      "Fizz\n",
      "19\n",
      "Buzz\n",
      "Fizz\n",
      "22\n",
      "23\n",
      "Fizz\n",
      "Buzz\n",
      "26\n",
      "Fizz\n",
      "28\n",
      "29\n",
      "FizzBuzz\n"
     ]
    }
   ],
   "source": [
    "for i in range(1,31):\n",
    "    string=''\n",
    "    if i%3==0:\n",
    "        string='Fizz'\n",
    "    if i%5==0:\n",
    "        string+='Buzz'\n",
    "    if string == '':\n",
    "        string=str(i)\n",
    "    print(string)"
   ]
  },
  {
   "cell_type": "markdown",
   "id": "68a0bc74",
   "metadata": {
    "id": "30bd7b02"
   },
   "source": [
    "## 3.while文 "
   ]
  },
  {
   "cell_type": "markdown",
   "id": "a782a56a",
   "metadata": {
    "id": "bcff1edc"
   },
   "source": [
    "for文、if文の派生版としてwhile文というものがある。\n",
    "\n",
    "まずはこれの使い方を見ていこう。"
   ]
  },
  {
   "cell_type": "markdown",
   "id": "3289a465",
   "metadata": {
    "id": "13ca005c"
   },
   "source": [
    "【例題】while文で0～4の数値を連続でprintしてみよう"
   ]
  },
  {
   "cell_type": "code",
   "execution_count": 4,
   "id": "03849afc",
   "metadata": {
    "id": "685040c3"
   },
   "outputs": [
    {
     "name": "stdout",
     "output_type": "stream",
     "text": [
      "0\n",
      "1\n",
      "2\n",
      "3\n",
      "4\n"
     ]
    }
   ],
   "source": [
    "num=0\n",
    "while(num<5):\n",
    "    print(num)\n",
    "    num+=1"
   ]
  },
  {
   "cell_type": "markdown",
   "id": "c0bc35c1",
   "metadata": {
    "id": "13c6bc37"
   },
   "source": [
    "基本的な書き方は以下の通りだ。\n",
    "\n",
    "- 1行目：`while (条件文):`→今回は`num<5`\n",
    "- 2行目以降：繰り返したい処理→今回は`print`\n",
    "\n",
    "こうすると、条件文の中身の結果が`True`である限り、永遠に2行目以降の処理を繰り返し続ける。\n",
    "\n",
    "条件文の中身はbool型で`True`か`False`を出力できるものであればOKだ。\n",
    "\n",
    "`while True`だと永遠に実行し続け、`while False`だと永遠に実行しないプログラムとなる。"
   ]
  },
  {
   "cell_type": "markdown",
   "id": "0890b2a7",
   "metadata": {
    "id": "82bd8319"
   },
   "source": [
    "【例題】while文で「Hello」を10回連続でprintしてみよう"
   ]
  },
  {
   "cell_type": "code",
   "execution_count": 6,
   "id": "3fc0efdf",
   "metadata": {
    "id": "94ce3b86"
   },
   "outputs": [
    {
     "name": "stdout",
     "output_type": "stream",
     "text": [
      "Hello\n",
      "Hello\n",
      "Hello\n",
      "Hello\n",
      "Hello\n",
      "Hello\n",
      "Hello\n",
      "Hello\n",
      "Hello\n",
      "Hello\n"
     ]
    }
   ],
   "source": [
    "i=0\n",
    "while(i<10):\n",
    "    print('Hello')\n",
    "    i+=1"
   ]
  },
  {
   "cell_type": "markdown",
   "id": "8b6ec22f",
   "metadata": {
    "id": "99cd3453"
   },
   "source": [
    "### ループ終了後の処理:else\n",
    "\n",
    "while文によるループが条件式が偽Falseになるまで正常に実行された後に何らかの処理を行いたい場合は`else`を使う。"
   ]
  },
  {
   "cell_type": "code",
   "execution_count": 10,
   "id": "e6396e38",
   "metadata": {
    "id": "1394362b"
   },
   "outputs": [
    {
     "name": "stdout",
     "output_type": "stream",
     "text": [
      "0\n",
      "1\n",
      "2\n",
      "!!FINISH!!\n"
     ]
    }
   ],
   "source": [
    "i=0\n",
    "while i<3:\n",
    "    print(i)\n",
    "    i+=1\n",
    "else:\n",
    "    print('!!FINISH!!')"
   ]
  },
  {
   "cell_type": "markdown",
   "id": "1bffbfe9",
   "metadata": {
    "id": "efc59506"
   },
   "source": [
    "このように条件文の中身を変えることで、さまざまな繰り返し処理をコーディングできるのがwhile文の強みだ。\n",
    "\n",
    "しかし、条件式を単に`True`にしてしまうと、永遠に処理を繰り返して終わらないプログラムになってしまう。\n",
    "\n",
    "そこで、処理にインターバルを作ったり、強制終了したりする手段を覚えよう。"
   ]
  },
  {
   "cell_type": "markdown",
   "id": "b2ebd22d",
   "metadata": {
    "id": "90b7041a"
   },
   "source": [
    "### time.sleep()関数\n",
    "\n",
    "timeライブラリに存在する`time.sleep()`関数は、()内の指定した秒数だけ処理をストップする機能を持つ。\n",
    "\n",
    "これを最初の例題に組み込んで、3秒のインターバルを設けてみよう。"
   ]
  },
  {
   "cell_type": "code",
   "execution_count": 11,
   "id": "b2738b4a",
   "metadata": {
    "id": "2382ac4d"
   },
   "outputs": [
    {
     "name": "stdout",
     "output_type": "stream",
     "text": [
      "0\n",
      "1\n",
      "2\n",
      "3\n",
      "4\n"
     ]
    }
   ],
   "source": [
    "import time\n",
    "\n",
    "num=0\n",
    "while(num<5):\n",
    "    print(num)\n",
    "    num+=1\n",
    "    time.sleep(3)"
   ]
  },
  {
   "cell_type": "markdown",
   "id": "a0e5829d",
   "metadata": {
    "id": "52549723"
   },
   "source": [
    "関数の処理としては同じだが、インターバルで3秒ごとに1回ずつ処理を行っていることが分かるはずだ。\n",
    "\n",
    "複雑なプログラミングになると外部ツールなどを応用するため、時間当たりにできる処理回数が制限されることがある。\n",
    "\n",
    "そんなときに便利なのがこの`time.sleep()`だ。"
   ]
  },
  {
   "cell_type": "markdown",
   "id": "dd823b32",
   "metadata": {
    "id": "0d288cb5"
   },
   "source": [
    "### if文 + breakによる強制終了\n",
    "\n",
    "`break`を使うと、if文である条件に達した場合に処理を強制終了できる。"
   ]
  },
  {
   "cell_type": "code",
   "execution_count": 12,
   "id": "4ad72a16",
   "metadata": {
    "id": "1dc10f9a"
   },
   "outputs": [
    {
     "name": "stdout",
     "output_type": "stream",
     "text": [
      "0\n",
      "1\n",
      "2\n",
      "3\n",
      "4\n",
      "5\n",
      "6\n",
      "7\n",
      "8\n",
      "9\n",
      "10\n"
     ]
    }
   ],
   "source": [
    "num=0\n",
    "while True:\n",
    "    print(num)\n",
    "    num+=1\n",
    "    if num>10:\n",
    "        break"
   ]
  },
  {
   "cell_type": "markdown",
   "id": "19c47520",
   "metadata": {
    "id": "64356dc8"
   },
   "source": [
    "上のコードでは、`num`が10以上になると強制終了される。`これはfor i in range(11):`と同じ挙動だ。\n",
    "\n",
    "うっかり`while True`を書いてしまう、もしくは常に成り立つような条件文を書いてしまうと無限ループに入ってしまう。\n",
    "\n",
    "`break`は緊急用にあらかじめ作っておいた方が安全だ。"
   ]
  }
 ],
 "metadata": {
  "colab": {
   "provenance": []
  },
  "kernelspec": {
   "display_name": "Python 3 (ipykernel)",
   "language": "python",
   "name": "python3"
  },
  "language_info": {
   "codemirror_mode": {
    "name": "ipython",
    "version": 3
   },
   "file_extension": ".py",
   "mimetype": "text/x-python",
   "name": "python",
   "nbconvert_exporter": "python",
   "pygments_lexer": "ipython3",
   "version": "3.10.12"
  }
 },
 "nbformat": 4,
 "nbformat_minor": 5
}
