{
 "cells": [
  {
   "cell_type": "markdown",
   "id": "755eb003",
   "metadata": {
    "id": "523e5f96"
   },
   "source": [
    "# 関数の応用\n",
    "\n",
    "この章では、基礎編で作った年齢・曜日から入場料を出す関数を改良して、抽選やクーポンを取り入れてみよう。\n",
    "\n",
    "まずは基本となる関数をおさらいする。"
   ]
  },
  {
   "cell_type": "markdown",
   "id": "08a1a4ff",
   "metadata": {
    "id": "e05a47e6"
   },
   "source": [
    "## 1. 関数のおさらい\n",
    "\n",
    "【例題】遊園地Yは経営難となり、休日の入場料を2割増しにした。3歳以下は無料、60歳以上は半額である。\n",
    "\n",
    "基本料金を1800円、平日を0、休日を1として、「年齢」と「曜日区分」を入力すると正しい入場料を返す関数```yomiuri```を作ろう。"
   ]
  },
  {
   "cell_type": "code",
   "execution_count": 14,
   "id": "3a5cc786",
   "metadata": {
    "id": "757f6c61"
   },
   "outputs": [],
   "source": [
    "def yomiuri(age,day):\n",
    "    base = 1800\n",
    "    if age<=3:\n",
    "        price = 0\n",
    "    elif age>=60 and day==0 :\n",
    "        price = base/2\n",
    "    elif age>=60 and day==1:\n",
    "        price = base*1.2/2\n",
    "    elif 3<age<60 and day==1:\n",
    "        price = base*1.2\n",
    "    else:\n",
    "        price = base\n",
    "    print(age,\"歳の入場料は\",price,\"円です\")"
   ]
  },
  {
   "cell_type": "markdown",
   "id": "506ad13a",
   "metadata": {
    "id": "c7d4ff5a"
   },
   "source": [
    "このようにif文と`elif`や`else`などを組み合わせて、複雑な条件分岐の関数を作った。ここからさらに高度にしていこう。"
   ]
  },
  {
   "cell_type": "markdown",
   "id": "3c7a4a1a",
   "metadata": {
    "id": "7c434a3f"
   },
   "source": [
    "## 2. キャンペーンの導入(抽選とクーポン)\n",
    "\n",
    "【例題】遊園地Yでは、入場者は1/10の確率で当たるくじを引き、当選者にクーポンを配布するキャンペーンを開始した。\n",
    "\n",
    "くじの当選有無も出力できるように関数`yomiuri`を改良しよう。"
   ]
  },
  {
   "cell_type": "markdown",
   "id": "01242308",
   "metadata": {
    "id": "5f8c100b"
   },
   "source": [
    "### 複数の返り値を持つ関数\n",
    "\n",
    "関数を作る際は、入力と出力の確認が大切だ。\n",
    "\n",
    "今回の関数では、入力は「年齢」と「平日か休日か」という変数。\n",
    "\n",
    "出力は「入場料」と「クーポンの当選有無」になっている。\n",
    "\n",
    "このように出力、つまり返り値が複数ある場合は、関数の記述方法が少し変わる。\n",
    "\n",
    "以下の簡単な例を見てみよう。"
   ]
  },
  {
   "cell_type": "code",
   "execution_count": 15,
   "id": "b635a875",
   "metadata": {
    "id": "f7d902a0"
   },
   "outputs": [],
   "source": [
    "def test():\n",
    "    return 'abc', 100"
   ]
  },
  {
   "cell_type": "code",
   "execution_count": 16,
   "id": "114f9857",
   "metadata": {
    "id": "d42d2230"
   },
   "outputs": [
    {
     "data": {
      "text/plain": [
       "('abc', 100)"
      ]
     },
     "execution_count": 16,
     "metadata": {},
     "output_type": "execute_result"
    }
   ],
   "source": [
    "test()"
   ]
  },
  {
   "cell_type": "markdown",
   "id": "89da4932",
   "metadata": {
    "id": "ec5b08ec"
   },
   "source": [
    "このように、returnの部分にカンマ区切りで出力したい値を並べていけばよい。\n",
    "\n",
    "返り値はリスト形式で与えられるため、インデックスを指定して片方のみの返り値を呼び出すこともできる。"
   ]
  },
  {
   "cell_type": "code",
   "execution_count": 17,
   "id": "ee9078d2",
   "metadata": {
    "id": "aca03b99"
   },
   "outputs": [
    {
     "data": {
      "text/plain": [
       "'abc'"
      ]
     },
     "execution_count": 17,
     "metadata": {},
     "output_type": "execute_result"
    }
   ],
   "source": [
    "test()[0]"
   ]
  },
  {
   "cell_type": "code",
   "execution_count": 18,
   "id": "9d666da1",
   "metadata": {
    "id": "911e6a7a"
   },
   "outputs": [
    {
     "data": {
      "text/plain": [
       "100"
      ]
     },
     "execution_count": 18,
     "metadata": {},
     "output_type": "execute_result"
    }
   ],
   "source": [
    "test()[1]"
   ]
  },
  {
   "cell_type": "markdown",
   "id": "a735206f",
   "metadata": {
    "id": "af82e81a"
   },
   "source": [
    "このように2つ以上の要素が組み合わさって出力されたものを「タプル」と呼ぶ。\n",
    "\n",
    "当選有無の出力はこれで解決できそうだ。"
   ]
  },
  {
   "cell_type": "markdown",
   "id": "35c6a1df",
   "metadata": {
    "id": "97028f83"
   },
   "source": [
    "### 抽選の実装：random\n",
    "\n",
    "次に、抽選部分をコーディングしていく。ここでは`random`というライブラリを使用する。\n",
    "\n",
    "`random.random()`という関数では、乱数によってランダムな値を算出することができる。\n",
    "\n",
    "以下のセルを何度か実行してみよう。異なる値を出力するはずだ。"
   ]
  },
  {
   "cell_type": "code",
   "execution_count": 19,
   "id": "e0fc1115",
   "metadata": {
    "id": "49f5a98a"
   },
   "outputs": [
    {
     "name": "stdout",
     "output_type": "stream",
     "text": [
      "0.9285505598934736\n"
     ]
    }
   ],
   "source": [
    "import random\n",
    "print(random.random())"
   ]
  },
  {
   "cell_type": "markdown",
   "id": "6fc61a9b",
   "metadata": {
    "id": "204fbf73"
   },
   "source": [
    "この`random.random()`という関数では0.0～1.0までの値がランダムで出力できる。\n",
    "\n",
    "ということは、「乱数の値が0.1以下になる」という条件にすれば、1/10の確率での当選を実装できるということになる。"
   ]
  },
  {
   "cell_type": "markdown",
   "id": "2a690a73",
   "metadata": {
    "id": "4b188d17"
   },
   "source": [
    "【問題】乱数の値が0.1以下なら「当選！」で、それ以下なら「残念…」と出力するプログラムを作成しよう。"
   ]
  },
  {
   "cell_type": "code",
   "execution_count": 13,
   "id": "b466d236",
   "metadata": {
    "id": "280dde7b"
   },
   "outputs": [
    {
     "name": "stdout",
     "output_type": "stream",
     "text": [
      "当選!\n"
     ]
    }
   ],
   "source": [
    "output=random.random()\n",
    "if output<=0.1:\n",
    "    print('当選!')\n",
    "else:\n",
    "    print('残念...')"
   ]
  },
  {
   "cell_type": "markdown",
   "id": "2ee222ce",
   "metadata": {
    "id": "1c701b71"
   },
   "source": [
    "こうすると、抽選機能を実装できたことになる。あとはこれをもとの関数に組み込むだけだ。"
   ]
  },
  {
   "cell_type": "code",
   "execution_count": 20,
   "id": "bd2790c7",
   "metadata": {
    "id": "e668d1da"
   },
   "outputs": [],
   "source": [
    "def yomiuri2(age,day):\n",
    "    base = 1800\n",
    "    if age<=3:\n",
    "        price = 0\n",
    "    elif age>=60 and day==0 :\n",
    "        price = base/2\n",
    "    elif age>=60 and day==1:\n",
    "        price = base*1.2/2\n",
    "    elif 3<age<60 and day==1:\n",
    "        price = base*1.2\n",
    "    else:\n",
    "        price = base\n",
    "        \n",
    "    coupon=random.random()\n",
    "    if coupon<=0.1:\n",
    "        message='当選！'\n",
    "    else:\n",
    "        message='残念...'\n",
    "        \n",
    "    return price, message"
   ]
  },
  {
   "cell_type": "markdown",
   "id": "a186d59f",
   "metadata": {
    "id": "33d5dfc0"
   },
   "source": [
    "【問題】さまざまな条件で関数`yomiuri2`を試してみよう"
   ]
  },
  {
   "cell_type": "code",
   "execution_count": 21,
   "id": "65088828",
   "metadata": {
    "id": "a5e915b8"
   },
   "outputs": [
    {
     "data": {
      "text/plain": [
       "(0, '当選！')"
      ]
     },
     "execution_count": 21,
     "metadata": {},
     "output_type": "execute_result"
    }
   ],
   "source": [
    "yomiuri2(2,1)"
   ]
  },
  {
   "cell_type": "code",
   "execution_count": 22,
   "id": "fc7c9d53",
   "metadata": {
    "id": "831dfb68"
   },
   "outputs": [
    {
     "data": {
      "text/plain": [
       "(900.0, '残念...')"
      ]
     },
     "execution_count": 22,
     "metadata": {},
     "output_type": "execute_result"
    }
   ],
   "source": [
    "yomiuri2(65,0)"
   ]
  },
  {
   "cell_type": "code",
   "execution_count": 23,
   "id": "e34d7fa9",
   "metadata": {
    "id": "b1475dbb"
   },
   "outputs": [
    {
     "data": {
      "text/plain": [
       "(2160.0, '残念...')"
      ]
     },
     "execution_count": 23,
     "metadata": {},
     "output_type": "execute_result"
    }
   ],
   "source": [
    "yomiuri2(20,1)"
   ]
  },
  {
   "cell_type": "markdown",
   "id": "d5c82ec9",
   "metadata": {
    "id": "9a7d43ea"
   },
   "source": [
    "これを応用することで、当選確率を自由に操作できる。最後の問題としてやってみよう。"
   ]
  },
  {
   "cell_type": "markdown",
   "id": "c44d689c",
   "metadata": {
    "id": "799f1e5b"
   },
   "source": [
    "【問題】当選確率`p`を引数に組み込み、自由に設定できる関数`yomiuri3`を作ろう"
   ]
  },
  {
   "cell_type": "code",
   "execution_count": 25,
   "id": "acebeb13",
   "metadata": {
    "id": "535f8363"
   },
   "outputs": [],
   "source": [
    "def yomiuri3(age,day,p):\n",
    "    base = 1800\n",
    "    if age<=3:\n",
    "        price = 0\n",
    "    elif age>=60 and day==0 :\n",
    "        price = base/2\n",
    "    elif age>=60 and day==1:\n",
    "        price = base*1.2/2\n",
    "    elif 3<age<60 and day==1:\n",
    "        price = base*1.2\n",
    "    else:\n",
    "        price = base\n",
    "        \n",
    "    coupon=random.random()\n",
    "    if coupon<=p:\n",
    "        message='当選！'\n",
    "    else:\n",
    "        message='残念...'\n",
    "        \n",
    "    return price, message"
   ]
  },
  {
   "cell_type": "code",
   "execution_count": 26,
   "id": "3c675de4",
   "metadata": {
    "id": "e8f1fa27"
   },
   "outputs": [
    {
     "data": {
      "text/plain": [
       "(1800, '当選！')"
      ]
     },
     "execution_count": 26,
     "metadata": {},
     "output_type": "execute_result"
    }
   ],
   "source": [
    "yomiuri3(20,0,0.5)"
   ]
  },
  {
   "cell_type": "code",
   "execution_count": 27,
   "id": "20907e48",
   "metadata": {
    "id": "e28f2bab"
   },
   "outputs": [
    {
     "data": {
      "text/plain": [
       "(1800, '残念...')"
      ]
     },
     "execution_count": 27,
     "metadata": {},
     "output_type": "execute_result"
    }
   ],
   "source": [
    "yomiuri3(21,0,0.5)"
   ]
  },
  {
   "cell_type": "markdown",
   "id": "be57e6bd",
   "metadata": {
    "id": "ce075a63"
   },
   "source": [
    "#### 補足\n",
    "\n",
    "当選確率は動かせるが、あまり頻繁には動かさない場合、関数の引数部分にデフォルトの値を設定できる。\n",
    "\n",
    "こうすると、pを設定せずに関数を使用した場合にデフォルトの値が参照される。\n",
    "\n",
    "関数を作る際にたまに使用するので、ぜひ覚えておこう。"
   ]
  },
  {
   "cell_type": "code",
   "execution_count": 28,
   "id": "a03d44fc",
   "metadata": {
    "id": "6f5c0f90"
   },
   "outputs": [],
   "source": [
    "def yomiuri3(age,day,p=0.1):\n",
    "    base = 1800\n",
    "    if age<=3:\n",
    "        price = 0\n",
    "    elif age>=60 and day==0 :\n",
    "        price = base/2\n",
    "    elif age>=60 and day==1:\n",
    "        price = base*1.2/2\n",
    "    elif 3<age<60 and day==1:\n",
    "        price = base*1.2\n",
    "    else:\n",
    "        price = base\n",
    "        \n",
    "    coupon=random.random()\n",
    "    if coupon<=p:\n",
    "        message='当選！'\n",
    "    else:\n",
    "        message='残念...'\n",
    "        \n",
    "    return price, message"
   ]
  },
  {
   "cell_type": "code",
   "execution_count": null,
   "id": "433b53b3",
   "metadata": {},
   "outputs": [],
   "source": []
  }
 ],
 "metadata": {
  "colab": {
   "provenance": []
  },
  "kernelspec": {
   "display_name": "Python 3 (ipykernel)",
   "language": "python",
   "name": "python3"
  },
  "language_info": {
   "codemirror_mode": {
    "name": "ipython",
    "version": 3
   },
   "file_extension": ".py",
   "mimetype": "text/x-python",
   "name": "python",
   "nbconvert_exporter": "python",
   "pygments_lexer": "ipython3",
   "version": "3.10.12"
  }
 },
 "nbformat": 4,
 "nbformat_minor": 5
}
