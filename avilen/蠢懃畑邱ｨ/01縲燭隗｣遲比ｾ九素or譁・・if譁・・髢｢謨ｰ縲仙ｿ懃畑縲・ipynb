{
 "cells": [
  {
   "cell_type": "markdown",
   "id": "0f1a6318",
   "metadata": {},
   "source": [
    "# for文・if文を応用した関数\n",
    "\n",
    "---\n",
    "\n",
    "ここからはPythonの応用プログラミングについて学んでいく。最初のテーマは「for文・if文」だ。\n",
    "\n",
    "どのプログラミング言語でも頻出する「繰り返し」と「条件分岐」は、さまざまな応用例が存在する。\n",
    "\n",
    "その応用例をいくつか練習しよう。"
   ]
  },
  {
   "cell_type": "markdown",
   "id": "38e8df39",
   "metadata": {},
   "source": [
    "## 1. for文の応用\n",
    "\n",
    "【例題】for文を使って1～50の足し算をしてみよう"
   ]
  },
  {
   "cell_type": "code",
   "execution_count": 3,
   "id": "728c5ce0",
   "metadata": {},
   "outputs": [
    {
     "name": "stdout",
     "output_type": "stream",
     "text": [
      "1275\n"
     ]
    }
   ],
   "source": [
    "sum = 0\n",
    "for i in range(51):\n",
    "    sum += i\n",
    "print(sum)"
   ]
  },
  {
   "cell_type": "markdown",
   "id": "d6488729",
   "metadata": {},
   "source": [
    "pythonのインデックスが0から始まるため、iは`range(51)`の範囲で指定する。"
   ]
  },
  {
   "cell_type": "markdown",
   "id": "9dd18122",
   "metadata": {},
   "source": [
    "【問題】for文を使って、1～50の掛け算をコーディングしてみよう"
   ]
  },
  {
   "cell_type": "code",
   "execution_count": 3,
   "id": "1a4f6e1a",
   "metadata": {},
   "outputs": [
    {
     "name": "stdout",
     "output_type": "stream",
     "text": [
      "30414093201713378043612608166064768844377641568960512000000000000\n"
     ]
    }
   ],
   "source": [
    "sum = 1\n",
    "for i in range(50):\n",
    "    sum = sum*(i+1)\n",
    "print(sum)"
   ]
  },
  {
   "cell_type": "markdown",
   "id": "271f6b43",
   "metadata": {},
   "source": [
    "スタートの変数`sum`が0だと掛け算が0になって成り立たない。\n",
    "\n",
    "また、インデックス`i`が0だと、これまた掛け算が全て0になる。\n",
    "\n",
    "よって`sum`を1にして、`i+1`の掛け算に書き直すのがポイントだ。"
   ]
  },
  {
   "cell_type": "markdown",
   "id": "e3f64f35",
   "metadata": {},
   "source": [
    "## 2. for文+if文の応用\n",
    "\n",
    "次に、for文とif文を組み合わせてさらに高度なプログラムを書いてみよう。\n",
    "\n",
    "【例題】1～30の数字について、3の倍数のときだけBuzzと表示、それ以外はその数字を表示するようなプログラムを書いてみよう。"
   ]
  },
  {
   "cell_type": "code",
   "execution_count": 11,
   "id": "062c1ca8",
   "metadata": {},
   "outputs": [
    {
     "name": "stdout",
     "output_type": "stream",
     "text": [
      "1\n",
      "2\n",
      "Buzz\n",
      "4\n",
      "5\n",
      "Buzz\n",
      "7\n",
      "8\n",
      "Buzz\n",
      "10\n",
      "11\n",
      "Buzz\n",
      "13\n",
      "14\n",
      "Buzz\n",
      "16\n",
      "17\n",
      "Buzz\n",
      "19\n",
      "20\n",
      "Buzz\n",
      "22\n",
      "23\n",
      "Buzz\n",
      "25\n",
      "26\n",
      "Buzz\n",
      "28\n",
      "29\n",
      "Buzz\n"
     ]
    }
   ],
   "source": [
    "for i in range(1, 31, 1):\n",
    "    if i % 3 == 0:\n",
    "        print('Buzz')\n",
    "    else:\n",
    "        print(i)"
   ]
  },
  {
   "cell_type": "markdown",
   "id": "7252a42c",
   "metadata": {},
   "source": [
    "`i % 3 == 0`はiが3で割り切れるかどうかを判断する条件だ。\n",
    "\n",
    "`range(1,31,1)`でインデックス`i`を1から始めているのもポイント。\n",
    "\n",
    "これを応用して、「Fizzbuzz」と呼ばれる高度な課題にチャレンジしてみよう。"
   ]
  },
  {
   "cell_type": "markdown",
   "id": "17a28587",
   "metadata": {},
   "source": [
    "【問題】1～30までの数を出力したい。ただし、3の倍数なら代わりにFizzを、5の倍数なら代わりにBuzzを、3の倍数でも5の倍数でもあるなら代わりにFizzBuzzを出力したい。\n",
    "\n",
    "【ヒント】\n",
    "- ”%”であまりが求められる\n",
    "- nがmの倍数であるとは、nをmで割ったあまりが0ということ\n",
    "- 条件式の複合はandやorを使用する"
   ]
  },
  {
   "cell_type": "code",
   "execution_count": null,
   "id": "c7f55b0c",
   "metadata": {},
   "outputs": [],
   "source": [
    "for i in range(1, 31, 1):\n",
    "    if i % 3 == 0 and i % 5 == 0:\n",
    "        print('FizzBuzz')\n",
    "    elif i % 3 == 0:\n",
    "        print('Fizz')\n",
    "    elif i % 5 == 0:\n",
    "        print('Buzz')\n",
    "    else:\n",
    "        print(i)"
   ]
  },
  {
   "cell_type": "markdown",
   "id": "7b200df1",
   "metadata": {},
   "source": [
    "## 3.while文 "
   ]
  },
  {
   "cell_type": "markdown",
   "id": "d193d2f3",
   "metadata": {},
   "source": [
    "for文、if文の派生版としてwhile文というものがある。\n",
    "\n",
    "まずはこれの使い方を見ていこう。"
   ]
  },
  {
   "cell_type": "markdown",
   "id": "e8b3b073",
   "metadata": {},
   "source": [
    "【例題】while文で0～4の数値を連続でprintしてみよう"
   ]
  },
  {
   "cell_type": "code",
   "execution_count": 4,
   "id": "1bbfcc14",
   "metadata": {},
   "outputs": [
    {
     "name": "stdout",
     "output_type": "stream",
     "text": [
      "0\n",
      "1\n",
      "2\n",
      "3\n",
      "4\n"
     ]
    }
   ],
   "source": [
    "num = 0\n",
    "while (num < 5):\n",
    "    print(num)\n",
    "    num += 1"
   ]
  },
  {
   "cell_type": "markdown",
   "id": "fefbabcd",
   "metadata": {},
   "source": [
    "基本的な書き方は以下の通りだ。\n",
    "\n",
    "- 1行目：`while (条件文):`→今回は`num<5`\n",
    "- 2行目以降：繰り返したい処理→今回は`print`\n",
    "\n",
    "こうすると、条件文の中身の結果が`True`である限り、永遠に2行目以降の処理を繰り返し続ける。\n",
    "\n",
    "条件文の中身はbool型で`True`か`False`を出力できるものであればOKだ。\n",
    "\n",
    "`while True`だと永遠に実行し続け、`while False`だと永遠に実行しないプログラムとなる。"
   ]
  },
  {
   "cell_type": "markdown",
   "id": "e8f486f0",
   "metadata": {},
   "source": [
    "【例題】while文で「Hello」を10回連続でprintしてみよう"
   ]
  },
  {
   "cell_type": "code",
   "execution_count": 5,
   "id": "70ca73c6",
   "metadata": {},
   "outputs": [
    {
     "name": "stdout",
     "output_type": "stream",
     "text": [
      "Hello\n",
      "Hello\n",
      "Hello\n",
      "Hello\n",
      "Hello\n",
      "Hello\n",
      "Hello\n",
      "Hello\n",
      "Hello\n",
      "Hello\n"
     ]
    }
   ],
   "source": [
    "num = 0\n",
    "while (num < 10):\n",
    "    print(\"Hello\")\n",
    "    num += 1"
   ]
  },
  {
   "cell_type": "markdown",
   "id": "f5be8ccc",
   "metadata": {},
   "source": [
    "### ループ終了後の処理:else\n",
    "\n",
    "while文によるループが条件式が偽Falseになるまで正常に実行された後に何らかの処理を行いたい場合は`else`を使う。"
   ]
  },
  {
   "cell_type": "code",
   "execution_count": 7,
   "id": "7f5dcb18",
   "metadata": {},
   "outputs": [
    {
     "name": "stdout",
     "output_type": "stream",
     "text": [
      "0\n",
      "1\n",
      "2\n",
      "!!FINISH!!\n"
     ]
    }
   ],
   "source": [
    "i = 0\n",
    "\n",
    "while i < 3:\n",
    "    print(i)\n",
    "    i += 1\n",
    "else:\n",
    "    print('!!FINISH!!')"
   ]
  },
  {
   "cell_type": "markdown",
   "id": "f71dc898",
   "metadata": {},
   "source": [
    "このように条件文の中身を変えることで、さまざまな繰り返し処理をコーディングできるのがwhile文の強みだ。\n",
    "\n",
    "しかし、条件式を単に`True`にしてしまうと、永遠に処理を繰り返して終わらないプログラムになってしまう。\n",
    "\n",
    "そこで、処理にインターバルを作ったり、強制終了したりする手段を覚えよう。"
   ]
  },
  {
   "cell_type": "markdown",
   "id": "fb85e8f6",
   "metadata": {},
   "source": [
    "### time.sleep()関数\n",
    "\n",
    "timeライブラリに存在する`time.sleep()`関数は、()内の指定した秒数だけ処理をストップする機能を持つ。\n",
    "\n",
    "これを最初の例題に組み込んで、3秒のインターバルを設けてみよう。"
   ]
  },
  {
   "cell_type": "code",
   "execution_count": 6,
   "id": "a8d017fd",
   "metadata": {},
   "outputs": [
    {
     "name": "stdout",
     "output_type": "stream",
     "text": [
      "0\n",
      "1\n",
      "2\n",
      "3\n",
      "4\n"
     ]
    }
   ],
   "source": [
    "import time\n",
    "\n",
    "num = 0\n",
    "while (num < 5):\n",
    "    print(num)\n",
    "    num += 1\n",
    "    time.sleep(3)"
   ]
  },
  {
   "cell_type": "markdown",
   "id": "823761af",
   "metadata": {},
   "source": [
    "関数の処理としては同じだが、インターバルで3秒ごとに1回ずつ処理を行っていることが分かるはずだ。\n",
    "\n",
    "複雑なプログラミングになると外部ツールなどを応用するため、時間当たりにできる処理回数が制限されることがある。\n",
    "\n",
    "そんなときに便利なのがこの`time.sleep()`だ。"
   ]
  },
  {
   "cell_type": "markdown",
   "id": "135defb2",
   "metadata": {},
   "source": [
    "### if文 + breakによる強制終了\n",
    "\n",
    "`break`を使うと、if文である条件に達した場合に処理を強制終了できる。"
   ]
  },
  {
   "cell_type": "code",
   "execution_count": 9,
   "id": "5a46d719",
   "metadata": {},
   "outputs": [
    {
     "name": "stdout",
     "output_type": "stream",
     "text": [
      "0\n",
      "1\n",
      "2\n",
      "3\n",
      "4\n",
      "5\n",
      "6\n",
      "7\n",
      "8\n",
      "9\n",
      "10\n"
     ]
    }
   ],
   "source": [
    "num = 0\n",
    "while True:\n",
    "    print(num)\n",
    "    num += 1\n",
    "    if num > 10:\n",
    "        break"
   ]
  },
  {
   "cell_type": "markdown",
   "id": "8f3b6762",
   "metadata": {},
   "source": [
    "上のコードでは、`num`が10以上になると強制終了される。`これはfor i in range(11):`と同じ挙動だ。\n",
    "\n",
    "うっかり`while True`を書いてしまう、もしくは常に成り立つような条件文を書いてしまうと無限ループに入ってしまう。\n",
    "\n",
    "`break`は緊急用にあらかじめ作っておいた方が安全だ。"
   ]
  },
  {
   "cell_type": "code",
   "execution_count": null,
   "id": "3d3569c6",
   "metadata": {},
   "outputs": [],
   "source": []
  }
 ],
 "metadata": {
  "kernelspec": {
   "display_name": "Python 3 (ipykernel)",
   "language": "python",
   "name": "python3"
  },
  "language_info": {
   "codemirror_mode": {
    "name": "ipython",
    "version": 3
   },
   "file_extension": ".py",
   "mimetype": "text/x-python",
   "name": "python",
   "nbconvert_exporter": "python",
   "pygments_lexer": "ipython3",
   "version": "3.10.12"
  },
  "vscode": {
   "interpreter": {
    "hash": "f25b26b4ea7004765cfa1e96cf36e4bfdb1569f2ca834d9e6ec0cf32829ced3d"
   }
  }
 },
 "nbformat": 4,
 "nbformat_minor": 5
}
