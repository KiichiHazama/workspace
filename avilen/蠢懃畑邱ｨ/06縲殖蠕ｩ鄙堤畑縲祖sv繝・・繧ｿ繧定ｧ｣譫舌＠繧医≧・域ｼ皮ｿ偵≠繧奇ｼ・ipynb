{
 "cells": [
  {
   "cell_type": "markdown",
   "id": "6681dee7",
   "metadata": {
    "id": "09a8a9fc"
   },
   "source": [
    "# csvデータの解析\n",
    "\n",
    "この章では、基礎編で学んだcsvの読み書きについて、さらに高度な操作を学んでいこう。\n",
    "\n"
   ]
  },
  {
   "cell_type": "markdown",
   "id": "351e85e8",
   "metadata": {
    "id": "bb3e52af"
   },
   "source": [
    "## 1.辞書型としてデータを読み込む\n",
    "\n",
    "今回取り扱うcsvは`test_score.csv`だ。以下のようなデータ構成になっている。\n",
    "\n",
    "---\n",
    "名前\t国語\t数学\t理科\t社会\t英語\n",
    "\n",
    "佐藤\t86\t54\t63\t74\t90\n",
    "\n",
    "田中\t65\t89\t91\t67\t75\n",
    "\n",
    "高橋\t67\t58\t79\t86\t60\n",
    "\n",
    "---\n",
    "\n",
    "まずは基礎編で習った通りに、`csv.reader`でcsvを読み込んで表示してみよう。"
   ]
  },
  {
   "cell_type": "code",
   "execution_count": 2,
   "id": "4adb7c86",
   "metadata": {
    "id": "dc80bad0"
   },
   "outputs": [
    {
     "name": "stdout",
     "output_type": "stream",
     "text": [
      "[['名前', '国語', '数学', '理科', '社会', '英語'], ['佐藤', '86', '54', '63', '74', '90'], ['田中', '65', '89', '91', '67', '75'], ['高橋', '67', '58', '79', '86', '60'], ['伊藤', '74', '68', '97', '67', '94'], ['大島', '70', '95', '89', '76', '85'], ['佐々木', '92', '67', '69', '89', '84'], ['加藤', '76', '54', '61', '78', '86'], ['藤田', '57', '48', '65', '70', '64'], ['木村', '90', '86', '81', '79', '92'], ['後藤', '87', '91', '65', '70', '83']]\n"
     ]
    }
   ],
   "source": [
    "import csv\n",
    "\n",
    "data=[]\n",
    "with open('test_score.csv', encoding='utf-8') as f:\n",
    "    reader=csv.reader(f)\n",
    "    for line in reader:\n",
    "        data.append(line)\n",
    "print(data)"
   ]
  },
  {
   "cell_type": "markdown",
   "id": "303efb75",
   "metadata": {
    "id": "9f9f11a6"
   },
   "source": [
    "通常はこのような形だが、単にデータが羅列されている状態で、やや扱いにくい。\n",
    "\n",
    "そこで、名前や教科名をキーにして検索できたら便利になるはずだ。これを実現するのが`csv.DictReader`という関数である。"
   ]
  },
  {
   "cell_type": "code",
   "execution_count": 3,
   "id": "7c1373cd",
   "metadata": {
    "id": "7a557c49"
   },
   "outputs": [
    {
     "name": "stdout",
     "output_type": "stream",
     "text": [
      "{'名前': '佐藤', '国語': '86', '数学': '54', '理科': '63', '社会': '74', '英語': '90'}\n",
      "{'名前': '田中', '国語': '65', '数学': '89', '理科': '91', '社会': '67', '英語': '75'}\n",
      "{'名前': '高橋', '国語': '67', '数学': '58', '理科': '79', '社会': '86', '英語': '60'}\n",
      "{'名前': '伊藤', '国語': '74', '数学': '68', '理科': '97', '社会': '67', '英語': '94'}\n",
      "{'名前': '大島', '国語': '70', '数学': '95', '理科': '89', '社会': '76', '英語': '85'}\n",
      "{'名前': '佐々木', '国語': '92', '数学': '67', '理科': '69', '社会': '89', '英語': '84'}\n",
      "{'名前': '加藤', '国語': '76', '数学': '54', '理科': '61', '社会': '78', '英語': '86'}\n",
      "{'名前': '藤田', '国語': '57', '数学': '48', '理科': '65', '社会': '70', '英語': '64'}\n",
      "{'名前': '木村', '国語': '90', '数学': '86', '理科': '81', '社会': '79', '英語': '92'}\n",
      "{'名前': '後藤', '国語': '87', '数学': '91', '理科': '65', '社会': '70', '英語': '83'}\n"
     ]
    }
   ],
   "source": [
    "with open('test_score.csv', encoding='utf-8') as f:\n",
    "    doc=csv.DictReader(f)\n",
    "    for line in doc:\n",
    "        print(line)"
   ]
  },
  {
   "cell_type": "markdown",
   "id": "09f875a4",
   "metadata": {
    "id": "6bc53c23"
   },
   "source": [
    "#### `csv.reader`と`csv.DictReader`の違い\n",
    "\n",
    "- `csv.reader`では、csvを読み込んだ変数(今回は`reader`)の中に、各行に対応するリストが入っている(入れ子リスト)\n",
    "- `csv.DictReader`では、csvを読み込んだ変数(今回は`doc`)の中に、各行に対応する辞書が入っている(入れ子リスト)\n",
    "\n",
    "辞書型のリストになっていることで、for文でデータを取り出すときに名前や教科名を指定できるようになる！"
   ]
  },
  {
   "cell_type": "markdown",
   "id": "a72bd94d",
   "metadata": {
    "id": "912d9591"
   },
   "source": [
    "## 2.辞書型データとその扱い方\n"
   ]
  },
  {
   "cell_type": "markdown",
   "id": "f2ee58eb",
   "metadata": {
    "id": "4ea6f9e4"
   },
   "source": [
    "辞書型データとは、`key`と`value`がセットになっているデータ形式のことである。\n",
    "\n",
    "先ほど読み込んだcsvの最初の辞書を見てみよう。"
   ]
  },
  {
   "cell_type": "code",
   "execution_count": 4,
   "id": "184e846d",
   "metadata": {
    "id": "04860661"
   },
   "outputs": [],
   "source": [
    "dict1={'名前': '佐藤', '国語': '86', '数学': '54', '理科': '63', '社会': '74', '英語': '90'}"
   ]
  },
  {
   "cell_type": "markdown",
   "id": "1c979a7d",
   "metadata": {
    "id": "0e171535"
   },
   "source": [
    "このように辞書は中カッコ`{}`で外側を囲み、その中に`key`:`value`の順番で要素を並べていく。\n",
    "\n",
    "こうすることで、`辞書名[key]`と入力すると、対応する`value`を取得できる。"
   ]
  },
  {
   "cell_type": "code",
   "execution_count": 7,
   "id": "a2265da9",
   "metadata": {
    "id": "39af0e28"
   },
   "outputs": [
    {
     "name": "stdout",
     "output_type": "stream",
     "text": [
      "佐藤\n",
      "86\n"
     ]
    }
   ],
   "source": [
    "print(dict1['名前'])\n",
    "print(dict1['国語'])"
   ]
  },
  {
   "cell_type": "markdown",
   "id": "2dc29530",
   "metadata": {
    "id": "d3554319"
   },
   "source": [
    "なお、存在しないkeyを指定した場合は、`KeyError`になるので注意しよう。"
   ]
  },
  {
   "cell_type": "code",
   "execution_count": 6,
   "id": "915a4a2f",
   "metadata": {
    "id": "13634c01"
   },
   "outputs": [
    {
     "ename": "KeyError",
     "evalue": "'地学'",
     "output_type": "error",
     "traceback": [
      "\u001b[0;31m---------------------------------------------------------------------------\u001b[0m",
      "\u001b[0;31mKeyError\u001b[0m                                  Traceback (most recent call last)",
      "Cell \u001b[0;32mIn[6], line 1\u001b[0m\n\u001b[0;32m----> 1\u001b[0m \u001b[38;5;28mprint\u001b[39m(\u001b[43mdict1\u001b[49m\u001b[43m[\u001b[49m\u001b[38;5;124;43m'\u001b[39;49m\u001b[38;5;124;43m地学\u001b[39;49m\u001b[38;5;124;43m'\u001b[39;49m\u001b[43m]\u001b[49m)\n",
      "\u001b[0;31mKeyError\u001b[0m: '地学'"
     ]
    }
   ],
   "source": [
    "print(dict1['地学'])"
   ]
  },
  {
   "cell_type": "markdown",
   "id": "576f0e55",
   "metadata": {
    "id": "a13c4bc1"
   },
   "source": [
    "`csv.DictReader`で取得したデータはこのような辞書型なので、`key`を指定してデータを取り出すことができる。\n",
    "\n",
    "【例題】`csv.DictReader`を使って、`test_score.csv`の辞書型データから「名前」と「国語の点数」を取り出そう"
   ]
  },
  {
   "cell_type": "code",
   "execution_count": 9,
   "id": "f669c380",
   "metadata": {
    "id": "827aebc5"
   },
   "outputs": [
    {
     "name": "stdout",
     "output_type": "stream",
     "text": [
      "佐藤 86\n",
      "田中 65\n",
      "高橋 67\n",
      "伊藤 74\n",
      "大島 70\n",
      "佐々木 92\n",
      "加藤 76\n",
      "藤田 57\n",
      "木村 90\n",
      "後藤 87\n"
     ]
    }
   ],
   "source": [
    "with open('test_score.csv', encoding='utf-8') as f:\n",
    "    doc=csv.DictReader(f)\n",
    "    for line in doc:\n",
    "        print(line['名前'], line['国語'])"
   ]
  },
  {
   "cell_type": "markdown",
   "id": "2f962679",
   "metadata": {
    "id": "4961b171"
   },
   "source": [
    "## 3.取得したデータの操作"
   ]
  },
  {
   "cell_type": "markdown",
   "id": "f12c8fce",
   "metadata": {
    "id": "a583ad07"
   },
   "source": [
    "### 生徒ごとの平均点の計算\n",
    "\n",
    "`test_score.csv`のデータについて、リスト型と辞書型で点数を出力することができるようになった。\n",
    "\n",
    "これを上手く使い分けて、生徒ごとの平均点を計算してみよう。"
   ]
  },
  {
   "cell_type": "markdown",
   "id": "66705cf9",
   "metadata": {
    "id": "8fef0207"
   },
   "source": [
    "【問題】生徒ごとに5教科の平均点を計算してみよう\n",
    "\n",
    "＜Step1＞生徒名と5教科の点数を1つのリストにして、空リスト`score`に入れ子リストの形でまとめていこう"
   ]
  },
  {
   "cell_type": "code",
   "execution_count": 11,
   "id": "07040fb4",
   "metadata": {
    "id": "75fdca69"
   },
   "outputs": [
    {
     "name": "stdout",
     "output_type": "stream",
     "text": [
      "[['名前', '国語', '数学', '理科', '社会', '英語'], ['佐藤', '86', '54', '63', '74', '90'], ['田中', '65', '89', '91', '67', '75'], ['高橋', '67', '58', '79', '86', '60'], ['伊藤', '74', '68', '97', '67', '94'], ['大島', '70', '95', '89', '76', '85'], ['佐々木', '92', '67', '69', '89', '84'], ['加藤', '76', '54', '61', '78', '86'], ['藤田', '57', '48', '65', '70', '64'], ['木村', '90', '86', '81', '79', '92'], ['後藤', '87', '91', '65', '70', '83']]\n"
     ]
    }
   ],
   "source": [
    "score=[]\n",
    "with open('test_score.csv', encoding='utf-8') as f:\n",
    "    reader=csv.reader(f)\n",
    "    for line in reader:\n",
    "        score.append(line)\n",
    "print(score)"
   ]
  },
  {
   "cell_type": "markdown",
   "id": "66d7918c",
   "metadata": {
    "id": "8f0e3959"
   },
   "source": [
    "＜Step2＞各リストから生徒名を取り出し、点数を合計して5で割った数値と一緒にprintしよう\n",
    "\n",
    "ヒント：リスト内の点数はstr型で入っているため、int型に変換する必要がある"
   ]
  },
  {
   "cell_type": "code",
   "execution_count": 14,
   "id": "a2c8d20f",
   "metadata": {
    "id": "322bf3d0"
   },
   "outputs": [
    {
     "name": "stdout",
     "output_type": "stream",
     "text": [
      "名前: 佐藤 平均点: 73.4\n",
      "名前: 田中 平均点: 77.4\n",
      "名前: 高橋 平均点: 70.0\n",
      "名前: 伊藤 平均点: 80.0\n",
      "名前: 大島 平均点: 83.0\n",
      "名前: 佐々木 平均点: 80.2\n",
      "名前: 加藤 平均点: 71.0\n",
      "名前: 藤田 平均点: 60.8\n",
      "名前: 木村 平均点: 85.6\n",
      "名前: 後藤 平均点: 79.2\n"
     ]
    }
   ],
   "source": [
    "for line in score[1:]:\n",
    "    name=line[0]\n",
    "    num=0\n",
    "    for i in line[1:]:\n",
    "        num+=int(i)\n",
    "    average=num/5\n",
    "    print('名前:', name, '平均点:', average)"
   ]
  },
  {
   "cell_type": "markdown",
   "id": "6407d290",
   "metadata": {
    "id": "092966af"
   },
   "source": [
    "このように生徒ごとに集計したい場合は、`csv.reader`を使ってリスト型で読み込んだ方が役に立つ。"
   ]
  },
  {
   "cell_type": "markdown",
   "id": "7f80232d",
   "metadata": {
    "id": "86503cea"
   },
   "source": [
    "### 教科ごとの平均点の計算\n",
    "\n",
    "次に、教科ごとに平均点を計算してみよう\n",
    "\n",
    "【問題】各教科の10名分の平均点を算出しよう"
   ]
  },
  {
   "cell_type": "code",
   "execution_count": 16,
   "id": "3f0b2f1f",
   "metadata": {
    "id": "7e60ecea"
   },
   "outputs": [
    {
     "name": "stdout",
     "output_type": "stream",
     "text": [
      "国語: 152.8\n",
      "数学: 142.0\n",
      "理科: 152.0\n",
      "社会: 151.2\n",
      "英語: 162.6\n"
     ]
    }
   ],
   "source": [
    "with open('test_score.csv', encoding='utf-8') as f:\n",
    "    doc=csv.DictReader(f)\n",
    "    japanese=[]\n",
    "    math=[]\n",
    "    science=[]\n",
    "    social_study=[]\n",
    "    english=[]\n",
    "    for line in doc:\n",
    "        japanese.append(int(line['国語']))\n",
    "        math.append(int(line['数学']))\n",
    "        science.append(int(line['理科']))\n",
    "        social_study.append(int(line['社会']))\n",
    "        english.append(int(line['英語']))\n",
    "    print('国語:', sum(japanese)/5)\n",
    "    print('数学:', sum(math)/5)\n",
    "    print('理科:', sum(science)/5)\n",
    "    print('社会:', sum(social_study)/5)\n",
    "    print('英語:', sum(english)/5)"
   ]
  },
  {
   "cell_type": "markdown",
   "id": "05e4536c",
   "metadata": {
    "id": "56010160"
   },
   "source": [
    "このように教科ごとに集計したい場合は、辞書型で`key`を参照できるほうが役に立つ。"
   ]
  },
  {
   "cell_type": "markdown",
   "id": "9b2968c0",
   "metadata": {
    "id": "9aa9fa77"
   },
   "source": [
    "## 4.辞書型データの性質\n",
    "\n",
    "次に、この辞書型データの特徴を見ていこう。\n",
    "\n",
    "### `key`のみ・`value`のみを取り出す\n",
    "\n",
    "`key`のみ、または`value`のみを取り出すには、`[辞書名].keys()`や`[辞書名].values()`を使用する。"
   ]
  },
  {
   "cell_type": "code",
   "execution_count": 17,
   "id": "d718cd59",
   "metadata": {
    "id": "68576285"
   },
   "outputs": [
    {
     "name": "stdout",
     "output_type": "stream",
     "text": [
      "dict_keys(['名前', '国語', '数学', '理科', '社会', '英語'])\n",
      "dict_values(['佐藤', '86', '54', '63', '74', '90'])\n"
     ]
    }
   ],
   "source": [
    "dict1 = {'名前': '佐藤', '国語': '86', '数学': '54', '理科': '63', '社会': '74', '英語': '90'}\n",
    "print(dict1.keys())\n",
    "print(dict1.values())"
   ]
  },
  {
   "cell_type": "markdown",
   "id": "a05e939c",
   "metadata": {
    "id": "c33ecf33"
   },
   "source": [
    "### key/valueの型\n",
    "\n",
    "`key`や`value`に入れる変数に、型の制限は特にない。str型、int型、float型どれでも入れることができる。\n",
    "\n",
    "ただ性質上、`key`にはstr型のデータを入れることが多い。\n",
    "\n",
    "実験的に、`key`にint型のデータを入れた辞書は以下のようになる。"
   ]
  },
  {
   "cell_type": "code",
   "execution_count": 18,
   "id": "aca28061",
   "metadata": {
    "id": "045e67e4"
   },
   "outputs": [
    {
     "data": {
      "text/plain": [
       "'国語'"
      ]
     },
     "execution_count": 18,
     "metadata": {},
     "output_type": "execute_result"
    }
   ],
   "source": [
    "dict2 = {1:'名前', 2:'国語', 3:'数学', 4:'理科', 5:'社会', 6:'英語'}\n",
    "dict2[2]"
   ]
  },
  {
   "cell_type": "markdown",
   "id": "6170bcd2",
   "metadata": {
    "id": "5b964645"
   },
   "source": [
    "### 空の辞書・要素の追加/更新\n",
    "\n",
    "`[辞書名]={}`とすることで、空の辞書を作ることができる。"
   ]
  },
  {
   "cell_type": "code",
   "execution_count": 21,
   "id": "2deca99a",
   "metadata": {
    "id": "378b2f02"
   },
   "outputs": [
    {
     "name": "stdout",
     "output_type": "stream",
     "text": [
      "{}\n"
     ]
    }
   ],
   "source": [
    "dict3={}\n",
    "print(dict3)"
   ]
  },
  {
   "cell_type": "markdown",
   "id": "f1c5ab72",
   "metadata": {
    "id": "7ceb6ece"
   },
   "source": [
    "要素の追加は`[辞書名][key]=[value]`で、どんどん新しい値を追加できる。"
   ]
  },
  {
   "cell_type": "code",
   "execution_count": 22,
   "id": "d11dd545",
   "metadata": {
    "id": "f90a9c88"
   },
   "outputs": [
    {
     "name": "stdout",
     "output_type": "stream",
     "text": [
      "{'物理': 78, '化学': 86, '生物': 60}\n"
     ]
    }
   ],
   "source": [
    "dict3['物理']=78\n",
    "dict3['化学']=86\n",
    "dict3['生物']=60\n",
    "print(dict3)"
   ]
  },
  {
   "cell_type": "markdown",
   "id": "6c0bc704",
   "metadata": {
    "id": "8ab2830f"
   },
   "source": [
    "また、既存の`key`を指定すると、対応する`value`を更新できる。"
   ]
  },
  {
   "cell_type": "code",
   "execution_count": 23,
   "id": "155feebc",
   "metadata": {
    "id": "2c6817fb"
   },
   "outputs": [
    {
     "name": "stdout",
     "output_type": "stream",
     "text": [
      "{'物理': 100, '化学': 86, '生物': 60}\n"
     ]
    }
   ],
   "source": [
    "dict3['物理']=100\n",
    "print(dict3)"
   ]
  },
  {
   "cell_type": "markdown",
   "id": "551d3420",
   "metadata": {
    "id": "159fefe7"
   },
   "source": [
    "### 辞書型の`len()`\n",
    "\n",
    "辞書型データを`len()`に入力すると、`key`と`value`のセットの数が出力される。"
   ]
  },
  {
   "cell_type": "code",
   "execution_count": 24,
   "id": "07603ad8",
   "metadata": {
    "id": "7ed38ea6"
   },
   "outputs": [
    {
     "data": {
      "text/plain": [
       "3"
      ]
     },
     "execution_count": 24,
     "metadata": {},
     "output_type": "execute_result"
    }
   ],
   "source": [
    "len(dict3)"
   ]
  },
  {
   "cell_type": "markdown",
   "id": "b85bf4ef",
   "metadata": {
    "id": "0650d501"
   },
   "source": [
    "### 辞書型を条件文に指定した場合\n",
    "\n",
    "条件文に辞書型を指定した場合、その辞書が空かどうかで`True`/`False`が判定される。"
   ]
  },
  {
   "cell_type": "code",
   "execution_count": 25,
   "id": "0b07e36d",
   "metadata": {
    "id": "d3fa2567"
   },
   "outputs": [
    {
     "name": "stdout",
     "output_type": "stream",
     "text": [
      "空である\n"
     ]
    }
   ],
   "source": [
    "dict3={}\n",
    "if dict3:\n",
    "    print('空ではない')\n",
    "else:\n",
    "    print('空である')"
   ]
  },
  {
   "cell_type": "code",
   "execution_count": 26,
   "id": "9fd9f2ab",
   "metadata": {
    "id": "9bb882fe"
   },
   "outputs": [
    {
     "name": "stdout",
     "output_type": "stream",
     "text": [
      "空ではない\n"
     ]
    }
   ],
   "source": [
    "dict3['物理']=100\n",
    "if dict3:\n",
    "    print('空ではない')\n",
    "else:\n",
    "    print('空である')"
   ]
  },
  {
   "cell_type": "markdown",
   "id": "9ffae562",
   "metadata": {
    "id": "e0306018"
   },
   "source": [
    "上のif文では`dict3`が空なので`if dict3`が`if False`と判定される。\n",
    "\n",
    "つまりその後の処理`print(\"空ではない\")`が実行されず、`else`以下の処理`print(\"空である\")`が実行された。\n",
    "\n",
    "下のif文では`dict3`に値が入っているため、`if dict3`が`if True`と判定される。\n",
    "\n",
    "よってその後の処理`print(\"空ではない\")`が実行された。"
   ]
  }
 ],
 "metadata": {
  "colab": {
   "provenance": []
  },
  "kernelspec": {
   "display_name": "Python 3 (ipykernel)",
   "language": "python",
   "name": "python3"
  },
  "language_info": {
   "codemirror_mode": {
    "name": "ipython",
    "version": 3
   },
   "file_extension": ".py",
   "mimetype": "text/x-python",
   "name": "python",
   "nbconvert_exporter": "python",
   "pygments_lexer": "ipython3",
   "version": "3.10.12"
  }
 },
 "nbformat": 4,
 "nbformat_minor": 5
}
