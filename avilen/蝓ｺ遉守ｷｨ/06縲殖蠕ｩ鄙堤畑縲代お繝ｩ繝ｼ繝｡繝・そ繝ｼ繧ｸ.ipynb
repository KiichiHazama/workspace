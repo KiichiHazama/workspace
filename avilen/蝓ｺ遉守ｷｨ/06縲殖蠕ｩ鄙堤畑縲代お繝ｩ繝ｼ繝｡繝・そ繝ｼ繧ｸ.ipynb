{
 "cells": [
  {
   "cell_type": "markdown",
   "id": "4b0086ac",
   "metadata": {
    "id": "5388aec9"
   },
   "source": [
    "# エラーメッセージ\n",
    "\n",
    "---\n",
    "\n",
    "プログラミングでは様々なエラーメッセージが表示される。\n",
    "\n",
    "よく分からないエラーが多くて挫折…というケースも珍しくない。\n",
    "\n",
    "しかし、エラーはつきもの！内容を確認して、1つ1つ対処していけば大丈夫だ。\n",
    "\n",
    "代表的なエラーと対処法を実際に見ていこう。"
   ]
  },
  {
   "cell_type": "markdown",
   "id": "566ef6fb",
   "metadata": {
    "id": "718ff6f7"
   },
   "source": [
    "## 1.SyntaxError\n",
    "\n",
    "SyntaxErrorは以下のように、Pythonの構文として正しくない場合に発生するエラー。\n",
    "\n",
    "主にコロン(:)や()の閉じ忘れなどがある場合、全角の文字(全角スペース含む)が入っていた場合に構文エラーになる。\n",
    "\n",
    "SyntaxErrorが発生した場合は、Pythonの構文が間違っていないか確認しよう。"
   ]
  },
  {
   "cell_type": "code",
   "execution_count": 1,
   "id": "b7322f1f",
   "metadata": {
    "id": "520f8d05"
   },
   "outputs": [
    {
     "ename": "SyntaxError",
     "evalue": "invalid character '５' (U+FF15) (4110402746.py, line 2)",
     "output_type": "error",
     "traceback": [
      "\u001b[0;36m  Cell \u001b[0;32mIn[1], line 2\u001b[0;36m\u001b[0m\n\u001b[0;31m    print(５)\u001b[0m\n\u001b[0m          ^\u001b[0m\n\u001b[0;31mSyntaxError\u001b[0m\u001b[0;31m:\u001b[0m invalid character '５' (U+FF15)\n"
     ]
    }
   ],
   "source": [
    "#全角の数字をprintしてみよう。\n",
    "print(５)"
   ]
  },
  {
   "cell_type": "markdown",
   "id": "43f9afbe",
   "metadata": {
    "id": "25a47626"
   },
   "source": [
    "## 2.NameError\n",
    "\n",
    "名前が見つからなかった場合のエラー。\n",
    "\n",
    "変数名のスペル間違いなど。 大文字小文字も区別されるので注意だ。"
   ]
  },
  {
   "cell_type": "code",
   "execution_count": 2,
   "id": "d4a69f8c",
   "metadata": {
    "id": "2d743ace"
   },
   "outputs": [
    {
     "ename": "NameError",
     "evalue": "name 'myNumber' is not defined",
     "output_type": "error",
     "traceback": [
      "\u001b[0;31m---------------------------------------------------------------------------\u001b[0m",
      "\u001b[0;31mNameError\u001b[0m                                 Traceback (most recent call last)",
      "Cell \u001b[0;32mIn[2], line 2\u001b[0m\n\u001b[1;32m      1\u001b[0m my_number\u001b[38;5;241m=\u001b[39m\u001b[38;5;241m100\u001b[39m\n\u001b[0;32m----> 2\u001b[0m \u001b[38;5;28mprint\u001b[39m(\u001b[43mmyNumber\u001b[49m)\n",
      "\u001b[0;31mNameError\u001b[0m: name 'myNumber' is not defined"
     ]
    }
   ],
   "source": [
    "my_number=100\n",
    "print(myNumber)"
   ]
  },
  {
   "cell_type": "markdown",
   "id": "07b6c00d",
   "metadata": {
    "id": "03a9d905"
   },
   "source": [
    "対象の変数をきちんと定義するか、スペルを直せば解決する。"
   ]
  },
  {
   "cell_type": "code",
   "execution_count": 3,
   "id": "84d67a8e",
   "metadata": {
    "id": "fbd47322"
   },
   "outputs": [
    {
     "name": "stdout",
     "output_type": "stream",
     "text": [
      "100\n"
     ]
    }
   ],
   "source": [
    "print(my_number)"
   ]
  },
  {
   "cell_type": "code",
   "execution_count": 4,
   "id": "593c15f5",
   "metadata": {
    "id": "ee6790dc"
   },
   "outputs": [
    {
     "name": "stdout",
     "output_type": "stream",
     "text": [
      "10\n"
     ]
    }
   ],
   "source": [
    "myNumber=10\n",
    "print(myNumber)"
   ]
  },
  {
   "cell_type": "markdown",
   "id": "f20c5d21",
   "metadata": {
    "id": "b23181ea"
   },
   "source": [
    "## 3.TypeError\n",
    "\n",
    "不適切な型に対して演算や組み込み関数による処理が行われた場合のエラー。\n",
    "\n",
    "主に以下のような場合に発生する。\n",
    "\n",
    "- 異なる型のオブジェクトを+演算子で加算しようとした場合\n",
    "- 文字列や数値を浮動小数点型（float）に変換する組み込み関数float()にそのほかの型のオブジェクトを渡した場合\n",
    "\n",
    "変数の型や、関数の引数をしっかり確認しよう。"
   ]
  },
  {
   "cell_type": "code",
   "execution_count": 5,
   "id": "7db811f7",
   "metadata": {
    "id": "15ac9650"
   },
   "outputs": [
    {
     "ename": "TypeError",
     "evalue": "can only concatenate str (not \"int\") to str",
     "output_type": "error",
     "traceback": [
      "\u001b[0;31m---------------------------------------------------------------------------\u001b[0m",
      "\u001b[0;31mTypeError\u001b[0m                                 Traceback (most recent call last)",
      "Cell \u001b[0;32mIn[5], line 2\u001b[0m\n\u001b[1;32m      1\u001b[0m n\u001b[38;5;241m=\u001b[39m\u001b[38;5;124m'\u001b[39m\u001b[38;5;124m100\u001b[39m\u001b[38;5;124m'\u001b[39m\n\u001b[0;32m----> 2\u001b[0m \u001b[38;5;28mprint\u001b[39m(\u001b[43mn\u001b[49m\u001b[38;5;241;43m+\u001b[39;49m\u001b[38;5;241;43m200\u001b[39;49m)\n",
      "\u001b[0;31mTypeError\u001b[0m: can only concatenate str (not \"int\") to str"
     ]
    }
   ],
   "source": [
    "n='100'\n",
    "print(n+200)"
   ]
  },
  {
   "cell_type": "markdown",
   "id": "7d376b3e",
   "metadata": {
    "id": "4b1def2c"
   },
   "source": [
    "## 4.ValueError\n",
    "\n",
    "型は合っているが値が適切でない場合のエラー。\n",
    "\n",
    "例えばfloat()は文字列（str）を浮動小数点（float）に変換するが、元の文字列が変換可能な値でないとエラーになる。\n",
    "\n",
    "関数に適した値を入力できているか確認しよう。"
   ]
  },
  {
   "cell_type": "code",
   "execution_count": 6,
   "id": "aa76d66f",
   "metadata": {
    "id": "f44fe2b2"
   },
   "outputs": [
    {
     "ename": "ValueError",
     "evalue": "could not convert string to float: 'any number'",
     "output_type": "error",
     "traceback": [
      "\u001b[0;31m---------------------------------------------------------------------------\u001b[0m",
      "\u001b[0;31mValueError\u001b[0m                                Traceback (most recent call last)",
      "Cell \u001b[0;32mIn[6], line 1\u001b[0m\n\u001b[0;32m----> 1\u001b[0m \u001b[38;5;28mprint\u001b[39m(\u001b[38;5;28;43mfloat\u001b[39;49m\u001b[43m(\u001b[49m\u001b[38;5;124;43m'\u001b[39;49m\u001b[38;5;124;43many number\u001b[39;49m\u001b[38;5;124;43m'\u001b[39;49m\u001b[43m)\u001b[49m)\n",
      "\u001b[0;31mValueError\u001b[0m: could not convert string to float: 'any number'"
     ]
    }
   ],
   "source": [
    "print(float('any number'))"
   ]
  },
  {
   "cell_type": "markdown",
   "id": "1eec7252",
   "metadata": {
    "id": "bae54568"
   },
   "source": [
    "## 5.ZeroDivisionError\n",
    "\n",
    "0で割り算が行われた場合のエラー。\n",
    "\n",
    "除算```/```だけでなく、剰余演算```%```でも発生する。\n",
    "\n",
    "計算途中でうっかり値がゼロになっていないか確認しよう。"
   ]
  },
  {
   "cell_type": "code",
   "execution_count": 7,
   "id": "f372fd1a",
   "metadata": {
    "id": "a3bfc363"
   },
   "outputs": [
    {
     "ename": "ZeroDivisionError",
     "evalue": "division by zero",
     "output_type": "error",
     "traceback": [
      "\u001b[0;31m---------------------------------------------------------------------------\u001b[0m",
      "\u001b[0;31mZeroDivisionError\u001b[0m                         Traceback (most recent call last)",
      "Cell \u001b[0;32mIn[7], line 3\u001b[0m\n\u001b[1;32m      1\u001b[0m n\u001b[38;5;241m=\u001b[39m\u001b[38;5;241m100\u001b[39m\n\u001b[1;32m      2\u001b[0m zero\u001b[38;5;241m=\u001b[39m\u001b[38;5;241m0\u001b[39m\n\u001b[0;32m----> 3\u001b[0m \u001b[38;5;28mprint\u001b[39m(\u001b[43mn\u001b[49m\u001b[38;5;241;43m/\u001b[39;49m\u001b[43mzero\u001b[49m)\n",
      "\u001b[0;31mZeroDivisionError\u001b[0m: division by zero"
     ]
    }
   ],
   "source": [
    "n=100\n",
    "zero=0\n",
    "print(n/zero)"
   ]
  },
  {
   "cell_type": "markdown",
   "id": "84bb455c",
   "metadata": {
    "id": "20b4a27c"
   },
   "source": [
    "## 6.IndexError\n",
    "\n",
    "リストやタプルなどのシーケンスオブジェクトに格納された値を[インデックス]で取得する際に、範囲外の位置（要素数を超えたインデックス値）を指定してしまった場合のエラー。\n",
    "\n",
    "リストやタプルの要素数はlen()で確認できるので、範囲を超えないようにコーディングしよう。"
   ]
  },
  {
   "cell_type": "code",
   "execution_count": 8,
   "id": "d666723a",
   "metadata": {
    "id": "f854e8d2"
   },
   "outputs": [
    {
     "ename": "IndexError",
     "evalue": "list index out of range",
     "output_type": "error",
     "traceback": [
      "\u001b[0;31m---------------------------------------------------------------------------\u001b[0m",
      "\u001b[0;31mIndexError\u001b[0m                                Traceback (most recent call last)",
      "Cell \u001b[0;32mIn[8], line 2\u001b[0m\n\u001b[1;32m      1\u001b[0m \u001b[38;5;28mlist\u001b[39m\u001b[38;5;241m=\u001b[39m[\u001b[38;5;241m0\u001b[39m,\u001b[38;5;241m1\u001b[39m,\u001b[38;5;241m2\u001b[39m]\n\u001b[0;32m----> 2\u001b[0m \u001b[38;5;28mprint\u001b[39m(\u001b[38;5;28;43mlist\u001b[39;49m\u001b[43m[\u001b[49m\u001b[38;5;241;43m3\u001b[39;49m\u001b[43m]\u001b[49m)\n",
      "\u001b[0;31mIndexError\u001b[0m: list index out of range"
     ]
    }
   ],
   "source": [
    "list=[0,1,2]\n",
    "print(list[3])"
   ]
  },
  {
   "cell_type": "code",
   "execution_count": null,
   "id": "c5a75225",
   "metadata": {},
   "outputs": [],
   "source": []
  }
 ],
 "metadata": {
  "colab": {
   "provenance": []
  },
  "kernelspec": {
   "display_name": "Python 3 (ipykernel)",
   "language": "python",
   "name": "python3"
  },
  "language_info": {
   "codemirror_mode": {
    "name": "ipython",
    "version": 3
   },
   "file_extension": ".py",
   "mimetype": "text/x-python",
   "name": "python",
   "nbconvert_exporter": "python",
   "pygments_lexer": "ipython3",
   "version": "3.10.12"
  }
 },
 "nbformat": 4,
 "nbformat_minor": 5
}
