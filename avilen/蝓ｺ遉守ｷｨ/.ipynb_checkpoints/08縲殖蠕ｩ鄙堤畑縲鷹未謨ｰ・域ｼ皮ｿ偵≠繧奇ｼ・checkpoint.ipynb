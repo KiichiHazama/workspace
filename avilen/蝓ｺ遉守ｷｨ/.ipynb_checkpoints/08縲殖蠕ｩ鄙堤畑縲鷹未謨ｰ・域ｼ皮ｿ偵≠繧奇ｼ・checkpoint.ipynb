{
 "cells": [
  {
   "cell_type": "markdown",
   "id": "1f6c2569",
   "metadata": {
    "colab_type": "text",
    "id": "_rlZMBTz24-I"
   },
   "source": [
    "# 関数\n",
    "---\n",
    "\n",
    "関数の役割は、プログラムを機能ごとにまとめて扱いやすくすることだ。\n",
    "\n",
    "この章では「返り値」と「引数」を理解し、関数を使いこなそう。"
   ]
  },
  {
   "cell_type": "markdown",
   "id": "ec6612e5",
   "metadata": {
    "colab_type": "text",
    "id": "zJEfVAPoz3no"
   },
   "source": [
    "## 1. 関数の定義\n",
    "\n",
    "同じ処理を複数回行うとき、ループ処理以外に**「関数」**が使える。\n",
    "\n",
    "【例題】関数`pizza`を定義(作成)して、実行してみよう。\n",
    "まずは、以下のセルを実行して、関数を定義しよう。"
   ]
  },
  {
   "cell_type": "code",
   "execution_count": 1,
   "id": "620ee7e4",
   "metadata": {
    "colab": {},
    "colab_type": "code",
    "id": "a4yh1eaSdzgS"
   },
   "outputs": [],
   "source": [
    "def pizza():\n",
    "    for i in range(10):\n",
    "        print('ピザ')\n",
    "    print('ヒジ')"
   ]
  },
  {
   "cell_type": "markdown",
   "id": "a35464c9",
   "metadata": {
    "colab_type": "text",
    "id": "bu7b_fvs0sji"
   },
   "source": [
    "ここではまだ関数を定義しただけなので、関数の中身は実行されない。よって何も出力されない。\n",
    "\n",
    "`def 関数名():`では、関数を定義する。\n",
    "\n",
    "この関数の中身は、以降のプログラムで`pizza()`と書くことでいつでもどこでも実行できる\n",
    "\n",
    "\n",
    "それではさっそく、関数`pizza()`を使ってみよう"
   ]
  },
  {
   "cell_type": "code",
   "execution_count": 2,
   "id": "a43ff59b",
   "metadata": {
    "colab": {
     "base_uri": "https://localhost:8080/",
     "height": 85
    },
    "colab_type": "code",
    "executionInfo": {
     "elapsed": 839,
     "status": "ok",
     "timestamp": 1577122748125,
     "user": {
      "displayName": "Kurusu Yuugo",
      "photoUrl": "",
      "userId": "00117977046560544733"
     },
     "user_tz": -540
    },
    "id": "YbqYgqa11DFK",
    "outputId": "db979244-2eaf-4d43-9c4e-7a7b3016dd94"
   },
   "outputs": [
    {
     "name": "stdout",
     "output_type": "stream",
     "text": [
      "ピザ\n",
      "ピザ\n",
      "ピザ\n",
      "ピザ\n",
      "ピザ\n",
      "ピザ\n",
      "ピザ\n",
      "ピザ\n",
      "ピザ\n",
      "ピザ\n",
      "ヒジ\n"
     ]
    }
   ],
   "source": [
    "pizza()"
   ]
  },
  {
   "cell_type": "markdown",
   "id": "f1e10fc0",
   "metadata": {
    "colab_type": "text",
    "id": "uzbevpaX1JH3"
   },
   "source": [
    "- もう少し`pizza()`で遊んでみよう"
   ]
  },
  {
   "cell_type": "code",
   "execution_count": 3,
   "id": "94041eb3",
   "metadata": {
    "colab": {
     "base_uri": "https://localhost:8080/",
     "height": 170
    },
    "colab_type": "code",
    "executionInfo": {
     "elapsed": 833,
     "status": "ok",
     "timestamp": 1577122748127,
     "user": {
      "displayName": "Kurusu Yuugo",
      "photoUrl": "",
      "userId": "00117977046560544733"
     },
     "user_tz": -540
    },
    "id": "M6DJPtPV1Pjo",
    "outputId": "8fce272b-682e-4860-d4f6-9825db5daaa3"
   },
   "outputs": [
    {
     "name": "stdout",
     "output_type": "stream",
     "text": [
      "ピザ\n",
      "ピザ\n",
      "ピザ\n",
      "ピザ\n",
      "ピザ\n",
      "ピザ\n",
      "ピザ\n",
      "ピザ\n",
      "ピザ\n",
      "ピザ\n",
      "ヒジ\n",
      "ーーーーーーーーーー\n",
      "ピザ\n",
      "ピザ\n",
      "ピザ\n",
      "ピザ\n",
      "ピザ\n",
      "ピザ\n",
      "ピザ\n",
      "ピザ\n",
      "ピザ\n",
      "ピザ\n",
      "ヒジ\n"
     ]
    }
   ],
   "source": [
    "pizza()\n",
    "print('ーーーーーーーーーー')\n",
    "pizza()"
   ]
  },
  {
   "cell_type": "markdown",
   "id": "49a0dffa",
   "metadata": {
    "colab_type": "text",
    "id": "GoPQU7l316Yh"
   },
   "source": [
    "- このように、関数は**複数の処理をまとめて、いつでも簡単に使える**ようにできる\n",
    "- 実行するときは、`関数名()`で呼び出す"
   ]
  },
  {
   "cell_type": "markdown",
   "id": "9f4cae8a",
   "metadata": {
    "colab_type": "text",
    "id": "maS77TzU149O"
   },
   "source": [
    "【問題】メールの署名をする関数`sig()`を自由に定義してみよう"
   ]
  },
  {
   "cell_type": "code",
   "execution_count": 7,
   "id": "2fc03655",
   "metadata": {
    "colab": {},
    "colab_type": "code",
    "id": "1yBOZhcy2yqj"
   },
   "outputs": [],
   "source": [
    "def sig(name: str, cooperation: str, address: str, phone: str):\n",
    "    print('-'*15)\n",
    "    print('名前:', name)\n",
    "    print('会社名:', cooperation)\n",
    "    print('メールアドレス:', address)\n",
    "    print('電話番号:', phone)\n",
    "    print('-'*15)"
   ]
  },
  {
   "cell_type": "markdown",
   "id": "069f1e65",
   "metadata": {
    "colab_type": "text",
    "id": "ZZZAkLzx4l2-"
   },
   "source": [
    "上のセルで関数を作成して、実行したら、下のセルを実行して挙動を確認しよう。"
   ]
  },
  {
   "cell_type": "code",
   "execution_count": 8,
   "id": "73d75fdc",
   "metadata": {
    "colab": {
     "base_uri": "https://localhost:8080/",
     "height": 136
    },
    "colab_type": "code",
    "executionInfo": {
     "elapsed": 1206,
     "status": "ok",
     "timestamp": 1577122748513,
     "user": {
      "displayName": "Kurusu Yuugo",
      "photoUrl": "",
      "userId": "00117977046560544733"
     },
     "user_tz": -540
    },
    "id": "ZU536RTB4lVZ",
    "outputId": "78bbd4df-f044-4f78-f6cc-446b95c1e9ae"
   },
   "outputs": [
    {
     "name": "stdin",
     "output_type": "stream",
     "text": [
      "あなたの名前は？ 狭間貴一\n",
      "勤務先は？ SSS\n",
      "メールアドレスは？ Kiichi.Hazama@sony.com\\\n",
      "電話番号は？ 09097235338\n"
     ]
    },
    {
     "name": "stdout",
     "output_type": "stream",
     "text": [
      "---------------\n",
      "名前: 狭間貴一\n",
      "会社名: SSS\n",
      "メールアドレス: Kiichi.Hazama@sony.com\\\n",
      "電話番号: 09097235338\n",
      "---------------\n"
     ]
    }
   ],
   "source": [
    "name=input('あなたの名前は？')\n",
    "cooperation=input('勤務先は？')\n",
    "address=input('メールアドレスは？')\n",
    "phone=input('電話番号は？')\n",
    "sig(name, cooperation, address, phone)"
   ]
  },
  {
   "cell_type": "markdown",
   "id": "0d7a11c7",
   "metadata": {
    "colab_type": "text",
    "id": "UR5FgbF44pxW"
   },
   "source": [
    "- 思い通りの文章が出力されたら成功だ。\n",
    "- 関数の定義のセルを実行しないと、関数を呼び出すことはできないので注意しよう！\n"
   ]
  },
  {
   "cell_type": "markdown",
   "id": "77a19d5b",
   "metadata": {},
   "source": [
    "## 2. 関数の構造"
   ]
  },
  {
   "cell_type": "markdown",
   "id": "f7bf26aa",
   "metadata": {},
   "source": [
    "- 関数とは、何かを入力すると決まった値を出力として返す「箱」のようなものである。\n",
    "\n",
    "- 「箱」の中身では、何らかの処理が行われている\n",
    "\n",
    "- しかし上の`pizza()`のように、Pythonなどのプログラミングでは「入力が無い関数」を作ることができる。\n",
    "\n",
    "- プログラミングでは入力のことを「引数」、出力のことを「返り値」と呼ぶので、覚えておこう。"
   ]
  },
  {
   "cell_type": "markdown",
   "id": "8c90db00",
   "metadata": {
    "colab_type": "text",
    "id": "Sf-6gqEI-xmc"
   },
   "source": [
    "## 2-1. 関数の返り値\n",
    "\n",
    "【例題】$ \\sqrt 2 $を計算して返す関数を作ろう。まずは以下のセルを実行して関数`root2()`を定義する。"
   ]
  },
  {
   "cell_type": "code",
   "execution_count": 10,
   "id": "e9ae3f6f",
   "metadata": {
    "colab": {},
    "colab_type": "code",
    "id": "rVmiBntgyjqL"
   },
   "outputs": [],
   "source": [
    "def root2():\n",
    "    tmp=2**0.5\n",
    "    return tmp"
   ]
  },
  {
   "cell_type": "markdown",
   "id": "63c72aaa",
   "metadata": {
    "colab_type": "text",
    "id": "-G1pGeAMyyPP"
   },
   "source": [
    "下のセルを実行して、上のセルで作った関数を使ってみよう。"
   ]
  },
  {
   "cell_type": "code",
   "execution_count": 15,
   "id": "489fbd4d",
   "metadata": {
    "colab": {
     "base_uri": "https://localhost:8080/",
     "height": 34
    },
    "colab_type": "code",
    "executionInfo": {
     "elapsed": 1200,
     "status": "ok",
     "timestamp": 1577122748515,
     "user": {
      "displayName": "Kurusu Yuugo",
      "photoUrl": "",
      "userId": "00117977046560544733"
     },
     "user_tz": -540
    },
    "id": "XvjgsptEy1DN",
    "outputId": "b2b1d1a6-a60f-4262-ef1f-d5cad8f97dc0"
   },
   "outputs": [
    {
     "name": "stdout",
     "output_type": "stream",
     "text": [
      "1.4142135623730951\n"
     ]
    }
   ],
   "source": [
    "y=root2()\n",
    "print(y)"
   ]
  },
  {
   "cell_type": "markdown",
   "id": "15d87adc",
   "metadata": {
    "colab_type": "text",
    "id": "tTh77A5hy8O4"
   },
   "source": [
    "- 関数を作成したセルでは```tem = 2 ** (0.5) ```で $ \\sqrt 2 $を変数`tem`に代入し、```return tem```で変数`tem`の値を返している\n",
    "- `return`を使って返す値`tem`を**関数の返り値**と呼ぶ\n",
    "- 関数を実行したセルでは```y = root2()```で関数`root2()`で作成した$ \\sqrt 2 $を計算する関数が呼び出されて実行され、返り値がyに代入される"
   ]
  },
  {
   "cell_type": "markdown",
   "id": "ef14b2a0",
   "metadata": {
    "colab_type": "text",
    "id": "89Xn7h9Gz6jR"
   },
   "source": [
    "【問題】$\\sqrt 4 $を計算する関数root4()を作成してみよう"
   ]
  },
  {
   "cell_type": "code",
   "execution_count": 13,
   "id": "3dcaf597",
   "metadata": {
    "colab": {},
    "colab_type": "code",
    "id": "t4FgijE74b7v"
   },
   "outputs": [],
   "source": [
    "def root4():\n",
    "    tmp=4**0.5\n",
    "    return tmp"
   ]
  },
  {
   "cell_type": "markdown",
   "id": "a51993e2",
   "metadata": {
    "colab_type": "text",
    "id": "-4HzvXnu4cyg"
   },
   "source": [
    "上のセルで関数を作成して、実行したら、下のセルを実行して挙動を確認しよう。"
   ]
  },
  {
   "cell_type": "code",
   "execution_count": 16,
   "id": "91576a12",
   "metadata": {
    "colab": {
     "base_uri": "https://localhost:8080/",
     "height": 34
    },
    "colab_type": "code",
    "executionInfo": {
     "elapsed": 1195,
     "status": "ok",
     "timestamp": 1577122748517,
     "user": {
      "displayName": "Kurusu Yuugo",
      "photoUrl": "",
      "userId": "00117977046560544733"
     },
     "user_tz": -540
    },
    "id": "iWo5RM6i42Uo",
    "outputId": "aebf903e-aae6-41ed-ed3f-a4275446c00b"
   },
   "outputs": [
    {
     "name": "stdout",
     "output_type": "stream",
     "text": [
      "2.0\n"
     ]
    }
   ],
   "source": [
    "y=root4()\n",
    "print(y)"
   ]
  },
  {
   "cell_type": "markdown",
   "id": "910de559",
   "metadata": {
    "colab_type": "text",
    "id": "L7q68bJy467u"
   },
   "source": [
    "- 関数の返り値を何か別のコードで再度使用したい場合は、変数に代入しておく方がよい"
   ]
  },
  {
   "cell_type": "markdown",
   "id": "3a716b91",
   "metadata": {},
   "source": [
    "### Tips : print()やinput()の返り値\n",
    "\n",
    "これまでやってきた```print()```や```input()```も関数である。\n",
    "\n",
    "これらの返り値を観察しよう。\n",
    "\n",
    "【例題】変数```a```に好きな値を入れてみよう"
   ]
  },
  {
   "cell_type": "code",
   "execution_count": 19,
   "id": "29078f03",
   "metadata": {},
   "outputs": [
    {
     "name": "stdin",
     "output_type": "stream",
     "text": [
      " 10\n"
     ]
    },
    {
     "name": "stdout",
     "output_type": "stream",
     "text": [
      "aの値: 10\n",
      "bの値: None\n"
     ]
    }
   ],
   "source": [
    "a=input()\n",
    "b=print('aの値:',a)\n",
    "print('bの値:', b)"
   ]
  },
  {
   "cell_type": "markdown",
   "id": "c1d989dd",
   "metadata": {},
   "source": [
    "これらの結果から、以下のことが分かる。\n",
    "\n",
    "- ```input()```で打ち込んだデータは、それ自体が関数```input()```の返り値となる\n",
    "- ```print()```には返り値が存在しない\n",
    "    - 関数の中に「入力を画面に表示する」という処理があるため、文字が表示されている\n",
    "    - 何らかの変数に保存できる形での返り値(出力)は存在しない\n",
    "    - ```None```は「データが無い」という意味のデータ型で、```if None```は```False```と同じ意味になる"
   ]
  },
  {
   "cell_type": "markdown",
   "id": "462e561a",
   "metadata": {
    "colab_type": "text",
    "id": "S5AqZ0oOyGKz"
   },
   "source": [
    "## 2-2. 関数の引数 : 入出力のある関数の作り方\n",
    "\n",
    "【例題】関数で数字を受け取り、計算をした結果を返してみよう。\n",
    "\n",
    "変数`a`と変数`b`を受け取って、`a`と`b`の2乗和を返す関数`square_sum`を定義してみよう"
   ]
  },
  {
   "cell_type": "code",
   "execution_count": 20,
   "id": "002e748c",
   "metadata": {
    "colab": {},
    "colab_type": "code",
    "id": "Un90_rLyNaMA"
   },
   "outputs": [],
   "source": [
    "def square_sum(a, b):\n",
    "    tmp=a**2+b**2\n",
    "    return tmp"
   ]
  },
  {
   "cell_type": "markdown",
   "id": "f6fc4e1a",
   "metadata": {
    "colab_type": "text",
    "id": "iiHgtlEDU4iP"
   },
   "source": [
    "説明の前に、まずは`square_sum`を実行してみよう"
   ]
  },
  {
   "cell_type": "code",
   "execution_count": 21,
   "id": "92c762d1",
   "metadata": {
    "colab": {
     "base_uri": "https://localhost:8080/",
     "height": 68
    },
    "colab_type": "code",
    "executionInfo": {
     "elapsed": 1188,
     "status": "ok",
     "timestamp": 1577122748518,
     "user": {
      "displayName": "Kurusu Yuugo",
      "photoUrl": "",
      "userId": "00117977046560544733"
     },
     "user_tz": -540
    },
    "id": "Su9elrUWV9MJ",
    "outputId": "75034da5-2b4e-4320-f94e-0a5414bf1f6c"
   },
   "outputs": [
    {
     "name": "stdout",
     "output_type": "stream",
     "text": [
      "2\n",
      "2.5\n",
      "10.25\n"
     ]
    }
   ],
   "source": [
    "x=square_sum(-1,1)\n",
    "y=square_sum(1.5,-0.5)\n",
    "z=square_sum(x,y)\n",
    "print(x)\n",
    "print(y)\n",
    "print(z)"
   ]
  },
  {
   "cell_type": "markdown",
   "id": "748e926f",
   "metadata": {
    "colab_type": "text",
    "id": "JLsJvFxeOl-H"
   },
   "source": [
    "- ```def square_sum(a, b):```では、`a`と`b`2つの任意の数を受け取る関数`square_sum`を定義した。\n",
    "\n",
    "- 次に、```tem = a**2 + b**2```で二乗和を計算して一時変数`tem`に代入し、```return tem```で変数`tem`の値を返している\n",
    "\n",
    "- 関数の受け取る変数`a`と`b`を**関数の引数**と呼び、`関数名()`の括弧内でカンマ区切りで定義する\n",
    "\n",
    "- ```x = square_sum(-1, 1)```で関数の引数`a`に-1, `b`に1を代入し、関数からの返り値を`x`に代入している\n",
    "\n",
    "- ```z = square_sum(x, y)```では`a`に`x`(=2)、`b`に`y`(=2.5)を代入して計算させている"
   ]
  },
  {
   "cell_type": "markdown",
   "id": "e2b15c4f",
   "metadata": {
    "colab_type": "text",
    "id": "OTShsl1QY2W-"
   },
   "source": [
    "【問題】 $\\frac{1}{x^2}$を計算する関数calc(x)を作成してみよう\n",
    "\n",
    "注意：分母が0 になる時は\"Error\"を返す関数にしよう！"
   ]
  },
  {
   "cell_type": "code",
   "execution_count": 25,
   "id": "b4969a63",
   "metadata": {
    "colab": {},
    "colab_type": "code",
    "id": "0OI49YguOju1"
   },
   "outputs": [],
   "source": [
    "def calc(x):\n",
    "    if x==0:\n",
    "        return 'Error'\n",
    "    tmp=1/(x**2)\n",
    "    return tmp"
   ]
  },
  {
   "cell_type": "markdown",
   "id": "68e88897",
   "metadata": {
    "colab_type": "text",
    "id": "W__XiozxajgL"
   },
   "source": [
    "次に、下のセルを実行して、いま作った関数を使ってみよう"
   ]
  },
  {
   "cell_type": "code",
   "execution_count": 26,
   "id": "32b25a71",
   "metadata": {
    "colab": {
     "base_uri": "https://localhost:8080/",
     "height": 68
    },
    "colab_type": "code",
    "executionInfo": {
     "elapsed": 618,
     "status": "ok",
     "timestamp": 1577623529084,
     "user": {
      "displayName": "Kurusu Yuugo",
      "photoUrl": "",
      "userId": "00117977046560544733"
     },
     "user_tz": -540
    },
    "id": "JRxr-6E8_gPg",
    "outputId": "10d6d321-6d63-48f3-ae99-9c8f3f758ad5"
   },
   "outputs": [
    {
     "name": "stdout",
     "output_type": "stream",
     "text": [
      "1.0\n",
      "0.25\n",
      "Error\n"
     ]
    }
   ],
   "source": [
    "print(calc(1))\n",
    "print(calc(2))\n",
    "print(calc(0))"
   ]
  },
  {
   "cell_type": "markdown",
   "id": "d62588c0",
   "metadata": {},
   "source": [
    "## 3. if文,for文と関数"
   ]
  },
  {
   "cell_type": "markdown",
   "id": "0f2613cd",
   "metadata": {},
   "source": [
    "【例題】3歳以下は無料、60歳以上は半額の遊園地Yで、入場料を計算する関数```yomiuri```を作ろう。なお通常の入場料は1800円とする。"
   ]
  },
  {
   "cell_type": "code",
   "execution_count": 35,
   "id": "15400496",
   "metadata": {},
   "outputs": [],
   "source": [
    "def yomiuri(age):\n",
    "    base=1800\n",
    "    if age<=3:\n",
    "        return 0\n",
    "    elif age>=60:\n",
    "        return int(base/2)\n",
    "    else:\n",
    "        return base"
   ]
  },
  {
   "cell_type": "markdown",
   "id": "c26c9540",
   "metadata": {},
   "source": [
    "このように、if文やfor文を関数に組み込むと、コーディングの幅が格段に広がる。\n",
    "\n",
    "以下のセルを実行して挙動を確認してみよう。"
   ]
  },
  {
   "cell_type": "code",
   "execution_count": 32,
   "id": "7bbe6dee",
   "metadata": {},
   "outputs": [
    {
     "name": "stdout",
     "output_type": "stream",
     "text": [
      "2 歳のお客様の入場料は 0 円です。\n"
     ]
    }
   ],
   "source": [
    "n=2\n",
    "x=yomiuri(n)\n",
    "print(n, '歳のお客様の入場料は',x,'円です。')"
   ]
  },
  {
   "cell_type": "code",
   "execution_count": 33,
   "id": "0045442d",
   "metadata": {},
   "outputs": [
    {
     "name": "stdout",
     "output_type": "stream",
     "text": [
      "43 歳のお客様の入場料は 1800 円です。\n"
     ]
    }
   ],
   "source": [
    "n=43\n",
    "x=yomiuri(n)\n",
    "print(n, '歳のお客様の入場料は',x,'円です。')"
   ]
  },
  {
   "cell_type": "code",
   "execution_count": 34,
   "id": "442b0389",
   "metadata": {},
   "outputs": [
    {
     "name": "stdout",
     "output_type": "stream",
     "text": [
      "67 歳のお客様の入場料は 900 円です。\n"
     ]
    }
   ],
   "source": [
    "n=67\n",
    "x=yomiuri(n)\n",
    "print(n, '歳のお客様の入場料は',x,'円です。')"
   ]
  },
  {
   "cell_type": "markdown",
   "id": "d69972f6",
   "metadata": {},
   "source": [
    "【問題】上記の遊園地Yの関数を、以下の条件を満たすように改良して```yomiuri2()```としよう。\n",
    "\n",
    "- 「〇歳の入場料は△円です」と表示する処理を、関数内に組み込む\n",
    "- キャンペーンで20歳と60歳の入場者は料金が2割引きになる"
   ]
  },
  {
   "cell_type": "code",
   "execution_count": 40,
   "id": "46166535",
   "metadata": {},
   "outputs": [],
   "source": [
    "def yomiuri2(age):\n",
    "    base=1800\n",
    "    if age<=3:\n",
    "        price=0\n",
    "    elif age>=60:\n",
    "        price=int(base/2)\n",
    "    else:\n",
    "        price=base\n",
    "        \n",
    "    if age==20 or age==60:\n",
    "        price=int(price*0.8)\n",
    "        \n",
    "    return print(age, '歳のお客様の入場料は', price, '円です。')"
   ]
  },
  {
   "cell_type": "markdown",
   "id": "daf43610",
   "metadata": {},
   "source": [
    "以下のセルを実行して挙動を確認しよう。"
   ]
  },
  {
   "cell_type": "code",
   "execution_count": 41,
   "id": "08ecc74b",
   "metadata": {},
   "outputs": [
    {
     "name": "stdout",
     "output_type": "stream",
     "text": [
      "2 歳のお客様の入場料は 0 円です。\n",
      "20 歳のお客様の入場料は 1440 円です。\n",
      "43 歳のお客様の入場料は 1800 円です。\n",
      "67 歳のお客様の入場料は 900 円です。\n"
     ]
    }
   ],
   "source": [
    "yomiuri2(2)\n",
    "yomiuri2(20)\n",
    "yomiuri2(43)\n",
    "yomiuri2(67)"
   ]
  },
  {
   "cell_type": "markdown",
   "id": "e80a5a7e",
   "metadata": {},
   "source": [
    "## 4.引数が複数ある関数\n",
    "\n",
    "【例題】遊園地Yは経営難となり、休日の入場料を2割増しにした。年齢による制限は変わっていない。\n",
    "\n",
    "平日を0、休日を1として、「年齢」と「曜日区分」を入力すると正しい入場料を返す関数```yomiuri3```を作ろう。\n",
    "\n",
    "※前項の問題であった「20歳、60歳は2割引き」というキャンペーンはやっていないものとする。"
   ]
  },
  {
   "cell_type": "code",
   "execution_count": 47,
   "id": "054e3357",
   "metadata": {},
   "outputs": [],
   "source": [
    "def yomiuri3(age, day):\n",
    "    base=1800\n",
    "    if age<=3:\n",
    "        price=0\n",
    "    elif age>=60:\n",
    "        price=int(base/2)\n",
    "    else:\n",
    "        price=base\n",
    "        \n",
    "    if day==1:\n",
    "        price=int(price*1.2)\n",
    "        \n",
    "    return print(age, '歳のお客様の入場料は', price, '円です。')"
   ]
  },
  {
   "cell_type": "markdown",
   "id": "4013f255",
   "metadata": {},
   "source": [
    "以下のセルを実行して確認しよう。"
   ]
  },
  {
   "cell_type": "code",
   "execution_count": 48,
   "id": "26d25b60",
   "metadata": {},
   "outputs": [
    {
     "name": "stdout",
     "output_type": "stream",
     "text": [
      "2 歳のお客様の入場料は 0 円です。\n",
      "2 歳のお客様の入場料は 0 円です。\n"
     ]
    }
   ],
   "source": [
    "yomiuri3(2,0)\n",
    "yomiuri3(2,1)"
   ]
  },
  {
   "cell_type": "code",
   "execution_count": 49,
   "id": "cc87479d",
   "metadata": {},
   "outputs": [
    {
     "name": "stdout",
     "output_type": "stream",
     "text": [
      "43 歳のお客様の入場料は 1800 円です。\n",
      "43 歳のお客様の入場料は 2160 円です。\n"
     ]
    }
   ],
   "source": [
    "yomiuri3(43,0)\n",
    "yomiuri3(43,1)"
   ]
  },
  {
   "cell_type": "code",
   "execution_count": 50,
   "id": "fdc83692",
   "metadata": {},
   "outputs": [
    {
     "name": "stdout",
     "output_type": "stream",
     "text": [
      "67 歳のお客様の入場料は 900 円です。\n",
      "67 歳のお客様の入場料は 1080 円です。\n"
     ]
    }
   ],
   "source": [
    "yomiuri3(67,0)\n",
    "yomiuri3(67,1)"
   ]
  },
  {
   "cell_type": "markdown",
   "id": "b3c63aeb",
   "metadata": {},
   "source": [
    "## 5.変数のスコープ：ローカル変数とグローバル変数\n",
    "- 関数内で定義されている変数は**ローカル変数**という。\n",
    "    - 関数の中だけで存在し、関数の外で同じ変数を呼び出すことはできないことに注意。\n",
    "    - 例えば上の関数について```print(age)```や```print(base)```と実行しても、変数が存在しないと言われてエラーになる\n",
    "- このように、各変数には使える範囲が存在し、**スコープ**と呼ぶ。"
   ]
  },
  {
   "cell_type": "code",
   "execution_count": 51,
   "id": "87a9fe47",
   "metadata": {},
   "outputs": [
    {
     "ename": "NameError",
     "evalue": "name 'age' is not defined",
     "output_type": "error",
     "traceback": [
      "\u001b[0;31m---------------------------------------------------------------------------\u001b[0m",
      "\u001b[0;31mNameError\u001b[0m                                 Traceback (most recent call last)",
      "Cell \u001b[0;32mIn[51], line 1\u001b[0m\n\u001b[0;32m----> 1\u001b[0m \u001b[38;5;28mprint\u001b[39m(\u001b[43mage\u001b[49m)\n",
      "\u001b[0;31mNameError\u001b[0m: name 'age' is not defined"
     ]
    }
   ],
   "source": [
    "print(age)"
   ]
  },
  {
   "cell_type": "code",
   "execution_count": 52,
   "id": "caf9ce5e",
   "metadata": {},
   "outputs": [
    {
     "ename": "NameError",
     "evalue": "name 'base' is not defined",
     "output_type": "error",
     "traceback": [
      "\u001b[0;31m---------------------------------------------------------------------------\u001b[0m",
      "\u001b[0;31mNameError\u001b[0m                                 Traceback (most recent call last)",
      "Cell \u001b[0;32mIn[52], line 1\u001b[0m\n\u001b[0;32m----> 1\u001b[0m \u001b[38;5;28mprint\u001b[39m(\u001b[43mbase\u001b[49m)\n",
      "\u001b[0;31mNameError\u001b[0m: name 'base' is not defined"
     ]
    }
   ],
   "source": [
    "print(base)"
   ]
  },
  {
   "cell_type": "markdown",
   "id": "ba77fddf",
   "metadata": {},
   "source": [
    "### 5-1. 関数外の変数を関数内で参照する\n",
    "\n",
    "もう少し詳しく見てみよう。\n",
    "\n",
    "関数```yomiuri3```に対して、基本料金の変数```base```を関数の外に置いてみる。"
   ]
  },
  {
   "cell_type": "code",
   "execution_count": 53,
   "id": "bb5854ab",
   "metadata": {},
   "outputs": [],
   "source": [
    "base=1800\n",
    "def yomiuri3(age, day):\n",
    "    if age<=3:\n",
    "        price=0\n",
    "    elif age>=60:\n",
    "        price=int(base/2)\n",
    "    else:\n",
    "        price=base\n",
    "        \n",
    "    if day==1:\n",
    "        price=int(price*1.2)\n",
    "        \n",
    "    return print(age, '歳のお客様の入場料は', price, '円です。')"
   ]
  },
  {
   "cell_type": "markdown",
   "id": "197b0c17",
   "metadata": {},
   "source": [
    "この状態で関数が動くかどうか確認しよう。"
   ]
  },
  {
   "cell_type": "code",
   "execution_count": 54,
   "id": "0e46190a",
   "metadata": {},
   "outputs": [
    {
     "name": "stdout",
     "output_type": "stream",
     "text": [
      "18 歳のお客様の入場料は 1800 円です。\n",
      "18 歳のお客様の入場料は 2160 円です。\n"
     ]
    }
   ],
   "source": [
    "yomiuri3(18,0)\n",
    "yomiuri3(18,1)"
   ]
  },
  {
   "cell_type": "markdown",
   "id": "4f24c3fd",
   "metadata": {},
   "source": [
    "これはきちんと動く。関数外の変数を**グローバル変数**と呼び、これは事由に関数内で参照できる。\n",
    "\n",
    "グローバル変数を書き換えると、関数の結果も変わる。"
   ]
  },
  {
   "cell_type": "code",
   "execution_count": 55,
   "id": "5d807948",
   "metadata": {},
   "outputs": [
    {
     "name": "stdout",
     "output_type": "stream",
     "text": [
      "18 歳のお客様の入場料は 2000 円です。\n",
      "18 歳のお客様の入場料は 2400 円です。\n"
     ]
    }
   ],
   "source": [
    "base=2000\n",
    "yomiuri3(18,0)\n",
    "yomiuri3(18,1)"
   ]
  },
  {
   "cell_type": "markdown",
   "id": "033db213",
   "metadata": {},
   "source": [
    "### 5-2. グローバル変数を関数内で書き換える\n",
    "\n",
    "グローバル変数を関数内で書き換えるとどうなるか、見てみよう。"
   ]
  },
  {
   "cell_type": "code",
   "execution_count": 56,
   "id": "79935a5a",
   "metadata": {},
   "outputs": [],
   "source": [
    "base=1800\n",
    "def yomiuri3(age, day):\n",
    "    base=2000\n",
    "    if age<=3:\n",
    "        price=0\n",
    "    elif age>=60:\n",
    "        price=int(base/2)\n",
    "    else:\n",
    "        price=base\n",
    "        \n",
    "    if day==1:\n",
    "        price=int(price*1.2)\n",
    "        \n",
    "    return print(age, '歳のお客様の入場料は', price, '円です。')"
   ]
  },
  {
   "cell_type": "code",
   "execution_count": 57,
   "id": "14247ff9",
   "metadata": {},
   "outputs": [
    {
     "name": "stdout",
     "output_type": "stream",
     "text": [
      "18 歳のお客様の入場料は 2000 円です。\n",
      "18 歳のお客様の入場料は 2400 円です。\n"
     ]
    }
   ],
   "source": [
    "yomiuri3(18,0)\n",
    "yomiuri3(18,1)"
   ]
  },
  {
   "cell_type": "markdown",
   "id": "f722862f",
   "metadata": {},
   "source": [
    "この場合は```base```がローカル変数として認識され、関数の処理にはローカル変数が使用される。"
   ]
  },
  {
   "cell_type": "markdown",
   "id": "914fae1f",
   "metadata": {},
   "source": [
    "### Tips : モジュールスコープとローカルスコープ\n",
    "\n",
    "Pythonプログラムのうち、関数以外の部分を**モジュールスコープ(Module scope)**という。\n",
    "\n",
    "逆に関数内の部分は**ローカルスコープ(Local scope)**という。\n",
    "\n",
    "モジュールスコープで代入された変数は**グローバル変数**、ローカルスコープで代入された変数は**ローカル変数**になる。\n",
    "\n",
    "前述のとおり、同じモジュールスコープで定義されたグローバル変数は、関数の内側でも参照できる。\n",
    "\n",
    "また、関数の内側では、グローバル変数だけではなく、同じモジュールスコープで定義した別の関数も呼び出せる。"
   ]
  }
 ],
 "metadata": {
  "kernelspec": {
   "display_name": "Python 3 (ipykernel)",
   "language": "python",
   "name": "python3"
  },
  "language_info": {
   "codemirror_mode": {
    "name": "ipython",
    "version": 3
   },
   "file_extension": ".py",
   "mimetype": "text/x-python",
   "name": "python",
   "nbconvert_exporter": "python",
   "pygments_lexer": "ipython3",
   "version": "3.10.12"
  }
 },
 "nbformat": 4,
 "nbformat_minor": 5
}
