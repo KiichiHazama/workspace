{
 "cells": [
  {
   "cell_type": "markdown",
   "id": "fd0c8ff7",
   "metadata": {
    "id": "5388aec9"
   },
   "source": [
    "# 入力と出力\n",
    "\n",
    "「入力」と「出力」の関数を実際に使ってみよう。"
   ]
  },
  {
   "cell_type": "markdown",
   "id": "1acb088c",
   "metadata": {
    "id": "0480c2b9"
   },
   "source": [
    "## 1. 入力と出力\n",
    "プログラムを実行するときに、自分でデータを入力したい場合がある。\n",
    "入力を体験してみよう!\n",
    "\n",
    "\n",
    "【例題1】プログラムを実行して、「AVILEN」と入力してみよう！"
   ]
  },
  {
   "cell_type": "code",
   "execution_count": 1,
   "id": "27048572",
   "metadata": {
    "id": "adf33855"
   },
   "outputs": [],
   "source": [
    "print(\"名前を教えてください\")\n",
    "name = input()\n",
    "print(\"あなたの名前は\", name, \"ですね？\")"
   ]
  },
  {
   "cell_type": "markdown",
   "id": "bf501487",
   "metadata": {
    "id": "faa059da"
   },
   "source": [
    "**解説**\n",
    "- 入力にはinput()という関数を利用して**`変数 = input()`**とコーディングする\n",
    "- 例題では入力した文字を変数`name`に代入した後、print()で変数`name`を出力している\n",
    "    - print()内で様々な要素を出力するときは  **,(カンマ)**  で区切る"
   ]
  },
  {
   "cell_type": "markdown",
   "id": "e3e7dc02",
   "metadata": {
    "id": "1a457d60"
   },
   "source": [
    "【問題1】input()とprint()を利用して、自由にプログラムしてみよう。"
   ]
  },
  {
   "cell_type": "code",
   "execution_count": null,
   "id": "444d3619",
   "metadata": {
    "id": "03dcf2b2"
   },
   "outputs": [],
   "source": []
  },
  {
   "cell_type": "markdown",
   "id": "9d4c4eea",
   "metadata": {
    "id": "c0de7251"
   },
   "source": [
    "- プログラミングの必須操作、入力と出力の組み込み関数について確認できただろうか？"
   ]
  },
  {
   "cell_type": "markdown",
   "id": "709a373e",
   "metadata": {
    "id": "f3f055e7"
   },
   "source": [
    "## 2. input()の型と計算\n",
    "\n",
    "以下の例を実行して体験してみよう。\n",
    "\n",
    "【例題2】まず、以下のinput()関数の変数```value```に数字を入力し、その数値の二乗を計算してみよう。 "
   ]
  },
  {
   "cell_type": "code",
   "execution_count": null,
   "id": "f49d19ca",
   "metadata": {
    "id": "6c7dbe2c"
   },
   "outputs": [],
   "source": [
    "value = input(\"二乗したい数値は？\")\n",
    "print(\"計算結果：\" , value*value)"
   ]
  },
  {
   "cell_type": "markdown",
   "id": "9ed6f44a",
   "metadata": {
    "id": "9c8fd5b5"
   },
   "source": [
    "**解説**\n",
    "\n",
    "- パソコンが計算ミスをしたわけではない。落ち着いて変数```value```の型を確認しよう。"
   ]
  },
  {
   "cell_type": "code",
   "execution_count": null,
   "id": "abf75514",
   "metadata": {
    "id": "5eefae38"
   },
   "outputs": [],
   "source": [
    "value = input(\"二乗したい数値は？\")\n",
    "print(type(value))"
   ]
  },
  {
   "cell_type": "markdown",
   "id": "0b013f67",
   "metadata": {
    "id": "b7c00fa1"
   },
   "source": [
    "- input()で取得した値は文字列(str型)として認識される。\n",
    "    - ```*```や```+```などはint型にしか適用できないので、エラーが出たというわけだ。"
   ]
  },
  {
   "cell_type": "markdown",
   "id": "07b168ee",
   "metadata": {
    "id": "369baf56"
   },
   "source": [
    "【問題2】以下のプログラムでは入力された値が文字列型のため、例えば5を入力した時`5 × 3 ＝ 555`と表示されてしまう。  \n",
    "コードを修正して正しい計算結果が出力されるプログラムを完成させよう！"
   ]
  },
  {
   "cell_type": "code",
   "execution_count": null,
   "id": "4548ae74",
   "metadata": {
    "id": "2f6b15a8"
   },
   "outputs": [],
   "source": [
    "print(\"九九の結果を出力します。何の段が知りたいですか？\")\n",
    "value = input()\n",
    "print(value, \"× 1 ＝\", value*1)\n",
    "print(value, \"× 2 ＝\", value*2)\n",
    "print(value, \"× 3 ＝\", value*3)"
   ]
  },
  {
   "cell_type": "markdown",
   "id": "45146c34",
   "metadata": {
    "id": "a454af8e"
   },
   "source": [
    " 入力された数字を演算する場合、必ず文字列型から数値型へ変換する必要がある。  \n",
    "\n",
    "よく使うケースなので覚えておこう。 "
   ]
  },
  {
   "cell_type": "code",
   "execution_count": null,
   "id": "984f335b",
   "metadata": {
    "id": "cfb30cf0"
   },
   "outputs": [],
   "source": []
  }
 ],
 "metadata": {
  "colab": {
   "provenance": []
  },
  "kernelspec": {
   "display_name": "Python 3 (ipykernel)",
   "language": "python",
   "name": "python3"
  },
  "language_info": {
   "codemirror_mode": {
    "name": "ipython",
    "version": 3
   },
   "file_extension": ".py",
   "mimetype": "text/x-python",
   "name": "python",
   "nbconvert_exporter": "python",
   "pygments_lexer": "ipython3",
   "version": "3.10.12"
  },
  "vscode": {
   "interpreter": {
    "hash": "31f2aee4e71d21fbe5cf8b01ff0e069b9275f58929596ceb00d14d90e3e16cd6"
   }
  }
 },
 "nbformat": 4,
 "nbformat_minor": 5
}
