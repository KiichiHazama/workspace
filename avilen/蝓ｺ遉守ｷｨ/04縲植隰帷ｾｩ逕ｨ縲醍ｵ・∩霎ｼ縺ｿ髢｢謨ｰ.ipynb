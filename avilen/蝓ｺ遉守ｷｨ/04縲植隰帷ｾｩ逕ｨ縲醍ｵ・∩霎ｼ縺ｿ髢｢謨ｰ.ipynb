{
 "cells": [
  {
   "cell_type": "markdown",
   "id": "593c254a",
   "metadata": {
    "id": "04542143"
   },
   "source": [
    "# 組み込み関数\n",
    "\n",
    "この章ではプログラミングの便利ツール**組み込み関数**について勉強しよう！  \n",
    "組み込み関数：難しい操作無しで利用できる関数のこと。(例：print())  \n",
    "\n",
    "**プログラミングでは全てを1から作る必要はない。先人のプログラムをうまく利用しよう**\n",
    "\n",
    "というわけで、代表的な組み込み関数を実際に使ってみよう。\n"
   ]
  },
  {
   "cell_type": "markdown",
   "id": "81fe01d6",
   "metadata": {
    "id": "7164a411"
   },
   "source": [
    "## 1. 型の確認と変換\n",
    "\n",
    "プログラミングでは変数の型を変換しなければならない場合がある。\n",
    "\n",
    "以下の例を実行して体験してみよう。\n",
    "\n",
    "【例題1-1】まず、以下のように宣言した数字は、文字列と数値のどちらの型か確認しよう。"
   ]
  },
  {
   "cell_type": "code",
   "execution_count": null,
   "id": "3d721fbc",
   "metadata": {
    "id": "70124f44"
   },
   "outputs": [],
   "source": [
    "a = 1\n",
    "b = \"1\"\n",
    "print(type(a))\n",
    "print(type(b))"
   ]
  },
  {
   "cell_type": "markdown",
   "id": "f3986642",
   "metadata": {
    "id": "31e32c40"
   },
   "source": [
    "変数の型を確認するには type() を使う。\n",
    "\n",
    "int,float,str,boolなどが出力されるはずだ。"
   ]
  },
  {
   "cell_type": "markdown",
   "id": "260fd988",
   "metadata": {
    "id": "fc87f8db"
   },
   "source": [
    "### 型の変換\n",
    "\n",
    "【例題1-2】次のプログラムを実行して、文字列から数値への変換方法と数値から文字列への変換方法を学んでみよう。"
   ]
  },
  {
   "cell_type": "code",
   "execution_count": null,
   "id": "055c8179",
   "metadata": {
    "id": "9ad73fd5"
   },
   "outputs": [],
   "source": [
    "a = \"1\"\n",
    "b = \"1.5\"\n",
    "c = 2\n",
    "print(int(a)*3)\n",
    "print(float(b)*3)\n",
    "print(str(c)*3)"
   ]
  },
  {
   "cell_type": "markdown",
   "id": "cbb9fc80",
   "metadata": {
    "id": "1c2350e4"
   },
   "source": [
    "```\n",
    "int(a)    <-- 変換したい変数をint()内に入れることでint型(整数型)に変換できる。\n",
    "float(b)  <-- 変換したい変数をfloat()内に入れることでfloat型(浮動小数点数型)に変換できる。\n",
    "str(c)    <-- 変換したい変数をstr()内に入れることでstr型(文字列型)に変換できる。\n",
    "```"
   ]
  },
  {
   "cell_type": "markdown",
   "id": "2ab5123d",
   "metadata": {
    "id": "b5a3e8f5"
   },
   "source": [
    "**補足：**小数型を整数型に変換する場合、以下の2種類の方法をよく用いる。\n",
    "- 小数を切り捨て：**int(変数)**\n",
    "- 四捨五入：**round(変数)**"
   ]
  },
  {
   "cell_type": "markdown",
   "id": "fabf8bb2",
   "metadata": {
    "id": "c22274a1"
   },
   "source": [
    "## 2. len(),min(),max(),sum()\n",
    "\n",
    "それでは、さまざまな組み込み関数を使ってみよう。\n",
    "\n",
    "【例題2-1】lenを使ってみよう。"
   ]
  },
  {
   "cell_type": "code",
   "execution_count": null,
   "id": "2f50b6be",
   "metadata": {
    "id": "dc7ad573"
   },
   "outputs": [],
   "source": [
    "name = \"AVILEN\"\n",
    "print(name,\"は\",len(name),\"文字です\")"
   ]
  },
  {
   "cell_type": "markdown",
   "id": "95f6b76d",
   "metadata": {
    "id": "cfbc8bd9"
   },
   "source": [
    "len()はstr型に対しては文字数をカウントする組み込み関数である。"
   ]
  },
  {
   "cell_type": "code",
   "execution_count": null,
   "id": "31f7d733",
   "metadata": {
    "id": "1343f458"
   },
   "outputs": [],
   "source": [
    "a = 10\n",
    "print(len(a))"
   ]
  },
  {
   "cell_type": "markdown",
   "id": "53eb64f7",
   "metadata": {
    "id": "db5f3208"
   },
   "source": [
    "上記のように、intやfloatに対してlen()を使うとエラーになる。"
   ]
  },
  {
   "cell_type": "code",
   "execution_count": null,
   "id": "eb7fd37e",
   "metadata": {
    "id": "25e5b525"
   },
   "outputs": [],
   "source": [
    "list = [\"A\",\"B\",\"C\"]\n",
    "print(len(list))"
   ]
  },
  {
   "cell_type": "markdown",
   "id": "77ef8749",
   "metadata": {
    "id": "f1f8f48b"
   },
   "source": [
    "listに対するlen()は、リストの要素数を返す関数となる。"
   ]
  },
  {
   "cell_type": "markdown",
   "id": "9da44b6d",
   "metadata": {
    "id": "0ad7214f"
   },
   "source": [
    "【例題2-2】min、maxを使ってみよう"
   ]
  },
  {
   "cell_type": "code",
   "execution_count": null,
   "id": "a35c2534",
   "metadata": {
    "id": "8c90d833"
   },
   "outputs": [],
   "source": [
    "print(min(4,8,2,1,6))\n",
    "print(max(4,8,2,1,6))\n",
    "print(min(\"M\",\"A\",\"O\",\"Z\"))\n",
    "print(max(\"M\",\"A\",\"O\",\"Z\"))"
   ]
  },
  {
   "cell_type": "markdown",
   "id": "2ac452fe",
   "metadata": {
    "id": "b919ae08"
   },
   "source": [
    "- minは要素の中で最小値を取得する組み込み関数である  \n",
    "  + アルファベットでは`A`が最小値になる\n",
    "- maxは要素の中で最大値を取得する組み込み関数である\n",
    "  + アルファベットでは`Z`が最大値になる。 \n",
    "\n",
    "**注意** \n",
    "- len()の中に数値を入れるとエラーが起きるので注意しよう。\n",
    "- min()とmax()の中に数値と文字列を混在させるとエラーが起きるので注意しよう。"
   ]
  },
  {
   "cell_type": "markdown",
   "id": "13685a53",
   "metadata": {
    "id": "4983d6d1"
   },
   "source": [
    "リストに対してmin()/max()を使ってみよう。"
   ]
  },
  {
   "cell_type": "code",
   "execution_count": null,
   "id": "8395589c",
   "metadata": {
    "id": "38f0b437"
   },
   "outputs": [],
   "source": [
    "print(min([4,3,2,1,6]))\n",
    "print(max([4,3,2,1,6]))"
   ]
  },
  {
   "cell_type": "markdown",
   "id": "00b94739",
   "metadata": {
    "id": "8035bc5a"
   },
   "source": [
    "リストに対しては、そのリストの中の最大値・最小値を返す関数になる。"
   ]
  },
  {
   "cell_type": "markdown",
   "id": "6ecdb854",
   "metadata": {
    "id": "c9fe7a96"
   },
   "source": [
    "【例題2-3】sumを使ってみよう"
   ]
  },
  {
   "cell_type": "code",
   "execution_count": null,
   "id": "1aa8f2aa",
   "metadata": {
    "id": "dd75f317",
    "scrolled": true
   },
   "outputs": [],
   "source": [
    "print(sum(4,8,2,1,6))"
   ]
  },
  {
   "cell_type": "code",
   "execution_count": null,
   "id": "7a5206de",
   "metadata": {
    "id": "2302c3b9"
   },
   "outputs": [],
   "source": [
    "print(sum([4,8,2,1,6]))"
   ]
  },
  {
   "cell_type": "markdown",
   "id": "cad33341",
   "metadata": {
    "id": "4c62cef4"
   },
   "source": [
    "sumはリストに対して使用できる関数で、リスト内の要素を全て足した結果を返す。\n",
    "\n",
    "文字列リストに対しては使用するとエラーになる。"
   ]
  },
  {
   "cell_type": "code",
   "execution_count": null,
   "id": "cda96ea1",
   "metadata": {
    "id": "38265452"
   },
   "outputs": [],
   "source": [
    "print(sum([\"M\",\"A\",\"O\",\"Z\"]))"
   ]
  },
  {
   "cell_type": "markdown",
   "id": "7c227e69",
   "metadata": {
    "id": "8cc6ad09"
   },
   "source": [
    "【問題】じゅげむはひらがなで書くと何文字なのか調べたい。  \n",
    "変数`jugemu`に名前を書いておいたので組み込み関数を用いて何文字か出力せよ。"
   ]
  },
  {
   "cell_type": "code",
   "execution_count": null,
   "id": "ad8d4b21",
   "metadata": {
    "id": "1d3d74be"
   },
   "outputs": [],
   "source": [
    "# 【問題】を回答する前に実行してください。\n",
    "jugemu = \"じゅげむじゅげむごこうのすりきれかいじゃりすいぎょのすいぎょうまつうんらいまつふうらいまつくうねるところにすむところやぶらこうじのぶらこうじぱいぽぱいぽぱいぽのしゅーりんがんしゅーりんがんのぐーりんだいぐーりんだいのぽんぽこぴーのぽんぽこなーのちょうきゅうめいのちょうすけ\""
   ]
  },
  {
   "cell_type": "markdown",
   "id": "07c4fa5a",
   "metadata": {
    "id": "59afb302"
   },
   "source": [
    "回答欄は以下です。"
   ]
  },
  {
   "cell_type": "code",
   "execution_count": null,
   "id": "5d0ba733",
   "metadata": {
    "id": "4ba089d5"
   },
   "outputs": [],
   "source": []
  },
  {
   "cell_type": "code",
   "execution_count": null,
   "id": "acabd65c",
   "metadata": {
    "id": "94f0488a"
   },
   "outputs": [],
   "source": []
  }
 ],
 "metadata": {
  "colab": {
   "provenance": []
  },
  "kernelspec": {
   "display_name": "Python 3 (ipykernel)",
   "language": "python",
   "name": "python3"
  },
  "language_info": {
   "codemirror_mode": {
    "name": "ipython",
    "version": 3
   },
   "file_extension": ".py",
   "mimetype": "text/x-python",
   "name": "python",
   "nbconvert_exporter": "python",
   "pygments_lexer": "ipython3",
   "version": "3.10.12"
  },
  "vscode": {
   "interpreter": {
    "hash": "31f2aee4e71d21fbe5cf8b01ff0e069b9275f58929596ceb00d14d90e3e16cd6"
   }
  }
 },
 "nbformat": 4,
 "nbformat_minor": 5
}
