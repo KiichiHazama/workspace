{
 "cells": [
  {
   "cell_type": "markdown",
   "id": "d1c730b6",
   "metadata": {
    "id": "c5907807"
   },
   "source": [
    "# 10. データ型と関数\n",
    "---\n",
    "\n",
    "Pythonには、特定のデータ型にしか適用できない関数がある。\n",
    "\n",
    "今回はそれらの関数をいくつか紹介しよう。"
   ]
  },
  {
   "cell_type": "markdown",
   "id": "9812d7a9",
   "metadata": {
    "id": "ac268880"
   },
   "source": [
    "### split関数\n",
    "\n",
    "`split()`は文字型にのみ使用できる。\n",
    "\n",
    "()の中には文字が入り、指定された文字で文字列を区切ることができる。"
   ]
  },
  {
   "cell_type": "code",
   "execution_count": 1,
   "id": "f43388f0",
   "metadata": {
    "id": "bddf8746"
   },
   "outputs": [
    {
     "data": {
      "text/plain": [
       "['会員になるためには', '氏名', '住所', '性別', '電話番号を伝えなければならない。']"
      ]
     },
     "execution_count": 1,
     "metadata": {},
     "output_type": "execute_result"
    }
   ],
   "source": [
    "sample='会員になるためには、氏名、住所、性別、電話番号を伝えなければならない。'\n",
    "sample.split('、')"
   ]
  },
  {
   "cell_type": "markdown",
   "id": "c07967a1",
   "metadata": {
    "id": "c6014030"
   },
   "source": [
    "このように結果は区切った文字列のリストになる。"
   ]
  },
  {
   "cell_type": "markdown",
   "id": "d8658d7f",
   "metadata": {
    "id": "fad4b9d1"
   },
   "source": [
    "### sort関数\n",
    "\n",
    "`sort()`はリストの要素を並び替えられる。"
   ]
  },
  {
   "cell_type": "code",
   "execution_count": 2,
   "id": "89d3475c",
   "metadata": {
    "id": "20379968"
   },
   "outputs": [
    {
     "name": "stdout",
     "output_type": "stream",
     "text": [
      "[1, 2, 3, 4, 5]\n"
     ]
    }
   ],
   "source": [
    "org_list=[3,1,4,5,2]\n",
    "org_list.sort()\n",
    "print(org_list)"
   ]
  },
  {
   "cell_type": "markdown",
   "id": "b3890a06",
   "metadata": {
    "id": "59b68756"
   },
   "source": [
    "デフォルトは昇順。降順にソートしたい場合は引数reverseをTrueとする。"
   ]
  },
  {
   "cell_type": "code",
   "execution_count": 3,
   "id": "f7cd5686",
   "metadata": {
    "id": "59adb063"
   },
   "outputs": [
    {
     "name": "stdout",
     "output_type": "stream",
     "text": [
      "[5, 4, 3, 2, 1]\n"
     ]
    }
   ],
   "source": [
    "org_list.sort(reverse=True)\n",
    "print(org_list)"
   ]
  },
  {
   "cell_type": "markdown",
   "id": "ba960a3f",
   "metadata": {
    "id": "754e981c"
   },
   "source": [
    "ちなみに`sort`は文字列のリストもアルファベット順、五十音順にソートできる。"
   ]
  },
  {
   "cell_type": "code",
   "execution_count": 4,
   "id": "8b90493c",
   "metadata": {
    "id": "2c20c61c"
   },
   "outputs": [
    {
     "name": "stdout",
     "output_type": "stream",
     "text": [
      "['apple', 'banana', 'lemon', 'orange', 'peach']\n"
     ]
    }
   ],
   "source": [
    "sample1=['banana', 'apple', 'orange', 'peach', 'lemon']\n",
    "sample1.sort()\n",
    "print(sample1)"
   ]
  },
  {
   "cell_type": "code",
   "execution_count": 5,
   "id": "d21a84a3",
   "metadata": {
    "id": "f8cac81a"
   },
   "outputs": [
    {
     "name": "stdout",
     "output_type": "stream",
     "text": [
      "['あお', 'あか', 'きいろ', 'みどり']\n"
     ]
    }
   ],
   "source": [
    "sample2=['みどり', 'あか', 'きいろ', 'あお']\n",
    "sample2.sort()\n",
    "print(sample2)"
   ]
  },
  {
   "cell_type": "code",
   "execution_count": null,
   "id": "360ad31f",
   "metadata": {},
   "outputs": [],
   "source": []
  }
 ],
 "metadata": {
  "colab": {
   "provenance": []
  },
  "kernelspec": {
   "display_name": "Python 3 (ipykernel)",
   "language": "python",
   "name": "python3"
  },
  "language_info": {
   "codemirror_mode": {
    "name": "ipython",
    "version": 3
   },
   "file_extension": ".py",
   "mimetype": "text/x-python",
   "name": "python",
   "nbconvert_exporter": "python",
   "pygments_lexer": "ipython3",
   "version": "3.10.12"
  }
 },
 "nbformat": 4,
 "nbformat_minor": 5
}
