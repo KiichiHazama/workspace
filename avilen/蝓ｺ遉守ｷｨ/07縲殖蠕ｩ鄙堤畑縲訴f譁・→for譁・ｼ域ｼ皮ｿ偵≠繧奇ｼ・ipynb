{
 "cells": [
  {
   "cell_type": "markdown",
   "id": "2fdf8482",
   "metadata": {
    "colab_type": "text",
    "id": "CobD7kr5t6an"
   },
   "source": [
    "# for文とif文\n",
    "\n",
    "プログラミングの中でも最も重要なコーディングが「ループ」と「条件分岐」だ。 \n",
    "\n",
    "\n",
    "## この章の目標\n",
    "* 「for文」を使ってループを理解する\n",
    "\n",
    "* 「if文」を使って条件分岐を理解する\n",
    "\n",
    "* 「:（コロン）」と「インデント」の意義と使い方を理解する\n",
    "\n",
    "  → **プログラミングに必要不可欠な「ループ」と「条件分岐」の知識を身に着けよう！**\n",
    "\n"
   ]
  },
  {
   "cell_type": "markdown",
   "id": "19646df2",
   "metadata": {},
   "source": [
    "## 1. for\n",
    "\n",
    "まず、以下のプログラムを実行してみよう。"
   ]
  },
  {
   "cell_type": "code",
   "execution_count": 4,
   "id": "09931907",
   "metadata": {},
   "outputs": [
    {
     "name": "stdout",
     "output_type": "stream",
     "text": [
      "0\n",
      "1\n",
      "2\n",
      "3\n",
      "4\n",
      "ここまで\n"
     ]
    }
   ],
   "source": [
    "for i in range(5):\n",
    "    print(i)\n",
    "print('ここまで')"
   ]
  },
  {
   "cell_type": "markdown",
   "id": "7fcc5c98",
   "metadata": {},
   "source": [
    "このように、`for i in [0, 1, 2, 3, 4]:`というコードで、変数 `i` は0, 1, 2, 3, 4 と変化し、それに伴ってその下の処理が繰り返し実行される"
   ]
  },
  {
   "cell_type": "markdown",
   "id": "2a07c53d",
   "metadata": {},
   "source": [
    "- 繰り返し処理の内容はインデントを下げて書く\n",
    "  - Jupyter Notebookではデフォルトでインデントされているが、tabキーでインデントできる\n",
    "- ```for i in```の後には「リスト」などの、複数の要素を持っている(イテラブル、iterable)ような変数を入力する\n",
    "- 変数`i`にはその複数の要素が順番に格納されていく\n",
    "- ループ変数は`i`でなくても、`x`でも、`kazu`でもどんな変数名でもよい"
   ]
  },
  {
   "cell_type": "markdown",
   "id": "7743affa",
   "metadata": {},
   "source": [
    "インデントが下がっているところが「ブロック」として一塊に認識される。\n",
    "下のコードを実行し、上の実行結果との違いを確認しよう。"
   ]
  },
  {
   "cell_type": "code",
   "execution_count": 5,
   "id": "f558a937",
   "metadata": {},
   "outputs": [
    {
     "name": "stdout",
     "output_type": "stream",
     "text": [
      "0\n",
      "ここまで\n",
      "1\n",
      "ここまで\n",
      "2\n",
      "ここまで\n",
      "3\n",
      "ここまで\n",
      "4\n",
      "ここまで\n"
     ]
    }
   ],
   "source": [
    "for i in range(5):\n",
    "    print(i)\n",
    "    print('ここまで')"
   ]
  },
  {
   "cell_type": "markdown",
   "id": "bc35e49f",
   "metadata": {},
   "source": [
    "### IndentationError\n",
    "\n",
    "ブロックの指定を誤ることで発生しやすいエラー。\n",
    "\n",
    "プログラムの前に不要な空白があったり、必要な空白がないというエラー。\n",
    "\n",
    "Pythonはプログラムの文が開始される位置も重要で、無意味に行頭にスペースがあるとエラーになる。"
   ]
  },
  {
   "cell_type": "code",
   "execution_count": 6,
   "id": "08ecee40",
   "metadata": {},
   "outputs": [
    {
     "ename": "IndentationError",
     "evalue": "expected an indented block after 'for' statement on line 1 (3695896917.py, line 2)",
     "output_type": "error",
     "traceback": [
      "\u001b[0;36m  Cell \u001b[0;32mIn[6], line 2\u001b[0;36m\u001b[0m\n\u001b[0;31m    print(i)\u001b[0m\n\u001b[0m    ^\u001b[0m\n\u001b[0;31mIndentationError\u001b[0m\u001b[0;31m:\u001b[0m expected an indented block after 'for' statement on line 1\n"
     ]
    }
   ],
   "source": [
    "for i in range(5):\n",
    "print(i)"
   ]
  },
  {
   "cell_type": "markdown",
   "id": "0640d1fd",
   "metadata": {},
   "source": [
    "変数`i`を無視して、繰り返しの回数だけに注目することもできる\n",
    "\n",
    "【例題】\"ひじ\"を5回出力しよう"
   ]
  },
  {
   "cell_type": "code",
   "execution_count": 8,
   "id": "fc7b2f47",
   "metadata": {},
   "outputs": [
    {
     "name": "stdout",
     "output_type": "stream",
     "text": [
      "ひじ\n",
      "ひじ\n",
      "ひじ\n",
      "ひじ\n",
      "ひじ\n"
     ]
    }
   ],
   "source": [
    "for i in range(5):\n",
    "    print('ひじ')"
   ]
  },
  {
   "cell_type": "markdown",
   "id": "214961e6",
   "metadata": {
    "colab_type": "text",
    "id": "cSSGd3usJ_bI"
   },
   "source": [
    "【問題】for文を使って\"みりん\"を10行出力したあとに、\"鼻の長い動物は？\"と出力しよう。"
   ]
  },
  {
   "cell_type": "code",
   "execution_count": 13,
   "id": "b67ac9f3",
   "metadata": {
    "colab": {
     "base_uri": "https://localhost:8080/",
     "height": 204
    },
    "colab_type": "code",
    "executionInfo": {
     "elapsed": 670,
     "status": "ok",
     "timestamp": 1577122435485,
     "user": {
      "displayName": "Kurusu Yuugo",
      "photoUrl": "",
      "userId": "00117977046560544733"
     },
     "user_tz": -540
    },
    "id": "M1zqQEUmK1Oz",
    "outputId": "01612495-c9c5-4ae3-ffae-299897a757c2"
   },
   "outputs": [
    {
     "name": "stdout",
     "output_type": "stream",
     "text": [
      "みりん\n",
      "みりん\n",
      "みりん\n",
      "みりん\n",
      "みりん\n",
      "みりん\n",
      "みりん\n",
      "みりん\n",
      "みりん\n",
      "みりん\n"
     ]
    },
    {
     "name": "stdin",
     "output_type": "stream",
     "text": [
      "鼻の長い動物は？ 像\n"
     ]
    },
    {
     "name": "stdout",
     "output_type": "stream",
     "text": [
      "その答えはわからん\n"
     ]
    }
   ],
   "source": [
    "for i in range(10):\n",
    "    print('みりん')\n",
    "animal=input('鼻の長い動物は？')\n",
    "if animal == 'きりん' or animal == 'キリン':\n",
    "    print('ばーか、ひっかかった')\n",
    "elif animal == 'ぞう' or animal == 'ゾウ':\n",
    "    print('さっすが')\n",
    "else:\n",
    "    print('その答えはわからん')"
   ]
  },
  {
   "cell_type": "markdown",
   "id": "f2b3b448",
   "metadata": {},
   "source": [
    "## 2. range\n",
    "\n",
    "要素数が5個、10個といったリストを毎回要素から書いていくのは手間がかかる。\n",
    "\n",
    "そこで活用できるのが`range`である。"
   ]
  },
  {
   "cell_type": "markdown",
   "id": "beac745e",
   "metadata": {},
   "source": [
    "【例題】数字の0から9を出力しよう"
   ]
  },
  {
   "cell_type": "code",
   "execution_count": 14,
   "id": "58b83196",
   "metadata": {},
   "outputs": [
    {
     "name": "stdout",
     "output_type": "stream",
     "text": [
      "0\n",
      "1\n",
      "2\n",
      "3\n",
      "4\n",
      "5\n",
      "6\n",
      "7\n",
      "8\n",
      "9\n"
     ]
    }
   ],
   "source": [
    "for i in range(10):\n",
    "    print(i)"
   ]
  },
  {
   "cell_type": "markdown",
   "id": "de19e77d",
   "metadata": {},
   "source": [
    "`range(n)`は厳密にはリストではないのだが、`0からn-1までの要素を並べたリスト（のようなもの）`と捉えればよい。"
   ]
  },
  {
   "cell_type": "markdown",
   "id": "41173834",
   "metadata": {
    "colab_type": "text",
    "id": "RUrQvAoKPj5z"
   },
   "source": [
    "【問題】for文とrangeを使って数字の1から5を出力しよう"
   ]
  },
  {
   "cell_type": "code",
   "execution_count": 15,
   "id": "267db547",
   "metadata": {
    "colab": {
     "base_uri": "https://localhost:8080/",
     "height": 102
    },
    "colab_type": "code",
    "executionInfo": {
     "elapsed": 656,
     "status": "ok",
     "timestamp": 1577122435487,
     "user": {
      "displayName": "Kurusu Yuugo",
      "photoUrl": "",
      "userId": "00117977046560544733"
     },
     "user_tz": -540
    },
    "id": "pHcSebOeNQnJ",
    "outputId": "bb201df2-b4c0-4835-fec5-172f0e3792dc",
    "scrolled": true
   },
   "outputs": [
    {
     "name": "stdout",
     "output_type": "stream",
     "text": [
      "1\n",
      "2\n",
      "3\n",
      "4\n",
      "5\n"
     ]
    }
   ],
   "source": [
    "for i in range(1,6):\n",
    "    print(i)"
   ]
  },
  {
   "cell_type": "markdown",
   "id": "7ac8a335",
   "metadata": {
    "colab_type": "text",
    "id": "WXkJ3vrKQNUO"
   },
   "source": [
    "### rangeの応用\n",
    "\n",
    "【例題】10以上20未満の偶数をすべて出力しよう\n"
   ]
  },
  {
   "cell_type": "code",
   "execution_count": 16,
   "id": "2fe2fbcf",
   "metadata": {
    "colab": {
     "base_uri": "https://localhost:8080/",
     "height": 102
    },
    "colab_type": "code",
    "executionInfo": {
     "elapsed": 653,
     "status": "ok",
     "timestamp": 1577122435488,
     "user": {
      "displayName": "Kurusu Yuugo",
      "photoUrl": "",
      "userId": "00117977046560544733"
     },
     "user_tz": -540
    },
    "id": "wZsNDEfYPtDq",
    "outputId": "873ab802-ddd6-4c9f-b028-f0cad9c1ce4e"
   },
   "outputs": [
    {
     "name": "stdout",
     "output_type": "stream",
     "text": [
      "10\n",
      "12\n",
      "14\n",
      "16\n",
      "18\n"
     ]
    }
   ],
   "source": [
    "for i in range(10,20,2):\n",
    "    print(i)"
   ]
  },
  {
   "cell_type": "markdown",
   "id": "67bfd634",
   "metadata": {},
   "source": [
    "`range(10, 20, 2)` は「数字の10から始まり、2ごとに数字を出力し、20に到達した時点で終了」を表している。\n",
    "\n",
    "実は```range()```の括弧でループの回数を指定する代わりに、数字を3つ指定できる。それらは`,`カンマで区切られ、`range()`の**引数**と呼ぶ。\n",
    "\n",
    "`range`の1番目の引数はループ変数の開始の値、2番目の引数は終了の値、3番目の引数はループごとの変化の大きさを表す。\n",
    "\n",
    "2番目の引数である終了の値は、その値を含まない（その値と同じになったかその値を超えた時点でループが終了する）ところが注意点。\n",
    "\n",
    "\n",
    "- **range(開始,　終了,　変化)** で覚えよう！"
   ]
  },
  {
   "cell_type": "markdown",
   "id": "56d1cc46",
   "metadata": {
    "colab_type": "text",
    "id": "HKRwT8xcUF3z"
   },
   "source": [
    "【問題】for文を使って1以上20未満の3の倍数をすべて出力しよう。"
   ]
  },
  {
   "cell_type": "code",
   "execution_count": 20,
   "id": "59f6695f",
   "metadata": {
    "colab": {
     "base_uri": "https://localhost:8080/",
     "height": 119
    },
    "colab_type": "code",
    "executionInfo": {
     "elapsed": 645,
     "status": "ok",
     "timestamp": 1577122435489,
     "user": {
      "displayName": "Kurusu Yuugo",
      "photoUrl": "",
      "userId": "00117977046560544733"
     },
     "user_tz": -540
    },
    "id": "4doBZDfeQc5A",
    "outputId": "0a712d99-211c-44e3-c4e4-e3b1c08d297a"
   },
   "outputs": [
    {
     "name": "stdout",
     "output_type": "stream",
     "text": [
      "3\n",
      "6\n",
      "9\n",
      "12\n",
      "15\n",
      "18\n"
     ]
    }
   ],
   "source": [
    "for i in range(3,20,3):\n",
    "    print(i)"
   ]
  },
  {
   "cell_type": "markdown",
   "id": "a17bdeb7",
   "metadata": {
    "colab_type": "text",
    "id": "1uPqyY5WsWS5"
   },
   "source": [
    "## 3. if\n",
    "【例題】変数`number`に何らかの値を代入する。int型ならその数値を3倍した値を出力し、それ以外の型なら「計算できません」と出力しよう。"
   ]
  },
  {
   "cell_type": "code",
   "execution_count": 22,
   "id": "6afdab20",
   "metadata": {
    "colab": {
     "base_uri": "https://localhost:8080/",
     "height": 34
    },
    "colab_type": "code",
    "executionInfo": {
     "elapsed": 1613,
     "status": "ok",
     "timestamp": 1577122206129,
     "user": {
      "displayName": "Kurusu Yuugo",
      "photoUrl": "",
      "userId": "00117977046560544733"
     },
     "user_tz": -540
    },
    "id": "NvFuYWGi--vd",
    "outputId": "8b55a50e-8b5d-46a6-8e82-292a587cd23b"
   },
   "outputs": [
    {
     "name": "stdout",
     "output_type": "stream",
     "text": [
      "15\n"
     ]
    }
   ],
   "source": [
    "number=5\n",
    "if type(number) == int:\n",
    "    print(number*3)\n",
    "else:\n",
    "    print('計算できません')"
   ]
  },
  {
   "cell_type": "code",
   "execution_count": 23,
   "id": "4f92231e",
   "metadata": {},
   "outputs": [
    {
     "name": "stdout",
     "output_type": "stream",
     "text": [
      "計算できません\n"
     ]
    }
   ],
   "source": [
    "number='555'\n",
    "if type(number) == int:\n",
    "    print(number*3)\n",
    "else:\n",
    "    print('計算できません')"
   ]
  },
  {
   "cell_type": "markdown",
   "id": "25658ad7",
   "metadata": {
    "colab_type": "text",
    "id": "IWTNNqRciRkr"
   },
   "source": [
    "- `if type(number) == int:`は「もしnumberの型が\"int\"に等しいなら、次のプログラムを実行してください。」という命令になる\n",
    "    - `==`はイコールを2つ重ねて、if文のなかで2つの要素が等しいかどうかを計算する演算子"
   ]
  },
  {
   "cell_type": "markdown",
   "id": "521a69ec",
   "metadata": {
    "colab_type": "text",
    "id": "UP_kdm8SlkwP"
   },
   "source": [
    "【問題】変数`day`(日)に`\"Sunday\"`(日曜日)を代入する。次にif文を使って変数`day`が`\"Sunday\"`なら、`\"Holiday!\"`(休日)を出力しよう。"
   ]
  },
  {
   "cell_type": "code",
   "execution_count": 24,
   "id": "3317104e",
   "metadata": {
    "colab": {
     "base_uri": "https://localhost:8080/",
     "height": 34
    },
    "colab_type": "code",
    "executionInfo": {
     "elapsed": 1599,
     "status": "ok",
     "timestamp": 1577122206138,
     "user": {
      "displayName": "Kurusu Yuugo",
      "photoUrl": "",
      "userId": "00117977046560544733"
     },
     "user_tz": -540
    },
    "id": "HgVJrjigk7I1",
    "outputId": "a4a46bb3-cba4-4dd7-9c35-b9f74da83730"
   },
   "outputs": [
    {
     "name": "stdout",
     "output_type": "stream",
     "text": [
      "Holiday!\n"
     ]
    }
   ],
   "source": [
    "day='Sunday'\n",
    "if day=='Sunday':\n",
    "    print('Holiday!')"
   ]
  },
  {
   "cell_type": "markdown",
   "id": "10174918",
   "metadata": {},
   "source": [
    "【補足】if文の条件の書き方\n",
    "\n",
    "- ```==```や```!=```,```>=```,```<=```などの比較演算子が使用できる\n",
    "- int,float,str,list型など、条件式に使う変数の型も様々なものがある\n",
    "- 条件式の結果が```True```か```False```で判定できればよい"
   ]
  },
  {
   "cell_type": "code",
   "execution_count": 25,
   "id": "98a6e4c4",
   "metadata": {},
   "outputs": [
    {
     "data": {
      "text/plain": [
       "True"
      ]
     },
     "execution_count": 25,
     "metadata": {},
     "output_type": "execute_result"
    }
   ],
   "source": [
    "'weather'!='tenki'"
   ]
  },
  {
   "cell_type": "code",
   "execution_count": 26,
   "id": "9b07ff0a",
   "metadata": {},
   "outputs": [
    {
     "data": {
      "text/plain": [
       "True"
      ]
     },
     "execution_count": 26,
     "metadata": {},
     "output_type": "execute_result"
    }
   ],
   "source": [
    "2>=1"
   ]
  },
  {
   "cell_type": "code",
   "execution_count": 31,
   "id": "dba8f2fb",
   "metadata": {},
   "outputs": [
    {
     "data": {
      "text/plain": [
       "False"
      ]
     },
     "execution_count": 31,
     "metadata": {},
     "output_type": "execute_result"
    }
   ],
   "source": [
    "0.0==0.1"
   ]
  },
  {
   "cell_type": "markdown",
   "id": "bbdb642e",
   "metadata": {
    "colab_type": "text",
    "id": "RuIupeB8nead"
   },
   "source": [
    "## 4. else\n",
    "\n",
    "【例題】変数`weather`に`\"rainy\"`を入力したときは\"Umbrella!\"を出力し、それ以外を入力したときは\"No umbrella!\"を出力しよう。"
   ]
  },
  {
   "cell_type": "code",
   "execution_count": 36,
   "id": "0e96870d",
   "metadata": {
    "colab": {
     "base_uri": "https://localhost:8080/",
     "height": 51
    },
    "colab_type": "code",
    "executionInfo": {
     "elapsed": 4235,
     "status": "ok",
     "timestamp": 1577620159973,
     "user": {
      "displayName": "Kurusu Yuugo",
      "photoUrl": "",
      "userId": "00117977046560544733"
     },
     "user_tz": -540
    },
    "id": "BPiASVTvo8KH",
    "outputId": "e0a6769f-41a8-4007-ef4b-637b80f9e7cb"
   },
   "outputs": [
    {
     "name": "stdin",
     "output_type": "stream",
     "text": [
      " rainy\n"
     ]
    },
    {
     "name": "stdout",
     "output_type": "stream",
     "text": [
      "Umbrella!\n"
     ]
    }
   ],
   "source": [
    "weather=input()\n",
    "if weather=='rainy':\n",
    "    print('Umbrella!')\n",
    "else:\n",
    "    print('No umbrella!')"
   ]
  },
  {
   "cell_type": "markdown",
   "id": "63ae42ad",
   "metadata": {
    "colab_type": "text",
    "id": "Ll885dWXnehf"
   },
   "source": [
    "- このように、**if文で条件が満たされない場合**の処理をしたいときは、`else`を使う。\n",
    "- elseは先頭に空白を開けず、ifと同じ位置から```:```をつけて書く。\n",
    "- `else`で実行される処理`print(\"No umbrella!\")`は、インデントを下げて(先頭に空白を開けて)書こう。"
   ]
  },
  {
   "cell_type": "markdown",
   "id": "6de06bb4",
   "metadata": {
    "colab_type": "text",
    "id": "NY146DctyMlu"
   },
   "source": [
    "【問題】変数dayに曜日を入力する。次にif文を使って変数dayが\"Sunday\"なら、\"Holiday!\"を出力し、そうでないなら\"Weekday!\"(平日)を出力しよう。"
   ]
  },
  {
   "cell_type": "code",
   "execution_count": 35,
   "id": "fb0c3c53",
   "metadata": {
    "colab": {
     "base_uri": "https://localhost:8080/",
     "height": 34
    },
    "colab_type": "code",
    "executionInfo": {
     "elapsed": 1586,
     "status": "ok",
     "timestamp": 1577122206141,
     "user": {
      "displayName": "Kurusu Yuugo",
      "photoUrl": "",
      "userId": "00117977046560544733"
     },
     "user_tz": -540
    },
    "id": "rCl736YbyME4",
    "outputId": "efc31d68-397f-411e-8d0d-b42eb562640e"
   },
   "outputs": [
    {
     "name": "stdin",
     "output_type": "stream",
     "text": [
      "曜日を入力してください Sunday\n"
     ]
    },
    {
     "name": "stdout",
     "output_type": "stream",
     "text": [
      "Holiday!\n"
     ]
    }
   ],
   "source": [
    "day=input('曜日を入力してください')\n",
    "if day=='Sunday':\n",
    "    print('Holiday!')\n",
    "else:\n",
    "    print('Weekday!')"
   ]
  },
  {
   "cell_type": "markdown",
   "id": "8ce6daa6",
   "metadata": {
    "colab_type": "text",
    "id": "PO-qWfTyqQ1k"
   },
   "source": [
    "## 5. elif\n",
    "\n",
    "【例題】変数weatherに天気を入力する。次に変数weatherが\"rainy\"なら、\"Umbrella!\"を出力し、\"storm\"なら\"Stay home!\"(家にいる)を出力し、どちらでもないなら\"No umbrella!\"を出力しよう。"
   ]
  },
  {
   "cell_type": "code",
   "execution_count": 37,
   "id": "8e3f0e8b",
   "metadata": {
    "colab": {
     "base_uri": "https://localhost:8080/",
     "height": 34
    },
    "colab_type": "code",
    "executionInfo": {
     "elapsed": 1579,
     "status": "ok",
     "timestamp": 1577122206142,
     "user": {
      "displayName": "Kurusu Yuugo",
      "photoUrl": "",
      "userId": "00117977046560544733"
     },
     "user_tz": -540
    },
    "id": "YZjmSl0Ep76G",
    "outputId": "058d8ec9-60ee-4c9f-d6f7-36115a582774"
   },
   "outputs": [
    {
     "name": "stdin",
     "output_type": "stream",
     "text": [
      " storm\n"
     ]
    },
    {
     "name": "stdout",
     "output_type": "stream",
     "text": [
      "Stay home!\n"
     ]
    }
   ],
   "source": [
    "weather=input()\n",
    "if weather=='rainy':\n",
    "    print('Umbrella!')\n",
    "elif weather=='storm':\n",
    "    print('Stay home!')\n",
    "else:\n",
    "    print('No umbrella!')"
   ]
  },
  {
   "cell_type": "markdown",
   "id": "313503ef",
   "metadata": {
    "colab_type": "text",
    "id": "-NWBlYPlqjJL"
   },
   "source": [
    "- このように、**if文で条件が満たされないが、別の条件を満たすとき**にしたい処理は`elif`を使う\n",
    "    - `elif`も`if`と同じインデントから書こう\n",
    "- まず`weather`は`\"rainy\"`かどうかがチェックされ、次に`weather`は`\"storm\"`かどうかチェックされ、どれでもないなら`else`以下の処理が行われる。"
   ]
  },
  {
   "cell_type": "markdown",
   "id": "50cf6155",
   "metadata": {
    "colab_type": "text",
    "id": "Xgso8Ikvrj3P"
   },
   "source": [
    "【問題】変数dayに曜日を入力する。次にif文を使い、変数dayが\"Sunday\"なら\"Holiday!\"を出力し、\"Saturday\"なら\"Holiday???\"を出力し、どちらでもないなら\"Weekday!\"(平日)を出力しよう。"
   ]
  },
  {
   "cell_type": "code",
   "execution_count": 38,
   "id": "7d7d2800",
   "metadata": {
    "colab": {
     "base_uri": "https://localhost:8080/",
     "height": 51
    },
    "colab_type": "code",
    "executionInfo": {
     "elapsed": 10441,
     "status": "ok",
     "timestamp": 1582261706697,
     "user": {
      "displayName": "정범준",
      "photoUrl": "https://lh3.googleusercontent.com/a-/AAuE7mBOM61BGwey2npNQfr0e2LCuA9eQMwGWK2paLHa=s64",
      "userId": "01726864658215807628"
     },
     "user_tz": -540
    },
    "id": "4nnuBD8wsC_Q",
    "outputId": "b6edbca0-b49a-4761-955f-7988d3d3b457"
   },
   "outputs": [
    {
     "name": "stdin",
     "output_type": "stream",
     "text": [
      " Saturday\n"
     ]
    },
    {
     "name": "stdout",
     "output_type": "stream",
     "text": [
      "Holiday???\n"
     ]
    }
   ],
   "source": [
    "day=input()\n",
    "if day=='Sunday':\n",
    "    print('Holiday!')\n",
    "elif day=='Saturday':\n",
    "    print('Holiday???')\n",
    "else:\n",
    "    print('Weekday!')"
   ]
  },
  {
   "cell_type": "code",
   "execution_count": null,
   "id": "ce2feff2",
   "metadata": {},
   "outputs": [],
   "source": []
  }
 ],
 "metadata": {
  "kernelspec": {
   "display_name": "Python 3 (ipykernel)",
   "language": "python",
   "name": "python3"
  },
  "language_info": {
   "codemirror_mode": {
    "name": "ipython",
    "version": 3
   },
   "file_extension": ".py",
   "mimetype": "text/x-python",
   "name": "python",
   "nbconvert_exporter": "python",
   "pygments_lexer": "ipython3",
   "version": "3.10.12"
  },
  "vscode": {
   "interpreter": {
    "hash": "aee8b7b246df8f9039afb4144a1f6fd8d2ca17a180786b69acc140d282b71a49"
   }
  }
 },
 "nbformat": 4,
 "nbformat_minor": 5
}
