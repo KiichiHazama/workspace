{
 "cells": [
  {
   "cell_type": "markdown",
   "id": "e6a698b8",
   "metadata": {
    "id": "5388aec9"
   },
   "source": [
    "# 入力と出力\n",
    "\n",
    "「入力」と「出力」の関数を実際に使ってみよう。"
   ]
  },
  {
   "cell_type": "markdown",
   "id": "96205ba1",
   "metadata": {
    "id": "0480c2b9"
   },
   "source": [
    "## 1. 入力と出力\n",
    "プログラムを実行するときに、自分でデータを入力したい場合がある。\n",
    "入力を体験してみよう!\n",
    "\n",
    "\n",
    "【例題1】プログラムを実行して、「AVILEN」と入力してみよう！"
   ]
  },
  {
   "cell_type": "code",
   "execution_count": 1,
   "id": "b39c8204",
   "metadata": {
    "id": "adf33855"
   },
   "outputs": [
    {
     "name": "stdout",
     "output_type": "stream",
     "text": [
      "名前を教えてください\n"
     ]
    },
    {
     "name": "stdin",
     "output_type": "stream",
     "text": [
      " 貴一\n"
     ]
    },
    {
     "name": "stdout",
     "output_type": "stream",
     "text": [
      "あなたの名前は 貴一 ですよね？\n"
     ]
    }
   ],
   "source": [
    "print('名前を教えてください')\n",
    "name=input()\n",
    "print('あなたの名前は',name,'ですよね？')"
   ]
  },
  {
   "cell_type": "markdown",
   "id": "e409187a",
   "metadata": {
    "id": "faa059da"
   },
   "source": [
    "**解説**\n",
    "- 入力にはinput()という関数を利用して**`変数 = input()`**とコーディングする\n",
    "- 例題では入力した文字を変数`name`に代入した後、print()で変数`name`を出力している\n",
    "    - print()内で様々な要素を出力するときは  **,(カンマ)**  で区切る"
   ]
  },
  {
   "cell_type": "markdown",
   "id": "07b23e77",
   "metadata": {
    "id": "1a457d60"
   },
   "source": [
    "【問題1】input()とprint()を利用して、自由にプログラムしてみよう。"
   ]
  },
  {
   "cell_type": "code",
   "execution_count": 8,
   "id": "1d1cb0c4",
   "metadata": {
    "id": "03dcf2b2"
   },
   "outputs": [
    {
     "name": "stdout",
     "output_type": "stream",
     "text": [
      "あなたの体重を教えてください\n"
     ]
    },
    {
     "name": "stdin",
     "output_type": "stream",
     "text": [
      " 130\n"
     ]
    },
    {
     "name": "stdout",
     "output_type": "stream",
     "text": [
      "ダイエットって知ってます？\n"
     ]
    }
   ],
   "source": [
    "print('あなたの体重を教えてください')\n",
    "weight=input()\n",
    "weight=float(weight)\n",
    "if weight<40.0 and weight>0:\n",
    "    print('ガリガリじゃないですか。ちゃんと食べなさい。')\n",
    "elif weight>=40.0 and weight <65.0:\n",
    "    print('普通ですね。面白くない。')\n",
    "elif weight>=65.0:\n",
    "    print('ダイエットって知ってます？')\n",
    "else:\n",
    "    print('なめんな。体重って知ってます？')"
   ]
  },
  {
   "cell_type": "markdown",
   "id": "96e31266",
   "metadata": {
    "id": "c0de7251"
   },
   "source": [
    "- プログラミングの必須操作、入力と出力の組み込み関数について確認できただろうか？"
   ]
  },
  {
   "cell_type": "markdown",
   "id": "2e660a9b",
   "metadata": {
    "id": "f3f055e7"
   },
   "source": [
    "## 2. input()の型と計算\n",
    "\n",
    "以下の例を実行して体験してみよう。\n",
    "\n",
    "【例題2】まず、以下のinput()関数の変数```value```に数字を入力し、その数値の二乗を計算してみよう。 "
   ]
  },
  {
   "cell_type": "code",
   "execution_count": 9,
   "id": "c9182567",
   "metadata": {
    "id": "6c7dbe2c"
   },
   "outputs": [
    {
     "name": "stdin",
     "output_type": "stream",
     "text": [
      "二乗したい数値は？ 5\n"
     ]
    },
    {
     "ename": "TypeError",
     "evalue": "can't multiply sequence by non-int of type 'str'",
     "output_type": "error",
     "traceback": [
      "\u001b[0;31m---------------------------------------------------------------------------\u001b[0m",
      "\u001b[0;31mTypeError\u001b[0m                                 Traceback (most recent call last)",
      "Cell \u001b[0;32mIn[9], line 2\u001b[0m\n\u001b[1;32m      1\u001b[0m value\u001b[38;5;241m=\u001b[39m\u001b[38;5;28minput\u001b[39m(\u001b[38;5;124m'\u001b[39m\u001b[38;5;124m二乗したい数値は？\u001b[39m\u001b[38;5;124m'\u001b[39m)\n\u001b[0;32m----> 2\u001b[0m \u001b[38;5;28mprint\u001b[39m(\u001b[38;5;124m'\u001b[39m\u001b[38;5;124m計算結果\u001b[39m\u001b[38;5;124m'\u001b[39m, \u001b[43mvalue\u001b[49m\u001b[38;5;241;43m*\u001b[39;49m\u001b[43mvalue\u001b[49m)\n",
      "\u001b[0;31mTypeError\u001b[0m: can't multiply sequence by non-int of type 'str'"
     ]
    }
   ],
   "source": [
    "value=input('二乗したい数値は？')\n",
    "print('計算結果', value*value)"
   ]
  },
  {
   "cell_type": "markdown",
   "id": "2349ec0f",
   "metadata": {
    "id": "9c8fd5b5"
   },
   "source": [
    "**解説**\n",
    "\n",
    "- パソコンが計算ミスをしたわけではない。落ち着いて変数```value```の型を確認しよう。"
   ]
  },
  {
   "cell_type": "code",
   "execution_count": 10,
   "id": "f8670e55",
   "metadata": {
    "id": "5eefae38"
   },
   "outputs": [
    {
     "name": "stdin",
     "output_type": "stream",
     "text": [
      "二乗したい数値は 5\n"
     ]
    },
    {
     "name": "stdout",
     "output_type": "stream",
     "text": [
      "<class 'str'>\n"
     ]
    }
   ],
   "source": [
    "value=input('二乗したい数値は')\n",
    "print(type(value))"
   ]
  },
  {
   "cell_type": "markdown",
   "id": "471575b4",
   "metadata": {
    "id": "b7c00fa1"
   },
   "source": [
    "- input()で取得した値は文字列(str型)として認識される。\n",
    "    - ```*```や```+```などはint型にしか適用できないので、エラーが出たというわけだ。"
   ]
  },
  {
   "cell_type": "markdown",
   "id": "73ee9086",
   "metadata": {
    "id": "369baf56"
   },
   "source": [
    "【問題2】以下のプログラムでは入力された値が文字列型のため、例えば5を入力した時`5 × 3 ＝ 555`と表示されてしまう。  \n",
    "コードを修正して正しい計算結果が出力されるプログラムを完成させよう！"
   ]
  },
  {
   "cell_type": "code",
   "execution_count": 14,
   "id": "af2ace68",
   "metadata": {
    "id": "2f6b15a8"
   },
   "outputs": [
    {
     "name": "stdout",
     "output_type": "stream",
     "text": [
      "九九の結果を出力します。何の段が知りたいですか？\n"
     ]
    },
    {
     "name": "stdin",
     "output_type": "stream",
     "text": [
      " 5\n"
     ]
    },
    {
     "name": "stdout",
     "output_type": "stream",
     "text": [
      "5 × 1 ＝ 5\n",
      "5 × 2 ＝ 10\n",
      "5 × 3 ＝ 15\n",
      "5 × 4 ＝ 20\n",
      "5 × 5 ＝ 25\n",
      "5 × 6 ＝ 30\n",
      "5 × 7 ＝ 35\n",
      "5 × 8 ＝ 40\n",
      "5 × 9 ＝ 45\n"
     ]
    }
   ],
   "source": [
    "print(\"九九の結果を出力します。何の段が知りたいですか？\")\n",
    "value = input()\n",
    "value = int(value)\n",
    "for i in range(1,10):\n",
    "    print(value, \"×\", i, \"＝\", value*i)"
   ]
  },
  {
   "cell_type": "markdown",
   "id": "9ff1ed28",
   "metadata": {
    "id": "a454af8e"
   },
   "source": [
    " 入力された数字を演算する場合、必ず文字列型から数値型へ変換する必要がある。  \n",
    "\n",
    "よく使うケースなので覚えておこう。 "
   ]
  }
 ],
 "metadata": {
  "colab": {
   "provenance": []
  },
  "kernelspec": {
   "display_name": "Python 3 (ipykernel)",
   "language": "python",
   "name": "python3"
  },
  "language_info": {
   "codemirror_mode": {
    "name": "ipython",
    "version": 3
   },
   "file_extension": ".py",
   "mimetype": "text/x-python",
   "name": "python",
   "nbconvert_exporter": "python",
   "pygments_lexer": "ipython3",
   "version": "3.10.12"
  }
 },
 "nbformat": 4,
 "nbformat_minor": 5
}
