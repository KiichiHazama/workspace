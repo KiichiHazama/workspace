{
 "cells": [
  {
   "cell_type": "markdown",
   "id": "be898602",
   "metadata": {
    "id": "03995a02"
   },
   "source": [
    "# 2-0.変数と型\n",
    "---\n",
    "\n",
    "この章では、プログラミングの基本的な概念である「変数」と「型」について学ぶ。\n"
   ]
  },
  {
   "cell_type": "markdown",
   "id": "c9aed6d7",
   "metadata": {
    "id": "81067ac3"
   },
   "source": [
    "### チュートリアル：Pythonでデータを表示してみよう\n",
    "\n",
    "まずは手始めに、Pythonでデータを入力・表示してみよう。\n",
    "\n"
   ]
  },
  {
   "cell_type": "code",
   "execution_count": null,
   "id": "89199c6c",
   "metadata": {
    "id": "d71fbb5c",
    "outputId": "e149b4f7-7c52-4da5-f573-b4ddf8ca2caa"
   },
   "outputs": [
    {
     "name": "stdout",
     "output_type": "stream",
     "text": [
      "5\n"
     ]
    }
   ],
   "source": [
    "print(5)"
   ]
  },
  {
   "cell_type": "code",
   "execution_count": null,
   "id": "fb6fbc46",
   "metadata": {
    "id": "7653f787",
    "outputId": "63b885dc-c49e-48d6-c8ef-5f5f6aa97fb8"
   },
   "outputs": [
    {
     "name": "stdout",
     "output_type": "stream",
     "text": [
      "3.34\n"
     ]
    }
   ],
   "source": [
    "print(3.34)"
   ]
  },
  {
   "cell_type": "code",
   "execution_count": null,
   "id": "b52a5f82",
   "metadata": {
    "id": "de05160a",
    "outputId": "9014873b-bdf5-4a98-fe29-cf2746a8ae4c"
   },
   "outputs": [
    {
     "name": "stdout",
     "output_type": "stream",
     "text": [
      "AVILEN\n"
     ]
    }
   ],
   "source": [
    "print(\"AVILEN\")"
   ]
  },
  {
   "cell_type": "markdown",
   "id": "49e43b02",
   "metadata": {
    "id": "647ea01b"
   },
   "source": [
    "# 2-1. 変数の型\n",
    "---\n",
    "\n",
    "Pythonで扱うデータには、その性質を決めるさまざまな**「型」**が存在する。\n",
    "\n",
    "大きくは以下の4つだ。\n",
    "\n",
    "- 整数（int）　　例： `0`, `1`, `200`, `-10`\n",
    "- 小数（float）　　例： `1.0`, `3.34`, `-0.05`, `1e4`\n",
    "- 文字列（str）　　例: `\"oya　sumi.\"`, `\"a\"`, `\"ひらがな\"`, `\"30\"`, `\"\"`\n",
    "- 真理値（bool）　　例: `True`, `False`\n",
    "\n",
    "真理値（真偽値）とは，`True`(真)または`False`(偽)のどちらかのみの型で，主に条件分岐をするために使う。  "
   ]
  },
  {
   "cell_type": "markdown",
   "id": "eef2b2d7",
   "metadata": {
    "id": "df036c2e"
   },
   "source": [
    "### 型の確認\n",
    "\n",
    "変数の型を確認するには```type```関数を使う。"
   ]
  },
  {
   "cell_type": "markdown",
   "id": "3d692a07",
   "metadata": {
    "id": "618987cb"
   },
   "source": [
    "【例題】`False`の型を表示してみよう。"
   ]
  },
  {
   "cell_type": "code",
   "execution_count": null,
   "id": "6ea40234",
   "metadata": {
    "id": "703175d2",
    "outputId": "07cd5ef6-9552-4eca-d191-7ef56c9a0564"
   },
   "outputs": [
    {
     "name": "stdout",
     "output_type": "stream",
     "text": [
      "<class 'bool'>\n"
     ]
    }
   ],
   "source": [
    "print(type(False))"
   ]
  },
  {
   "cell_type": "markdown",
   "id": "80771c09",
   "metadata": {
    "id": "b2abc1bd"
   },
   "source": [
    "【問題】「kata」の型を表示してみよう。"
   ]
  },
  {
   "cell_type": "markdown",
   "id": "91127404",
   "metadata": {
    "id": "7fc31192"
   },
   "source": [
    "- コードの中で文字列を書くときは'シングルクオーテーション'、もしくは\"ダブルクオーテーション\"で囲む必要がある"
   ]
  },
  {
   "cell_type": "code",
   "execution_count": null,
   "id": "24bc1421",
   "metadata": {
    "executionInfo": {
     "elapsed": 427,
     "status": "ok",
     "timestamp": 1676632947640,
     "user": {
      "displayName": "桐井真",
      "userId": "13095717345818342085"
     },
     "user_tz": -540
    },
    "id": "5090bda0"
   },
   "outputs": [],
   "source": [
    "print(type(\"kata\"))"
   ]
  },
  {
   "cell_type": "markdown",
   "id": "fd5d440c",
   "metadata": {
    "id": "703eabd7"
   },
   "source": [
    "【補足】プログラムでは実は`True`は数値の`1`, `False`は数値の`0`と等しい。"
   ]
  },
  {
   "cell_type": "markdown",
   "id": "c6ea1b27",
   "metadata": {
    "id": "56dd378a"
   },
   "source": [
    "### 数値と文字列の違い\n",
    "\n",
    "数値の場合、表記方法がint型、float型、str型の3通り存在する。"
   ]
  },
  {
   "cell_type": "markdown",
   "id": "e1ecc89a",
   "metadata": {
    "id": "ab3af379"
   },
   "source": [
    "たとえば「`2`」と「`\"2\"`」はprintすると一緒の表記だが、コンピュータの中では違う型の変数として認識される。\n",
    "\n",
    "pythonはこの型を自動で判別してくれるので便利である。"
   ]
  },
  {
   "cell_type": "code",
   "execution_count": null,
   "id": "61bf9916",
   "metadata": {
    "id": "653a343c",
    "outputId": "b21807fa-5e69-44bd-8671-704fb71281f6"
   },
   "outputs": [
    {
     "name": "stdout",
     "output_type": "stream",
     "text": [
      "2\n",
      "2.0\n",
      "2\n"
     ]
    }
   ],
   "source": [
    "print(2)\n",
    "print(2.0)\n",
    "print(\"2\")"
   ]
  },
  {
   "cell_type": "code",
   "execution_count": null,
   "id": "c7fda4dc",
   "metadata": {
    "id": "fa260570",
    "outputId": "3fede129-74cb-483f-9b33-5d987aeed355"
   },
   "outputs": [
    {
     "name": "stdout",
     "output_type": "stream",
     "text": [
      "<class 'int'>\n",
      "<class 'float'>\n",
      "<class 'str'>\n"
     ]
    }
   ],
   "source": [
    "#int\n",
    "print(type(2))\n",
    "\n",
    "#float\n",
    "print(type(2.0))\n",
    "\n",
    "#str\n",
    "print(type(\"2\"))"
   ]
  },
  {
   "cell_type": "markdown",
   "id": "77d21c39",
   "metadata": {
    "id": "42e23b0b"
   },
   "source": [
    "# 2-2.演算\n",
    "\n",
    "---\n",
    "\n",
    "次に、プログラミングに必要不可欠な「演算」の知識を身につけよう。\n",
    "\n",
    "単純な計算機として演算を行ってみる。"
   ]
  },
  {
   "cell_type": "markdown",
   "id": "9aaa84d1",
   "metadata": {
    "id": "b0a84aac"
   },
   "source": [
    "### int型/float型の四則演算"
   ]
  },
  {
   "cell_type": "markdown",
   "id": "35899cec",
   "metadata": {
    "id": "650cfb0e"
   },
   "source": [
    "【例題】Pythonで簡単な計算を行ってみよう。"
   ]
  },
  {
   "cell_type": "code",
   "execution_count": null,
   "id": "4441e8f5",
   "metadata": {
    "id": "085358cc",
    "outputId": "9b96ab1c-d435-4f70-edc2-adf11f0a5a1a"
   },
   "outputs": [
    {
     "name": "stdout",
     "output_type": "stream",
     "text": [
      "5\n",
      "5.0\n"
     ]
    }
   ],
   "source": [
    "print(2 + 3)\n",
    "print(2.0 + 3.0)"
   ]
  },
  {
   "cell_type": "code",
   "execution_count": null,
   "id": "9b3ad939",
   "metadata": {
    "id": "179c6a04",
    "outputId": "315e5496-acfd-4602-f8a2-42a947b3c80b"
   },
   "outputs": [
    {
     "name": "stdout",
     "output_type": "stream",
     "text": [
      "-1\n",
      "-1.0\n"
     ]
    }
   ],
   "source": [
    "print(2 - 3)\n",
    "print(2.0 - 3.0)"
   ]
  },
  {
   "cell_type": "code",
   "execution_count": null,
   "id": "e7a0ca35",
   "metadata": {
    "id": "83aaf0d8",
    "outputId": "b63dfe4f-6143-4a3c-b0a9-4332badfc9fb"
   },
   "outputs": [
    {
     "name": "stdout",
     "output_type": "stream",
     "text": [
      "6\n",
      "6.0\n"
     ]
    }
   ],
   "source": [
    "print(2 * 3)\n",
    "print(2.0 * 3.0)"
   ]
  },
  {
   "cell_type": "code",
   "execution_count": 1,
   "id": "c8e7664b",
   "metadata": {
    "id": "4d74567d",
    "outputId": "0d7fe6a1-5f53-4aec-d3b6-b80d47e5a59e"
   },
   "outputs": [
    {
     "name": "stdout",
     "output_type": "stream",
     "text": [
      "0.6666666666666666\n",
      "0.6666666666666666\n"
     ]
    }
   ],
   "source": [
    "print(2 / 3)\n",
    "print(2.0 / 3.0)"
   ]
  },
  {
   "cell_type": "markdown",
   "id": "5b826740",
   "metadata": {
    "id": "c3440277"
   },
   "source": [
    "【補足】int型の計算結果がfloat型(小数)になる場合、pythonは自動で判別してくれる(普通はできない。int型の計算結果はint型になる。)"
   ]
  },
  {
   "cell_type": "code",
   "execution_count": 2,
   "id": "e4b0c167",
   "metadata": {
    "id": "40a253d6",
    "outputId": "cdcaa9a4-ea87-42ef-bbe7-3492ef01966f"
   },
   "outputs": [
    {
     "name": "stdout",
     "output_type": "stream",
     "text": [
      "<class 'float'>\n"
     ]
    }
   ],
   "source": [
    "print(type( 2 / 3 ))"
   ]
  },
  {
   "cell_type": "markdown",
   "id": "7493b159",
   "metadata": {
    "id": "80d55aed"
   },
   "source": [
    "###  文字列(str)型の演算\n",
    "\n",
    "【例題】次に、値が文字列のデータを足してみよう"
   ]
  },
  {
   "cell_type": "code",
   "execution_count": null,
   "id": "96b2d1b0",
   "metadata": {
    "colab": {
     "base_uri": "https://localhost:8080/",
     "height": 34
    },
    "executionInfo": {
     "elapsed": 696,
     "status": "ok",
     "timestamp": 1577121786270,
     "user": {
      "displayName": "Kurusu Yuugo",
      "photoUrl": "",
      "userId": "00117977046560544733"
     },
     "user_tz": -540
    },
    "id": "56de3b7e",
    "outputId": "87ae3aed-a715-4dc1-d7a4-a7baef80ee6c"
   },
   "outputs": [
    {
     "name": "stdout",
     "output_type": "stream",
     "text": [
      "今夜は月が綺麗ですね\n"
     ]
    }
   ],
   "source": [
    "print('今夜は月が'+'綺麗ですね')"
   ]
  },
  {
   "cell_type": "markdown",
   "id": "d206c028",
   "metadata": {
    "id": "a633cef5"
   },
   "source": [
    "- このように、文字列を足すと、2つの文字列を結合することができる"
   ]
  },
  {
   "cell_type": "markdown",
   "id": "3cc4853f",
   "metadata": {
    "id": "1f2dbbfa"
   },
   "source": [
    "### 数値をstr型で表記した場合の演算\n",
    "\n",
    "【例題】\"2\"と\"3\"を足してみよう"
   ]
  },
  {
   "cell_type": "code",
   "execution_count": 3,
   "id": "31ee0835",
   "metadata": {
    "id": "2a951a21",
    "outputId": "f20c511b-2e14-4042-a1e3-9c1ba2d6fee4"
   },
   "outputs": [
    {
     "name": "stdout",
     "output_type": "stream",
     "text": [
      "23\n"
     ]
    }
   ],
   "source": [
    "print(\"2\"+\"3\")"
   ]
  },
  {
   "cell_type": "markdown",
   "id": "182498df",
   "metadata": {
    "id": "3fe457e2"
   },
   "source": [
    "数値もstr型で表記した場合は、計算ではなく結合の処理になることを覚えておこう。"
   ]
  },
  {
   "cell_type": "markdown",
   "id": "09c0c155",
   "metadata": {
    "id": "09ef0480"
   },
   "source": [
    "【例題】\"2\"と\"3\"で四則演算ができるか試してみよう"
   ]
  },
  {
   "cell_type": "code",
   "execution_count": null,
   "id": "93bbfb8f",
   "metadata": {
    "id": "f96b5f29",
    "outputId": "bf5d4cd7-698a-4ff8-8fb7-df47ecbb85df"
   },
   "outputs": [
    {
     "ename": "TypeError",
     "evalue": "unsupported operand type(s) for -: 'str' and 'str'",
     "output_type": "error",
     "traceback": [
      "\u001b[1;31m---------------------------------------------------------------------------\u001b[0m",
      "\u001b[1;31mTypeError\u001b[0m                                 Traceback (most recent call last)",
      "\u001b[1;32m~\\AppData\\Local\\Temp/ipykernel_7656/4099556618.py\u001b[0m in \u001b[0;36m<module>\u001b[1;34m\u001b[0m\n\u001b[1;32m----> 1\u001b[1;33m \u001b[0mprint\u001b[0m\u001b[1;33m(\u001b[0m\u001b[1;34m\"2\"\u001b[0m\u001b[1;33m-\u001b[0m\u001b[1;34m\"3\"\u001b[0m\u001b[1;33m)\u001b[0m\u001b[1;33m\u001b[0m\u001b[1;33m\u001b[0m\u001b[0m\n\u001b[0m",
      "\u001b[1;31mTypeError\u001b[0m: unsupported operand type(s) for -: 'str' and 'str'"
     ]
    }
   ],
   "source": [
    "print(\"2\"-\"3\")"
   ]
  },
  {
   "cell_type": "code",
   "execution_count": null,
   "id": "ef37e133",
   "metadata": {
    "id": "cead833b",
    "outputId": "74b5c695-1273-4692-d70f-1a4291e6fbe1"
   },
   "outputs": [
    {
     "ename": "TypeError",
     "evalue": "can't multiply sequence by non-int of type 'str'",
     "output_type": "error",
     "traceback": [
      "\u001b[1;31m---------------------------------------------------------------------------\u001b[0m",
      "\u001b[1;31mTypeError\u001b[0m                                 Traceback (most recent call last)",
      "\u001b[1;32m~\\AppData\\Local\\Temp/ipykernel_7656/2930364101.py\u001b[0m in \u001b[0;36m<module>\u001b[1;34m\u001b[0m\n\u001b[1;32m----> 1\u001b[1;33m \u001b[0mprint\u001b[0m\u001b[1;33m(\u001b[0m\u001b[1;34m\"2\"\u001b[0m \u001b[1;33m*\u001b[0m \u001b[1;34m\"3\"\u001b[0m\u001b[1;33m)\u001b[0m\u001b[1;33m\u001b[0m\u001b[1;33m\u001b[0m\u001b[0m\n\u001b[0m",
      "\u001b[1;31mTypeError\u001b[0m: can't multiply sequence by non-int of type 'str'"
     ]
    }
   ],
   "source": [
    "print(\"2\" * \"3\")"
   ]
  },
  {
   "cell_type": "code",
   "execution_count": null,
   "id": "55f12835",
   "metadata": {
    "id": "4a933c6a",
    "outputId": "364a73b4-cc24-4d9b-97ce-787594ace719"
   },
   "outputs": [
    {
     "ename": "TypeError",
     "evalue": "unsupported operand type(s) for /: 'str' and 'str'",
     "output_type": "error",
     "traceback": [
      "\u001b[1;31m---------------------------------------------------------------------------\u001b[0m",
      "\u001b[1;31mTypeError\u001b[0m                                 Traceback (most recent call last)",
      "\u001b[1;32m~\\AppData\\Local\\Temp/ipykernel_7656/3696141267.py\u001b[0m in \u001b[0;36m<module>\u001b[1;34m\u001b[0m\n\u001b[1;32m----> 1\u001b[1;33m \u001b[0mprint\u001b[0m\u001b[1;33m(\u001b[0m\u001b[1;34m\"2\"\u001b[0m \u001b[1;33m/\u001b[0m \u001b[1;34m\"3\"\u001b[0m\u001b[1;33m)\u001b[0m\u001b[1;33m\u001b[0m\u001b[1;33m\u001b[0m\u001b[0m\n\u001b[0m",
      "\u001b[1;31mTypeError\u001b[0m: unsupported operand type(s) for /: 'str' and 'str'"
     ]
    }
   ],
   "source": [
    "print(\"2\" / \"3\")"
   ]
  },
  {
   "cell_type": "markdown",
   "id": "0e6a3030",
   "metadata": {
    "id": "bdae6a20"
   },
   "source": [
    "実行すると全てエラーになるはずだ。これはstr型の数値では四則演算ができないことを表している。"
   ]
  },
  {
   "cell_type": "markdown",
   "id": "8ac037cc",
   "metadata": {
    "id": "514c2932"
   },
   "source": [
    "### int/float型とstr型の演算\n",
    "\n",
    "次に、型の違うデータを足してみる。\n",
    "\n",
    "【例題】\"2\"と3の足し算、および\"2.0\"と3.0の足し算を計算してみよう"
   ]
  },
  {
   "cell_type": "code",
   "execution_count": null,
   "id": "115ad8f9",
   "metadata": {
    "id": "b2d8082b",
    "outputId": "ba15131f-21ab-4955-eda7-1d1f37892935"
   },
   "outputs": [
    {
     "ename": "TypeError",
     "evalue": "can only concatenate str (not \"int\") to str",
     "output_type": "error",
     "traceback": [
      "\u001b[1;31m---------------------------------------------------------------------------\u001b[0m",
      "\u001b[1;31mTypeError\u001b[0m                                 Traceback (most recent call last)",
      "\u001b[1;32m~\\AppData\\Local\\Temp/ipykernel_7656/3609007914.py\u001b[0m in \u001b[0;36m<module>\u001b[1;34m\u001b[0m\n\u001b[1;32m----> 1\u001b[1;33m \u001b[0mprint\u001b[0m\u001b[1;33m(\u001b[0m\u001b[1;34m\"2\"\u001b[0m\u001b[1;33m+\u001b[0m\u001b[1;36m3\u001b[0m\u001b[1;33m)\u001b[0m\u001b[1;33m\u001b[0m\u001b[1;33m\u001b[0m\u001b[0m\n\u001b[0m",
      "\u001b[1;31mTypeError\u001b[0m: can only concatenate str (not \"int\") to str"
     ]
    }
   ],
   "source": [
    "print(\"2\"+3)"
   ]
  },
  {
   "cell_type": "code",
   "execution_count": null,
   "id": "d36d7117",
   "metadata": {
    "id": "4e5900a3",
    "outputId": "a030dcc3-7f69-4bda-c1cc-63294d444ad2"
   },
   "outputs": [
    {
     "ename": "TypeError",
     "evalue": "can only concatenate str (not \"float\") to str",
     "output_type": "error",
     "traceback": [
      "\u001b[1;31m---------------------------------------------------------------------------\u001b[0m",
      "\u001b[1;31mTypeError\u001b[0m                                 Traceback (most recent call last)",
      "\u001b[1;32m~\\AppData\\Local\\Temp/ipykernel_7656/3072822359.py\u001b[0m in \u001b[0;36m<module>\u001b[1;34m\u001b[0m\n\u001b[1;32m----> 1\u001b[1;33m \u001b[0mprint\u001b[0m\u001b[1;33m(\u001b[0m\u001b[1;34m\"2.0\"\u001b[0m\u001b[1;33m+\u001b[0m\u001b[1;36m3.0\u001b[0m\u001b[1;33m)\u001b[0m\u001b[1;33m\u001b[0m\u001b[1;33m\u001b[0m\u001b[0m\n\u001b[0m",
      "\u001b[1;31mTypeError\u001b[0m: can only concatenate str (not \"float\") to str"
     ]
    }
   ],
   "source": [
    "print(\"2.0\"+3.0)"
   ]
  },
  {
   "cell_type": "markdown",
   "id": "6aad0c85",
   "metadata": {
    "id": "c2e79230"
   },
   "source": [
    "型が違うデータ同士では、基本的に演算はできないことを覚えておこう。(int型とfloat型の計算は例外的に可能)"
   ]
  },
  {
   "cell_type": "markdown",
   "id": "6f766746",
   "metadata": {
    "id": "30930726"
   },
   "source": [
    "### 例外 : int型×str型をやってみると…？\n",
    "\n",
    "実は例外的に、str型の掛け算(int型)はPythonだと計算できる。\n",
    "\n",
    "実験として、「ピザ」という文字列を10回繰り返してみよう。"
   ]
  },
  {
   "cell_type": "code",
   "execution_count": 4,
   "id": "5d6c07f3",
   "metadata": {
    "id": "9669166f",
    "outputId": "83ab9c3e-f6e1-4a45-addd-2ee7df81c279"
   },
   "outputs": [
    {
     "name": "stdout",
     "output_type": "stream",
     "text": [
      "ピザピザピザピザピザピザピザピザピザピザ\n"
     ]
    }
   ],
   "source": [
    "print(\"ピザ\" * 10)"
   ]
  },
  {
   "cell_type": "markdown",
   "id": "7223d5e2",
   "metadata": {
    "id": "206563bc"
   },
   "source": [
    "### その他の演算子\n",
    "\n",
    "四則演算以外の計算もやってみよう。\n",
    "\n",
    "#### 剰余(%)\n",
    "\n",
    "```a%b```は、aをbで割った余りをint型で返す。"
   ]
  },
  {
   "cell_type": "code",
   "execution_count": null,
   "id": "1d5f1549",
   "metadata": {
    "id": "dba0876d",
    "outputId": "f4c874db-ccc6-4cb0-b4f2-d23051efd722"
   },
   "outputs": [
    {
     "name": "stdout",
     "output_type": "stream",
     "text": [
      "1\n",
      "<class 'int'>\n"
     ]
    }
   ],
   "source": [
    "print(5%2)\n",
    "print(type(5%2))"
   ]
  },
  {
   "cell_type": "markdown",
   "id": "b8b385ff",
   "metadata": {
    "id": "242a1196"
   },
   "source": [
    "#### 累乗(**)\n",
    "\n",
    "```a**b```は、aのb乗を表す。"
   ]
  },
  {
   "cell_type": "code",
   "execution_count": null,
   "id": "ad7dbe15",
   "metadata": {
    "id": "53c51f9d",
    "outputId": "6114f060-49e4-40b6-d934-57f8a1d8107b"
   },
   "outputs": [
    {
     "name": "stdout",
     "output_type": "stream",
     "text": [
      "9\n",
      "<class 'int'>\n"
     ]
    }
   ],
   "source": [
    "print(3**2)\n",
    "print(type(3**2))"
   ]
  },
  {
   "cell_type": "markdown",
   "id": "b1d56762",
   "metadata": {
    "id": "4d64f962"
   },
   "source": [
    "### 計算の順序\n",
    "\n",
    "計算の順序は基本的な数学の仕組みと同じで、掛け算・割り算が足し算・引き算より優先される。\n",
    "\n",
    "また、括弧()を使うと優先順位を指定できる。"
   ]
  },
  {
   "cell_type": "code",
   "execution_count": null,
   "id": "87ae20d3",
   "metadata": {
    "id": "077ad1ec",
    "outputId": "868497e6-2536-470a-8346-4d1ae4c85656"
   },
   "outputs": [
    {
     "name": "stdout",
     "output_type": "stream",
     "text": [
      "23\n"
     ]
    }
   ],
   "source": [
    "print(5 + 6 * 3)"
   ]
  },
  {
   "cell_type": "code",
   "execution_count": null,
   "id": "c904a280",
   "metadata": {
    "id": "f1c9f5f0",
    "outputId": "febb18e6-dc88-4f01-a947-9a6acc45c097"
   },
   "outputs": [
    {
     "name": "stdout",
     "output_type": "stream",
     "text": [
      "33\n"
     ]
    }
   ],
   "source": [
    "print((5 + 6) * 3)"
   ]
  },
  {
   "cell_type": "markdown",
   "id": "5c50640d",
   "metadata": {
    "id": "329d9326"
   },
   "source": [
    "# 2-3. 変数を使ってみよう\n",
    "\n",
    "---\n",
    "\n",
    "### 計算結果の使い回しや修正を行うと…"
   ]
  },
  {
   "cell_type": "markdown",
   "id": "7df1fa28",
   "metadata": {
    "id": "9c81b19f"
   },
   "source": [
    "まず、変数を使わずに複雑な計算を行ってみよう。"
   ]
  },
  {
   "cell_type": "code",
   "execution_count": null,
   "id": "03d93f6e",
   "metadata": {
    "id": "c78af3a8",
    "outputId": "d7b8aebc-85ed-4122-d778-60c80651b577"
   },
   "outputs": [
    {
     "name": "stdout",
     "output_type": "stream",
     "text": [
      "9610000.0\n"
     ]
    }
   ],
   "source": [
    "print((3.1 * 10 ** 3)**2)"
   ]
  },
  {
   "cell_type": "markdown",
   "id": "92857762",
   "metadata": {
    "id": "513399e7"
   },
   "source": [
    "この計算結果を他の計算に使いたい、というケースを考える。\n",
    "\n",
    "そうすると、また上記の式を全て書かなければいけない。"
   ]
  },
  {
   "cell_type": "code",
   "execution_count": null,
   "id": "e89a6a5c",
   "metadata": {
    "id": "0fee608e",
    "outputId": "c68d7029-9445-42c7-e6bf-33e1d37eea64"
   },
   "outputs": [
    {
     "name": "stdout",
     "output_type": "stream",
     "text": [
      "9635000.0\n"
     ]
    }
   ],
   "source": [
    "print((3.1 * 10 ** 3)**2 + 20000 * 1.25)"
   ]
  },
  {
   "cell_type": "markdown",
   "id": "ce8142a7",
   "metadata": {
    "id": "f1a22190"
   },
   "source": [
    "さらに、最初の計算結果を変更したいケースを考えよう。"
   ]
  },
  {
   "cell_type": "code",
   "execution_count": null,
   "id": "dee902e4",
   "metadata": {
    "id": "21d9cea9",
    "outputId": "fcd13ef8-4747-4ea4-9b57-d987cc158d14"
   },
   "outputs": [
    {
     "name": "stdout",
     "output_type": "stream",
     "text": [
      "4410000.0\n"
     ]
    }
   ],
   "source": [
    "print((2.1 * 10 ** 3)**2)"
   ]
  },
  {
   "cell_type": "markdown",
   "id": "86c433f5",
   "metadata": {
    "id": "c1e3e7b4"
   },
   "source": [
    "こうすると、後ろのセルの計算式も全て書き換えないといけない。"
   ]
  },
  {
   "cell_type": "code",
   "execution_count": null,
   "id": "71879890",
   "metadata": {
    "id": "26af2867",
    "outputId": "7d0d4495-c4d8-4547-b446-bbda3a2a3bd4"
   },
   "outputs": [
    {
     "name": "stdout",
     "output_type": "stream",
     "text": [
      "4435000.0\n"
     ]
    }
   ],
   "source": [
    "print((2.1 * 10 ** 3)**2 + 20000 * 1.25)"
   ]
  },
  {
   "cell_type": "markdown",
   "id": "5885b0b6",
   "metadata": {
    "id": "ab146cff"
   },
   "source": [
    "データサイエンスやAIの計算では、前のセルの計算結果を次のセルで使い回すことが多い。\n",
    "\n",
    "そのときにいちいち前のセルの計算式を書いていくのは、非常に面倒くさいことがわかるだろう。\n",
    "\n",
    "そこで役に立つのが「変数」という概念だ。"
   ]
  },
  {
   "cell_type": "markdown",
   "id": "acb62ed9",
   "metadata": {
    "id": "b9527df6"
   },
   "source": [
    "「変数」とは、データを保存する箱のような概念である。変数に何らかのデータを保存することを「格納」という。\n",
    "\n",
    "### 数値データの格納\n",
    "\n",
    "まずは最もよく使う数値の格納を学ぼう。\n",
    "\n",
    "【例題】変数**```x```**に1を格納して、xの値を出力してみよう。"
   ]
  },
  {
   "cell_type": "code",
   "execution_count": null,
   "id": "a9fa1410",
   "metadata": {
    "colab": {
     "base_uri": "https://localhost:8080/",
     "height": 34
    },
    "executionInfo": {
     "elapsed": 427,
     "status": "ok",
     "timestamp": 1577121606891,
     "user": {
      "displayName": "Kurusu Yuugo",
      "photoUrl": "",
      "userId": "00117977046560544733"
     },
     "user_tz": -540
    },
    "id": "76f3585a",
    "outputId": "b94b27a6-4ca2-4e4b-da66-475664835bb8"
   },
   "outputs": [
    {
     "name": "stdout",
     "output_type": "stream",
     "text": [
      "1\n"
     ]
    }
   ],
   "source": [
    "x = 1\n",
    "print(x)"
   ]
  },
  {
   "cell_type": "markdown",
   "id": "f66cb214",
   "metadata": {
    "id": "c349caa9"
   },
   "source": [
    "もちろん整数だけでなく、小数も格納して出力できる。\n",
    "\n",
    "【問題】 変数```param```に3.1415を格納して、変数paramを出力してみよう。"
   ]
  },
  {
   "cell_type": "code",
   "execution_count": null,
   "id": "924ed2f4",
   "metadata": {
    "colab": {
     "base_uri": "https://localhost:8080/",
     "height": 34
    },
    "executionInfo": {
     "elapsed": 416,
     "status": "ok",
     "timestamp": 1577121606892,
     "user": {
      "displayName": "Kurusu Yuugo",
      "photoUrl": "",
      "userId": "00117977046560544733"
     },
     "user_tz": -540
    },
    "id": "807c724f",
    "outputId": "5e89b0fe-aae9-4250-fa14-4ba882cd41b4"
   },
   "outputs": [
    {
     "name": "stdout",
     "output_type": "stream",
     "text": [
      "3.14159\n"
     ]
    }
   ],
   "source": [
    "# 解答例\n",
    "param = 3.14159\n",
    "print(param)"
   ]
  },
  {
   "cell_type": "markdown",
   "id": "2fb5f60b",
   "metadata": {
    "id": "c43bb4f4"
   },
   "source": [
    "### 変数の命名ルール\n",
    "\n",
    "変数名には英大文字、英小文字、数字と\"_\"(アンダースコア)が使える。英大文字と小文字は区別されることに気をつけよう。"
   ]
  },
  {
   "cell_type": "code",
   "execution_count": null,
   "id": "c8acc4aa",
   "metadata": {
    "id": "1546cfca",
    "outputId": "fba311b7-902f-4ab0-9f57-5eb95798ad8d"
   },
   "outputs": [
    {
     "name": "stdout",
     "output_type": "stream",
     "text": [
      "1\n",
      "-1\n"
     ]
    }
   ],
   "source": [
    "param = 1\n",
    "Param = -1\n",
    "\n",
    "print(param)\n",
    "print(Param)"
   ]
  },
  {
   "cell_type": "markdown",
   "id": "dfae98ac",
   "metadata": {
    "id": "8430b27b"
   },
   "source": [
    "なお、変数名の最初が数字だとエラーが起きるので注意しよう。"
   ]
  },
  {
   "cell_type": "code",
   "execution_count": null,
   "id": "a8807a68",
   "metadata": {
    "id": "17c869bd",
    "outputId": "e0201e64-07b2-4290-ee9e-3542f372363a"
   },
   "outputs": [
    {
     "ename": "SyntaxError",
     "evalue": "invalid syntax (Temp/ipykernel_7656/771991958.py, line 1)",
     "output_type": "error",
     "traceback": [
      "\u001b[1;36m  File \u001b[1;32m\"C:\\Users\\nakaj\\AppData\\Local\\Temp/ipykernel_7656/771991958.py\"\u001b[1;36m, line \u001b[1;32m1\u001b[0m\n\u001b[1;33m    2m = 10\u001b[0m\n\u001b[1;37m     ^\u001b[0m\n\u001b[1;31mSyntaxError\u001b[0m\u001b[1;31m:\u001b[0m invalid syntax\n"
     ]
    }
   ],
   "source": [
    "2m = 10"
   ]
  },
  {
   "cell_type": "markdown",
   "id": "8c576dfa",
   "metadata": {
    "id": "ba596449"
   },
   "source": [
    "### 文字列の格納\n",
    "\n",
    "変数には数値だけでなく、文字列も格納できる。\n",
    "\n",
    "【例題】変数```asa```に「おはようございます！」と格納して出力してみよう。"
   ]
  },
  {
   "cell_type": "code",
   "execution_count": null,
   "id": "51582884",
   "metadata": {
    "id": "2dd93658",
    "outputId": "afd2cc43-e021-4383-c564-6b1ddc633037"
   },
   "outputs": [
    {
     "name": "stdout",
     "output_type": "stream",
     "text": [
      "おはようございます！\n"
     ]
    }
   ],
   "source": [
    "asa = \"おはようございます！\"\n",
    "print(asa)"
   ]
  },
  {
   "cell_type": "markdown",
   "id": "f2622dc6",
   "metadata": {
    "id": "e8aabeb6"
   },
   "source": [
    "【問題】変数```yoru```に「こんばんは。」と格納して出力してみよう。"
   ]
  },
  {
   "cell_type": "code",
   "execution_count": null,
   "id": "518191b2",
   "metadata": {
    "id": "588fd1f6",
    "outputId": "ae9898ad-dd88-48a8-d227-0d5ff3a70690"
   },
   "outputs": [
    {
     "name": "stdout",
     "output_type": "stream",
     "text": [
      "こんばんは。\n"
     ]
    }
   ],
   "source": [
    "yoru = \"こんばんは。\"\n",
    "print(yoru)"
   ]
  },
  {
   "cell_type": "markdown",
   "id": "a2b6be37",
   "metadata": {
    "id": "9c591bf1"
   },
   "source": [
    "### 変数の意義\n",
    "\n",
    "そこで、例題の計算結果を変数```a```に格納してみよう。"
   ]
  },
  {
   "cell_type": "code",
   "execution_count": null,
   "id": "8aba7460",
   "metadata": {
    "id": "965fb09e",
    "outputId": "359b3d0a-4b19-4ccb-b4af-185a8dcd473e"
   },
   "outputs": [
    {
     "name": "stdout",
     "output_type": "stream",
     "text": [
      "2883000.0\n"
     ]
    }
   ],
   "source": [
    "a = (3.1 * 10 ** 3)**2\n",
    "print(a)"
   ]
  },
  {
   "cell_type": "markdown",
   "id": "3c514007",
   "metadata": {
    "id": "64632258"
   },
   "source": [
    "こうすることで、計算結果```a```を以降のセルの計算に利用することができる。\n",
    "\n",
    "次に、この計算結果に```20000*1.25```を加えて変数```b```に格納してみよう。"
   ]
  },
  {
   "cell_type": "code",
   "execution_count": null,
   "id": "7df5a224",
   "metadata": {
    "id": "5fe62b97",
    "outputId": "d8dc4dad-56d2-495f-ed06-cb54a9b92281"
   },
   "outputs": [
    {
     "name": "stdout",
     "output_type": "stream",
     "text": [
      "2908000.0\n"
     ]
    }
   ],
   "source": [
    "b = a + 20000*1.25\n",
    "print(b)"
   ]
  },
  {
   "cell_type": "markdown",
   "id": "1a2eec4d",
   "metadata": {
    "id": "05a6f866"
   },
   "source": [
    "さらに、```a```と```b```といった変数同士で計算することもできる。\n",
    "\n",
    "2つを足し算して変数```c```に格納してみよう。"
   ]
  },
  {
   "cell_type": "code",
   "execution_count": null,
   "id": "8605a1ea",
   "metadata": {
    "id": "8416b538",
    "outputId": "7e012095-c0e8-4266-fd4d-426e44b91259"
   },
   "outputs": [
    {
     "name": "stdout",
     "output_type": "stream",
     "text": [
      "5791000.0\n"
     ]
    }
   ],
   "source": [
    "c = a + b\n",
    "print(c)"
   ]
  },
  {
   "cell_type": "markdown",
   "id": "4e8b2e52",
   "metadata": {
    "id": "3669748a"
   },
   "source": [
    "どうだろう？先ほどと比べて、変数を使った式はとても楽に書けたのではないだろうか？\n",
    "\n",
    "これが変数の効果で、記述量を大幅に減らしつつ、効率的に次のセルの計算ができるのだ。"
   ]
  },
  {
   "cell_type": "markdown",
   "id": "75a67856",
   "metadata": {
    "id": "a9e161e1"
   },
   "source": [
    "【問題】変数```a```に2、変数```b```に3を格納して、```a+b```と```a-b```、```a*b```と```a/b```を計算しよう。"
   ]
  },
  {
   "cell_type": "code",
   "execution_count": null,
   "id": "1119369a",
   "metadata": {
    "id": "01cbcac9",
    "outputId": "bd84b5f3-5774-406e-caaa-5f0d546e6bee"
   },
   "outputs": [
    {
     "name": "stdout",
     "output_type": "stream",
     "text": [
      "5\n",
      "-1\n",
      "6\n",
      "0.6666666666666666\n"
     ]
    }
   ],
   "source": [
    "a = 2\n",
    "b = 3\n",
    "print(a+b)\n",
    "print(a-b)\n",
    "print(a*b)\n",
    "print(a/b)"
   ]
  },
  {
   "cell_type": "markdown",
   "id": "af996b1d",
   "metadata": {
    "id": "304a30c7"
   },
   "source": [
    "【問題】\n",
    "\n",
    "アインシュタインの特殊相対性理論で、質量と等価なエネルギー量は$E = mc^2$で求められる。\n",
    "\n",
    "りんご一個の重さを$m = 0.1 kg$、光速を$c = 2.9979×10^8 m/s$として、りんご一個の質量と等価なエネルギー量```E```を求めてみよう。\n",
    "\n",
    "まずは必要な変数```m```と```c```を定義し、次にエネルギー量を計算して、変数```E```に格納・出力しよう。"
   ]
  },
  {
   "cell_type": "code",
   "execution_count": null,
   "id": "405672d2",
   "metadata": {
    "colab": {
     "base_uri": "https://localhost:8080/",
     "height": 34
    },
    "executionInfo": {
     "elapsed": 698,
     "status": "ok",
     "timestamp": 1577121786268,
     "user": {
      "displayName": "Kurusu Yuugo",
      "photoUrl": "",
      "userId": "00117977046560544733"
     },
     "user_tz": -540
    },
    "id": "0c1f5975",
    "outputId": "fb441301-6798-4e1a-86ea-660c07da9436"
   },
   "outputs": [
    {
     "name": "stdout",
     "output_type": "stream",
     "text": [
      "8987404410000000.0\n"
     ]
    }
   ],
   "source": [
    "# 解答例\n",
    "m = 0.1\n",
    "c = 2.9979 * 10 ** 8\n",
    "E = m * c ** 2\n",
    "print(E)"
   ]
  },
  {
   "cell_type": "markdown",
   "id": "25ac88fd",
   "metadata": {
    "id": "1ec3bbd3"
   },
   "source": [
    "#  2-4. 変数の呼び出しと変数の上書き\n",
    "---\n",
    "\n",
    "【例題】 セルを跨いで```x```を「呼び出して」表示し、xの値を```\"python\"```に上書きしてみよう。"
   ]
  },
  {
   "cell_type": "code",
   "execution_count": null,
   "id": "c5be8c38",
   "metadata": {
    "colab": {
     "base_uri": "https://localhost:8080/",
     "height": 51
    },
    "executionInfo": {
     "elapsed": 409,
     "status": "ok",
     "timestamp": 1577121606893,
     "user": {
      "displayName": "Kurusu Yuugo",
      "photoUrl": "",
      "userId": "00117977046560544733"
     },
     "user_tz": -540
    },
    "id": "61f2b041",
    "outputId": "b3b04984-3ab3-4d96-bb79-9c247fc9bd16"
   },
   "outputs": [
    {
     "name": "stdout",
     "output_type": "stream",
     "text": [
      "1\n",
      "python\n"
     ]
    }
   ],
   "source": [
    "print(x)\n",
    "x = \"python\"\n",
    "print(x)"
   ]
  },
  {
   "cell_type": "markdown",
   "id": "1d1366dc",
   "metadata": {
    "id": "1815c719"
   },
   "source": [
    "- このように先ほどの【例題】で1が格納された変数`x`はセルを跨いで保存される\n",
    "- カーネルの再起動で変数をリセットできる\n",
    "- `=`は**「代入演算子」**の一つで、変数の値を「上書き保存」する"
   ]
  },
  {
   "cell_type": "markdown",
   "id": "3131244c",
   "metadata": {
    "id": "ff2119d9"
   },
   "source": [
    "【問題】　xの値を\"jupyter notebook\"で上書きして、xを出力してみよう。"
   ]
  },
  {
   "cell_type": "code",
   "execution_count": null,
   "id": "c9437bc4",
   "metadata": {
    "colab": {
     "base_uri": "https://localhost:8080/",
     "height": 34
    },
    "executionInfo": {
     "elapsed": 400,
     "status": "ok",
     "timestamp": 1577121606893,
     "user": {
      "displayName": "Kurusu Yuugo",
      "photoUrl": "",
      "userId": "00117977046560544733"
     },
     "user_tz": -540
    },
    "id": "5f60de6a",
    "outputId": "180b76fc-395b-43dd-e90b-f88a234b4816"
   },
   "outputs": [
    {
     "name": "stdout",
     "output_type": "stream",
     "text": [
      "jupyter notebook\n"
     ]
    }
   ],
   "source": [
    "# 解答例\n",
    "x = \"jupyter notebook\"\n",
    "print(x)"
   ]
  },
  {
   "cell_type": "markdown",
   "id": "a1738a33",
   "metadata": {
    "id": "3b1d19d8"
   },
   "source": [
    "【問題】３つの文字列`a = \"pen\"`、 `b =\"pineapple\"`、　`c = apple`がある。次に`ab`を`a + b`とし、`ca`を`c + a`とする。最後に、`abca`を`ab + ca`として、`abca`出力したい。\n",
    "\n",
    "以下のセルの抜けている部分を埋めてみよう"
   ]
  },
  {
   "cell_type": "code",
   "execution_count": null,
   "id": "cb6bf518",
   "metadata": {
    "colab": {
     "base_uri": "https://localhost:8080/",
     "height": 34
    },
    "executionInfo": {
     "elapsed": 910,
     "status": "ok",
     "timestamp": 1577121786488,
     "user": {
      "displayName": "Kurusu Yuugo",
      "photoUrl": "",
      "userId": "00117977046560544733"
     },
     "user_tz": -540
    },
    "id": "d01c7a56",
    "outputId": "d07476ed-d064-471c-b8a2-72ebb1b20ef3"
   },
   "outputs": [
    {
     "name": "stdout",
     "output_type": "stream",
     "text": [
      "penpineappleapplepen\n"
     ]
    }
   ],
   "source": [
    "# 解答例\n",
    "a = 'pen'\n",
    "b = 'pineapple'\n",
    "c = 'apple'\n",
    "ab = a + b\n",
    "ca = c + a\n",
    "abca = ab + ca\n",
    "print(abca)"
   ]
  },
  {
   "cell_type": "markdown",
   "id": "35a91fc4",
   "metadata": {
    "id": "7202df4b"
   },
   "source": [
    "#### 【補足】Pythonによる型の自動変換\n",
    "\n",
    "実は他のプログラミング言語では、変数に対して型を指定する。\n",
    "\n",
    "つまり、`x`という変数をstr型で指定した場合、その`x`の中身には文字列しか入れられない。\n",
    "\n",
    "しかしPythonでは、型を宣言せずに変数を扱うため、同じ変数`x`の中身がstr型からint型に変わっても対応できる。\n",
    "\n",
    "このとき、自動で型を変換してくれる。"
   ]
  },
  {
   "cell_type": "code",
   "execution_count": null,
   "id": "3a5c6175",
   "metadata": {
    "id": "25002595",
    "outputId": "50a71ed6-170c-4814-8e05-d515bf5ff381"
   },
   "outputs": [
    {
     "name": "stdout",
     "output_type": "stream",
     "text": [
      "jupyter notebook\n",
      "<class 'str'>\n",
      "10\n",
      "<class 'int'>\n"
     ]
    }
   ],
   "source": [
    "x = \"jupyter notebook\"\n",
    "print(x)\n",
    "print(type(x))\n",
    "x = 10\n",
    "print(x)\n",
    "print(type(x))"
   ]
  },
  {
   "cell_type": "markdown",
   "id": "3288eced",
   "metadata": {
    "id": "921f98b8"
   },
   "source": [
    "## 2-5. bool型と比較演算子\n",
    "【例題】比較演算子を使うと，指定した条件が正しいのか，間違っているのかを判別できる．"
   ]
  },
  {
   "cell_type": "code",
   "execution_count": null,
   "id": "56955316",
   "metadata": {
    "id": "3365e06d",
    "outputId": "63df8914-f205-47ed-c022-32c6730aed3d"
   },
   "outputs": [
    {
     "name": "stdout",
     "output_type": "stream",
     "text": [
      "True\n"
     ]
    }
   ],
   "source": [
    "x = 2\n",
    "y = 1\n",
    "print(x > y)"
   ]
  },
  {
   "cell_type": "markdown",
   "id": "725026fc",
   "metadata": {
    "id": "d2482015"
   },
   "source": [
    "- 比較演算子の結果はbool型となり、`True`は正しい(真)、`False`は間違っている(偽)を表している\n",
    "- 比較演算子は他に以下のものがある。  \n",
    "    - 「==」左右が等しいかどうか  \n",
    "    - 「!=」左右が異なっているかどうか  \n",
    "    - 「<=」左の値が右の値以下かどうか  "
   ]
  },
  {
   "cell_type": "markdown",
   "id": "c0f65329",
   "metadata": {
    "id": "e2641edf"
   },
   "source": [
    "【例題】```a=1==1```および```b=1==2```を計算してみよう"
   ]
  },
  {
   "cell_type": "code",
   "execution_count": null,
   "id": "5f80f816",
   "metadata": {
    "id": "e84e10c6",
    "outputId": "59b3df4a-e5b9-4f96-9e54-b79a5e630f64"
   },
   "outputs": [
    {
     "name": "stdout",
     "output_type": "stream",
     "text": [
      "True\n"
     ]
    }
   ],
   "source": [
    "a = 1 == 1\n",
    "print(a)"
   ]
  },
  {
   "cell_type": "markdown",
   "id": "f361adf6",
   "metadata": {
    "id": "4084e2c0"
   },
   "source": [
    "これは```a```という変数に```1```と```1```というint型の比較結果が入る。左右が等しいので```True```が返されている。"
   ]
  },
  {
   "cell_type": "code",
   "execution_count": null,
   "id": "ee918c33",
   "metadata": {
    "id": "a6390e5f",
    "outputId": "e8cb8e80-2073-4e5d-c3c1-303e9fa41a9e"
   },
   "outputs": [
    {
     "name": "stdout",
     "output_type": "stream",
     "text": [
      "False\n"
     ]
    }
   ],
   "source": [
    "b = 1 == 2\n",
    "print(b)"
   ]
  },
  {
   "cell_type": "markdown",
   "id": "da510ff3",
   "metadata": {
    "id": "eb1bd02e"
   },
   "source": [
    "これは```b```という変数に```1```と```2```の比較結果が入り、左右が等しくないので```False```が返される。"
   ]
  },
  {
   "cell_type": "markdown",
   "id": "2f64176a",
   "metadata": {
    "id": "7f6995b4"
   },
   "source": [
    "なお、下記のように書くとエラーになる。"
   ]
  },
  {
   "cell_type": "code",
   "execution_count": null,
   "id": "15a0c755",
   "metadata": {
    "id": "66f5ddb1",
    "outputId": "40c85578-3e54-4d1b-eae7-26d259d7b626"
   },
   "outputs": [
    {
     "ename": "SyntaxError",
     "evalue": "cannot assign to literal (Temp/ipykernel_6600/3093303371.py, line 1)",
     "output_type": "error",
     "traceback": [
      "\u001b[1;36m  File \u001b[1;32m\"C:\\Users\\nakaj\\AppData\\Local\\Temp/ipykernel_6600/3093303371.py\"\u001b[1;36m, line \u001b[1;32m1\u001b[0m\n\u001b[1;33m    a = 1 = 2\u001b[0m\n\u001b[1;37m        ^\u001b[0m\n\u001b[1;31mSyntaxError\u001b[0m\u001b[1;31m:\u001b[0m cannot assign to literal\n"
     ]
    }
   ],
   "source": [
    "a = 1 = 2"
   ]
  },
  {
   "cell_type": "markdown",
   "id": "025dabb0",
   "metadata": {
    "id": "3ad25947"
   },
   "source": [
    "【問題】 `x`に`0.3`を代入し、`y`に`0.1*3`を代入して、`x`と`y`が等しいか比較演算子を使って判定しよう．  \n",
    "その結果を変数`z`に格納して，`z`を表示してみよう．"
   ]
  },
  {
   "cell_type": "code",
   "execution_count": null,
   "id": "04739afb",
   "metadata": {
    "colab": {
     "base_uri": "https://localhost:8080/",
     "height": 34
    },
    "executionInfo": {
     "elapsed": 665,
     "status": "ok",
     "timestamp": 1582260722513,
     "user": {
      "displayName": "정범준",
      "photoUrl": "https://lh3.googleusercontent.com/a-/AAuE7mBOM61BGwey2npNQfr0e2LCuA9eQMwGWK2paLHa=s64",
      "userId": "01726864658215807628"
     },
     "user_tz": -540
    },
    "id": "8bfe8405",
    "outputId": "fa8cf489-2a15-4b15-8ee2-053c757f08de"
   },
   "outputs": [
    {
     "name": "stdout",
     "output_type": "stream",
     "text": [
      "False\n"
     ]
    }
   ],
   "source": [
    "x = 0.3\n",
    "y = 0.1*3\n",
    "z = x == y\n",
    "print(z)"
   ]
  },
  {
   "cell_type": "markdown",
   "id": "abe7b0f7",
   "metadata": {
    "id": "8a005fe0"
   },
   "source": [
    "- 比較演算子の結果はbool型なので変数に格納できる\n",
    "- 実はコンピュータでは、2進数と10進数の変換の関係で、小数の計算は厳密な精度ではできない。\n",
    "- 例えば`0.1`の3倍は`0.30000000000000004`になってしまう.\n",
    "\n",
    "### 〜演算子一覧〜\n",
    "\n",
    "- 比較演算子（`==`, `!=`, `<`, `>`, `<=`, `>=`, `is`, `<>`）<br>\n",
    "- 代入演算子(`=`, `+=`, `-=`, `*=`, `/=`, `%=`, `**=`, `//=`, `&=`, `|=`, `^=`, `<<=`, `>>=`)<br>\n",
    "- ビット演算子(`~`, `&`, `|`, `^`, `<<`, `>>`)<br>\n",
    "- ブール演算子(`and`, `or`, `not`)<br>\n",
    "\n",
    "どんな演算ができるか気になる場合は一度試してみよう。（もちろん暗記する必要はない）"
   ]
  },
  {
   "cell_type": "code",
   "execution_count": null,
   "id": "9812ec2f",
   "metadata": {
    "id": "e39d4cf7"
   },
   "outputs": [],
   "source": []
  }
 ],
 "metadata": {
  "colab": {
   "provenance": []
  },
  "kernelspec": {
   "display_name": "Python 3 (ipykernel)",
   "language": "python",
   "name": "python3"
  },
  "language_info": {
   "codemirror_mode": {
    "name": "ipython",
    "version": 3
   },
   "file_extension": ".py",
   "mimetype": "text/x-python",
   "name": "python",
   "nbconvert_exporter": "python",
   "pygments_lexer": "ipython3",
   "version": "3.10.12"
  },
  "vscode": {
   "interpreter": {
    "hash": "31f2aee4e71d21fbe5cf8b01ff0e069b9275f58929596ceb00d14d90e3e16cd6"
   }
  }
 },
 "nbformat": 4,
 "nbformat_minor": 5
}
