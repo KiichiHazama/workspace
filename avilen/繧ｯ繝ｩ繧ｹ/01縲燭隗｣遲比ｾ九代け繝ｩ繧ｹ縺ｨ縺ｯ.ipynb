{
 "cells": [
  {
   "cell_type": "markdown",
   "id": "9f994795",
   "metadata": {},
   "source": [
    "# 福引プログラムを作ろう\n",
    "\n",
    "この講座では、Pythonの高度な実装において必須となる「クラス」の使い方を学んでいく。\n",
    "\n",
    "まずは例として、福引のプログラムを実装していこう。\n",
    "\n",
    "## 1.条件\n",
    "\n",
    "商店街でボールを使った福引を行うことになり、以下のようなプログラムを実装したい。\n",
    "\n",
    "- 箱の中のボールの全体の数は決まっている\n",
    "- あたりの数も決まっている\n",
    "- ボールはランダムで取り出される\n",
    "- 取り出すごとにボールは減る(あたりを取り出したらあたりが減る)\n",
    "- 箱の中身がゼロになったら教えてほしい\n",
    "- このプログラムは使い回したい\n"
   ]
  },
  {
   "cell_type": "markdown",
   "id": "52994dab",
   "metadata": {},
   "source": [
    "### 確率の実装と必要な変数\n",
    "\n",
    "このうち、確率で当たったり外れたりを知らせるプログラムを作るのは簡単だ。\n",
    "\n",
    "`random.random()`関数を使用する手法で、Python応用編で学んだ内容をそのまま実装すればよい。\n",
    "\n",
    "しかし、このプログラムを実装するには、「箱からボールを取り出すと中身が減っていく」という点がネックとなる。\n",
    "\n",
    "このため、箱の中のボールの数、及びその時点での当たりの数をデータとして保持しておかないといけない。これはなかなか難しい。\n",
    "\n",
    "\n",
    "\n",
    "グローバル変数を使う方法もあるが、例えば複数の福引を同時に用意する、と言った場合にどうするのか。\n",
    "\n",
    "それを解決してくれるのが「クラス」という道具である。"
   ]
  },
  {
   "cell_type": "markdown",
   "id": "bc19fc6f",
   "metadata": {},
   "source": [
    "## 2.Fukubikiクラスの全体\n",
    "\n",
    "さて、主題となる福引用の関数は、実はすでに作成してある。\n",
    "\n",
    "細かい部分はあとで解説するので、まずはその全体を眺めてみよう。"
   ]
  },
  {
   "cell_type": "code",
   "execution_count": 5,
   "id": "4dd88e85",
   "metadata": {},
   "outputs": [],
   "source": [
    "import random \n",
    "import time\n",
    "\n",
    "class Fukubiki():\n",
    "    def __init__(self, number_of_balls=100, win=2):\n",
    "        self.NoB = number_of_balls\n",
    "        self.win = win\n",
    "        self.lose = self.NoB - self.win\n",
    "        self.result=[]\n",
    "        self.balls=[]\n",
    "        for i in range(self.win):\n",
    "            self.balls.append(\"win\")\n",
    "        for i in range(self.lose):\n",
    "            self.balls.append(\"lose\")\n",
    "        \n",
    "    def pick_ball(self, times=1, wait=3):\n",
    "        if len(self.balls)<times:\n",
    "            print(\"Balls are not enough...\")\n",
    "        else:\n",
    "            for i in range(times):\n",
    "                time.sleep(wait)\n",
    "                n=random.randint(0,len(self.balls)-1)\n",
    "                r=self.balls.pop(n)\n",
    "                if r==\"win\":\n",
    "                    print(\"You win! Congratulations!\")\n",
    "                else:\n",
    "                    print(\"You lose...Sorry...\")\n",
    "                self.result.append(r)\n",
    "                if len(self.balls)==0:\n",
    "                    print(\"All balls are gone.\")"
   ]
  },
  {
   "cell_type": "markdown",
   "id": "30e91f3a",
   "metadata": {},
   "source": [
    "## 3.Fukubikiクラスの実行"
   ]
  },
  {
   "cell_type": "markdown",
   "id": "72e3f319",
   "metadata": {},
   "source": [
    "Fukubikiクラスを呼び出すには、以下のテストコードを使用する。"
   ]
  },
  {
   "cell_type": "code",
   "execution_count": 6,
   "id": "8c85228d",
   "metadata": {},
   "outputs": [
    {
     "name": "stdout",
     "output_type": "stream",
     "text": [
      "You lose...Sorry...\n",
      "You win! Congratulations!\n",
      "You lose...Sorry...\n",
      "All balls are gone.\n"
     ]
    }
   ],
   "source": [
    "test=Fukubiki(number_of_balls=3, win=1)\n",
    "test.pick_ball(times=3, wait=1)"
   ]
  },
  {
   "cell_type": "markdown",
   "id": "44f8ec1e",
   "metadata": {},
   "source": [
    "### ボールの初期設定\n",
    "\n",
    "`test=Fukubiki(number_of_balls=3, win=1)`というコードの中で、ボールの数を初期設定している。\n",
    "\n",
    "`number_of_balls`が全体のボールの数を表し、`win`が当たりの数を表している。\n",
    "\n",
    "### 箱からボールを取り出す方法\n",
    "\n",
    "そして3行目、`test.pick_ball(times=3, wait=1)`で福引を引く回数`times`と待ち時間`wait`を設定し、福引を取り出している。\n",
    "\n",
    "上のコードでは3人が福引を引き、そのうち1人が当たっているはずだ。\n",
    "\n",
    "設定を変えて試してみよう。"
   ]
  },
  {
   "cell_type": "code",
   "execution_count": 7,
   "id": "7aa8a016",
   "metadata": {},
   "outputs": [
    {
     "name": "stdout",
     "output_type": "stream",
     "text": [
      "You win! Congratulations!\n",
      "You win! Congratulations!\n",
      "You lose...Sorry...\n"
     ]
    }
   ],
   "source": [
    "test=Fukubiki(number_of_balls=5, win=2)\n",
    "test.pick_ball(times=3, wait=1)"
   ]
  },
  {
   "cell_type": "markdown",
   "id": "4aaa3d84",
   "metadata": {},
   "source": [
    "上のコードでは5個中2個が当たりの福引を3人で引いている状態になっている。"
   ]
  },
  {
   "cell_type": "markdown",
   "id": "1db8004b",
   "metadata": {},
   "source": [
    "仮に`times`が`number_of_balls`より多い場合、`Balls are not enough...`というメッセージが表示されるようになっている。"
   ]
  },
  {
   "cell_type": "code",
   "execution_count": 8,
   "id": "b016d700",
   "metadata": {
    "scrolled": true
   },
   "outputs": [
    {
     "name": "stdout",
     "output_type": "stream",
     "text": [
      "Balls are not enough...\n"
     ]
    }
   ],
   "source": [
    "test.pick_ball(times=5, wait=1)"
   ]
  },
  {
   "cell_type": "markdown",
   "id": "8aee7b64",
   "metadata": {},
   "source": [
    "`Fukubiki`はこのように設定を変えて自由に使えるようになっているが、その中身はどうなっているのだろうか？\n",
    "\n",
    "その正体は、**「クラス」**と呼ばれる新しいデータの形なのである。まずはクラスについて大まかに学んでいこう。"
   ]
  },
  {
   "cell_type": "markdown",
   "id": "18540f29",
   "metadata": {
    "id": "qJXxFvmLZUCF"
   },
   "source": [
    "## 4.クラスとは\n",
    "\n",
    "「クラスって何？何ができるの？」という質問を簡単に返すと、  \n",
    "\n",
    "* 新しい**型**(構造)を作ることができる\n",
    "\n",
    "と言えるだろう。クラスを利用して作成する新しい型とは何なのか？以降で学んでいこう！"
   ]
  },
  {
   "cell_type": "markdown",
   "id": "2973b59c",
   "metadata": {
    "id": "jYVQiWGQJBrm"
   },
   "source": [
    "### 既存の型\n",
    "\n",
    "新しい型を学ぶ前に既存の型の復習から始めよう。  \n",
    "\n",
    "【例題】プログラムを実行して、それぞれの変数の型を確認しよう。\n"
   ]
  },
  {
   "cell_type": "code",
   "execution_count": 9,
   "id": "82e7c9a7",
   "metadata": {
    "colab": {
     "base_uri": "https://localhost:8080/",
     "height": 72
    },
    "executionInfo": {
     "elapsed": 1685,
     "status": "ok",
     "timestamp": 1594352246166,
     "user": {
      "displayName": "三森馨",
      "photoUrl": "",
      "userId": "00544285628706669870"
     },
     "user_tz": -540
    },
    "id": "L7W8AaeLJQxI",
    "outputId": "36e80cdd-b3a0-47b8-edcf-b90839ef8bdc"
   },
   "outputs": [
    {
     "name": "stdout",
     "output_type": "stream",
     "text": [
      "変数name：型<class 'str'>\n",
      "変数age   ：型<class 'int'>\n",
      "変数score：型<class 'dict'>\n"
     ]
    }
   ],
   "source": [
    "name = \"Tanaka\"\n",
    "print(f\"変数name：型{type(name)}\")\n",
    "age = 18\n",
    "print(f\"変数age   ：型{type(age)}\")\n",
    "score = {\"数学\": 100}\n",
    "print(f\"変数score：型{type(score)}\")"
   ]
  },
  {
   "cell_type": "markdown",
   "id": "f7fb5140",
   "metadata": {
    "id": "SwcYyJgoI990"
   },
   "source": [
    "値に応じて型は定まっていることがわかる。\n",
    "* 文字列データを扱うのはstr型\n",
    "* 整数データを扱うのはint型\n",
    "* 辞書データを扱うのはdict型\n",
    "\n",
    "**python**では変数に代入した値に応じて型が決まる。"
   ]
  },
  {
   "cell_type": "markdown",
   "id": "990b6382",
   "metadata": {
    "id": "2YXmC3ZIJIa4"
   },
   "source": [
    "### クラスのイメージ\n",
    "\n",
    "それでは、「名前」や「年齢」などを持つような**「人間のデータ」**を扱う時はどうするのが良いだろう？  \n",
    "「人間のデータ」専用の型はない。それならば、クラスを利用して「人間のデータ」専用の型をつくってやろう！"
   ]
  },
  {
   "cell_type": "markdown",
   "id": "484be759",
   "metadata": {
    "id": "z3YDtE0LATR4"
   },
   "source": [
    "【例題】プログラムを実行してクラスを宣言してみよう。"
   ]
  },
  {
   "cell_type": "code",
   "execution_count": 10,
   "id": "3383507a",
   "metadata": {
    "id": "z4OMzGZIgcDI"
   },
   "outputs": [],
   "source": [
    "class Person():\n",
    "    pass"
   ]
  },
  {
   "cell_type": "markdown",
   "id": "869786bd",
   "metadata": {
    "id": "3_1-2-KeKvxm"
   },
   "source": [
    "上記のプログラムでクラス`Person`を宣言することができた。\n",
    "\n",
    "**クラスの宣言方法**\n",
    "```python\n",
    "class クラス名():  # クラスの内容(処理)はこの行以降に書いていく。\n",
    "    pass  # クラスの内容が決まってない時はpassと書く。\n",
    "```\n",
    "\n",
    "* クラス名は頭文字を大文字にするのが慣習\n",
    "* クラスの内容は何か書かないとエラーが起きる\n",
    "    * `pass`はなにもしないという処理\n"
   ]
  },
  {
   "cell_type": "markdown",
   "id": "11970449",
   "metadata": {
    "id": "SNRBK_qAeJ_7"
   },
   "source": [
    "実は、同様の方法で以下のライブラリも作成されている。\n",
    "\n",
    "* 数値を扱うのに特化した数値データ専用の型：NumPyのndarray\n",
    "* データ分析を行うのに特化した表形式データ専用の型：PandasのDataFrame\n",
    "* 機械学習の演算を行うのに特化した表形式データ専用の型：PytorchのTensor\n"
   ]
  },
  {
   "cell_type": "markdown",
   "id": "afc4226b",
   "metadata": {
    "id": "ntXwViIzNw67"
   },
   "source": [
    "【問題】ペットのデータを扱うクラスを作成したい。クラス`Pet`を宣言しよう。"
   ]
  },
  {
   "cell_type": "code",
   "execution_count": 11,
   "id": "70e3e8ec",
   "metadata": {
    "id": "ytnGZfLqNw69"
   },
   "outputs": [],
   "source": [
    "# 解答例\n",
    "class Pet():\n",
    "    pass"
   ]
  },
  {
   "cell_type": "markdown",
   "id": "1c1592b0",
   "metadata": {
    "id": "hE6GrJhdbhiB"
   },
   "source": [
    "コードを書き終えたら、以下のプログラムを実行して答えの確認をしよう。"
   ]
  },
  {
   "cell_type": "code",
   "execution_count": 12,
   "id": "8be1cfba",
   "metadata": {
    "colab": {
     "base_uri": "https://localhost:8080/",
     "height": 35
    },
    "executionInfo": {
     "elapsed": 1129,
     "status": "ok",
     "timestamp": 1594352266227,
     "user": {
      "displayName": "三森馨",
      "photoUrl": "",
      "userId": "00544285628706669870"
     },
     "user_tz": -540
    },
    "id": "hPnx7-wIbe-H",
    "outputId": "6c5153fe-3d53-4b3a-ff6f-5256041657c2"
   },
   "outputs": [
    {
     "name": "stdout",
     "output_type": "stream",
     "text": [
      "<class '__main__.Pet'>\n"
     ]
    }
   ],
   "source": [
    "print(type(Pet()))"
   ]
  },
  {
   "cell_type": "markdown",
   "id": "9a0f418a",
   "metadata": {
    "id": "lUtQW2vRb1hK"
   },
   "source": [
    "* ```\n",
    "<class '__main__.Pet'>\n",
    "```\n",
    "と表示されたら正解だ！"
   ]
  },
  {
   "cell_type": "markdown",
   "id": "b4138b9a",
   "metadata": {
    "id": "aSetWGfZMtoN"
   },
   "source": [
    "## 5.インスタンス\n",
    "\n",
    "前章では、クラスの宣言方法を学んだ。次は変数に型(クラス)を格納してみよう。\n",
    "\n",
    "クラスを変数に格納することを**インスタンスの生成 or インスタンス化**、格納された変数のことを**インスタンス**と呼ぶ。  \n",
    "\n",
    "【例題】クラス`Person`を利用してインスタンスを生成しよう。また、生成したインスタンスの型を確かめてみよう。"
   ]
  },
  {
   "cell_type": "code",
   "execution_count": 13,
   "id": "99f9c083",
   "metadata": {
    "colab": {
     "base_uri": "https://localhost:8080/",
     "height": 35
    },
    "executionInfo": {
     "elapsed": 1670,
     "status": "ok",
     "timestamp": 1594352246168,
     "user": {
      "displayName": "三森馨",
      "photoUrl": "",
      "userId": "00544285628706669870"
     },
     "user_tz": -540
    },
    "id": "CDneZcxrUK9J",
    "outputId": "4adebaed-f330-4f53-dbcc-17ade343eb1e"
   },
   "outputs": [
    {
     "name": "stdout",
     "output_type": "stream",
     "text": [
      "<class '__main__.Person'>\n"
     ]
    }
   ],
   "source": [
    "Taro = Person()\n",
    "print(type(Taro))"
   ]
  },
  {
   "cell_type": "markdown",
   "id": "4f37ed4f",
   "metadata": {
    "id": "n1_IJX_vUPJb"
   },
   "source": [
    "**インスタンスの生成方法**\n",
    "* ```python\n",
    "変数名 = クラス名()  # インスタンスの生成を行い、変数に代入している。\n",
    "```\n",
    "* クラス名の後ろの`()`を忘れないように注意しよう\n",
    "\n",
    "クラスとインスタンスの関係のイメージは、設計図と実体(設計図から生成したもの)に例えられることが多い。"
   ]
  },
  {
   "cell_type": "markdown",
   "id": "8f392faf",
   "metadata": {
    "id": "xo0tRX7lbXpF"
   },
   "source": [
    "【問題】クラス`Pet`を利用してインスタンスの生成を行い、変数`Pochi`に代入しよう。"
   ]
  },
  {
   "cell_type": "code",
   "execution_count": 14,
   "id": "048b6923",
   "metadata": {
    "id": "OUkiym7hbXpF"
   },
   "outputs": [],
   "source": [
    "# 解答例\n",
    "Pochi = Pet()"
   ]
  },
  {
   "cell_type": "markdown",
   "id": "16dde7e4",
   "metadata": {
    "id": "Q4la6dggcOgO"
   },
   "source": [
    "コードを書き終えたら、以下のプログラムを実行して答えの確認をしよう。"
   ]
  },
  {
   "cell_type": "code",
   "execution_count": 15,
   "id": "c68a2342",
   "metadata": {
    "colab": {
     "base_uri": "https://localhost:8080/",
     "height": 35
    },
    "executionInfo": {
     "elapsed": 1665,
     "status": "ok",
     "timestamp": 1594352246170,
     "user": {
      "displayName": "三森馨",
      "photoUrl": "",
      "userId": "00544285628706669870"
     },
     "user_tz": -540
    },
    "id": "TCMJ6nBWcLMu",
    "outputId": "a951321d-5ba0-4a76-b112-c9598eab5217"
   },
   "outputs": [
    {
     "name": "stdout",
     "output_type": "stream",
     "text": [
      "<class '__main__.Pet'>\n"
     ]
    }
   ],
   "source": [
    "print(type(Pochi))"
   ]
  },
  {
   "cell_type": "markdown",
   "id": "ea9ddb13",
   "metadata": {
    "id": "AVK-FaorcLMy"
   },
   "source": [
    "* ```\n",
    "<class '__main__.Pet'>\n",
    "```\n",
    "と表示されたら正解だ！"
   ]
  },
  {
   "cell_type": "markdown",
   "id": "dc4f0ba8",
   "metadata": {},
   "source": [
    "## <補足>自作ライブラリのインポート"
   ]
  },
  {
   "cell_type": "markdown",
   "id": "127918b0",
   "metadata": {},
   "source": [
    "クラスや関数を自作したときに、他のプログラムでもそれらを使い回したい場合がある。\n",
    "\n",
    "その際、毎回コーディングして新たに定義するのはやや面倒くさい。\n",
    "\n",
    "このときライブラリ化しておくと、どこでも使用可能になる。\n",
    "\n",
    "### fukubiki関数をライブラリ化する手順\n",
    "\n",
    "1. 自作したクラスや関数のコードを「main.py」で保存する(.pyファイル)\n",
    "2. それらを使用したいノートブック(.ipynbファイル)と同じ場所に、ライブラリ名のフォルダ「fukubiki」を作成する\n",
    "3. (1)で作成したファイルを「fukubiki」内に置く\n",
    "4. それらを使用したいノートブックで、`import sys`および`sys.path.append(\"./fukubiki\")`を実行する\n",
    "5. `import fukubiki.main`で自作ライブラリを使用できるようになる\n",
    "6. 呼び出し方は`<フォルダ名>.<ファイル名>.<クラス名>` といった形になる\n",
    "\n",
    "以上の手順でFukubikiクラスを呼び出してみよう。"
   ]
  },
  {
   "cell_type": "code",
   "execution_count": 2,
   "id": "2082736a",
   "metadata": {},
   "outputs": [
    {
     "name": "stdout",
     "output_type": "stream",
     "text": [
      "You win! Congratulations!\n",
      "You win! Congratulations!\n",
      "You lose...Sorry...\n",
      "All balls are gone.\n"
     ]
    }
   ],
   "source": [
    "import sys\n",
    "sys.path.append(\"./fukubiki\")\n",
    "import fukubiki.main\n",
    "\n",
    "test = fukubiki.main.Fukubiki(number_of_balls=3, win=2)\n",
    "test.pick_ball(times=3, wait=1)"
   ]
  },
  {
   "cell_type": "code",
   "execution_count": null,
   "id": "600bc9cf",
   "metadata": {},
   "outputs": [],
   "source": []
  }
 ],
 "metadata": {
  "kernelspec": {
   "display_name": "Python 3 (ipykernel)",
   "language": "python",
   "name": "python3"
  },
  "language_info": {
   "codemirror_mode": {
    "name": "ipython",
    "version": 3
   },
   "file_extension": ".py",
   "mimetype": "text/x-python",
   "name": "python",
   "nbconvert_exporter": "python",
   "pygments_lexer": "ipython3",
   "version": "3.10.12"
  },
  "vscode": {
   "interpreter": {
    "hash": "f25b26b4ea7004765cfa1e96cf36e4bfdb1569f2ca834d9e6ec0cf32829ced3d"
   }
  }
 },
 "nbformat": 4,
 "nbformat_minor": 5
}
