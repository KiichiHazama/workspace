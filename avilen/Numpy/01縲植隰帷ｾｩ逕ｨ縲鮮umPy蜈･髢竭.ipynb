{
 "cells": [
  {
   "cell_type": "markdown",
   "id": "bb39fd9d",
   "metadata": {},
   "source": [
    "## NumPy入門1\n",
    "実際にデータをどの様に解析するのかは後々学ぶとして、ここでは機械学習で実際にどんなデータに向き合うことになるのか、またそれをPythonで扱うにはどの様にすればいいのかを学んでいこう。"
   ]
  },
  {
   "cell_type": "markdown",
   "id": "0220a353",
   "metadata": {},
   "source": [
    "### 1. cifar10のインポート\n",
    "__cifar10__では、機械学習での学習に使用できる様な画像データが提供されている。さらにcifar10はkerasというライブラリの中の1つの機能として簡単にPythonで扱える様に整備されている。ただし、ここでcifar10から取り込んだデータセットはただちに学習に使用できる様綺麗に成形された後の一例のもの。実務ではこの様に綺麗なデータとなる様に整形するところから始める必要があることが多い。\n",
    "\n",
    "まずはkerasのdatasetsからcifar10をインポートし、データをダウンロードしよう。"
   ]
  },
  {
   "cell_type": "code",
   "execution_count": null,
   "id": "3bc893b8",
   "metadata": {},
   "outputs": [],
   "source": [
    "from keras.datasets import cifar10\n",
    "\n",
    "(input_train, output_train), (input_test, output_test) = cifar10.load_data()"
   ]
  },
  {
   "cell_type": "markdown",
   "id": "5167cba5",
   "metadata": {},
   "source": [
    "### 2. データセットの構造\n",
    "\n",
    "返り値は`(input_train, output_train)`と`(input_test, output_test)`の2つあり、なぜ2つあるのかは機械学習の内容で学ぶ。\n",
    "\n",
    "それぞれの返り値はさらに2つの要素を持つタプルとなっている。\n",
    "\n",
    "#### データの表示\n",
    "ひとまず`input_train`と`output_train`を表示してみよう。"
   ]
  },
  {
   "cell_type": "code",
   "execution_count": null,
   "id": "8cf61885",
   "metadata": {},
   "outputs": [],
   "source": [
    "print(input_train)"
   ]
  },
  {
   "cell_type": "code",
   "execution_count": null,
   "id": "ae312f2d",
   "metadata": {},
   "outputs": [],
   "source": [
    "print(output_train)"
   ]
  },
  {
   "cell_type": "markdown",
   "id": "c33a2eba",
   "metadata": {},
   "source": [
    "`input_train`も`output_train`も多重構造のリストの様なデータということがわかる。ただし`input_train`の方が構造が複雑。\n",
    "\n",
    "\n",
    "#### データの型\n",
    "データの型も調べておこう。データ型はどの様にして調べることができただろうか。"
   ]
  },
  {
   "cell_type": "code",
   "execution_count": null,
   "id": "9e96e2a8",
   "metadata": {},
   "outputs": [],
   "source": [
    "print(type(input_train))\n",
    "print(type(output_train))"
   ]
  },
  {
   "cell_type": "markdown",
   "id": "18b6edee",
   "metadata": {},
   "source": [
    "listに似ているがlistではない様だ！\n",
    "`numpy.ndarray`とは何だろう？\n",
    "\n",
    "#### numpy.ndarray\n",
    "実はこのデータ型は、numpyというライブラリに用意されたデータ型で、この様な多重構造を扱うのに非常に便利なnumpy arrayと呼ばれるクラス。ここでは単にarrayやarray型などと表記する。\n",
    "\n",
    "次からは、実際にデータがどの様な構造をしているのかarrayの機能を用いて見ていこう。\n",
    "\n",
    "#### 改めてデータセットの構造を確認しよう\n",
    "とはいえ、膨大なデータ量なので全てを見るわけにはいかない。実際、見ても理解できない。\n",
    "そんなときに使えるのは`shape`というarrayのメンバ変数。ここに、arrayのデータ構造が格納されている。"
   ]
  },
  {
   "cell_type": "code",
   "execution_count": null,
   "id": "cfc24081",
   "metadata": {},
   "outputs": [],
   "source": [
    "print(input_train.shape)\n",
    "print(output_train.shape)"
   ]
  },
  {
   "cell_type": "markdown",
   "id": "1260c4b7",
   "metadata": {},
   "source": [
    "例えば(50000, 1)は50000行1列の行列を表している。\n",
    "\n",
    "この結果から、`input_train`は(50000, 32, 32, 3)の要素数を持つ4階のテンソル、`output_train`は(50000, 1)の要素数を持つ2階のテンソル(行列)であることがわかる。"
   ]
  },
  {
   "cell_type": "markdown",
   "id": "4086089f",
   "metadata": {},
   "source": [
    "### 3. データの詳細\n",
    "\n",
    "\n",
    "`input_train`は`[0, 0, 0]`の様に3次元のベクトルデータが32×32で並んでいるデータがあり、それが50000個存在している。\n",
    "\n",
    "これは解像度が32×32ピクセルのカラー画像が50000個あるというデータである。\n",
    "\n",
    "\n",
    "一方で`output_train`は`[0]`の様に1次元のベクトル(スカラー)が50000個存在している。\n",
    "\n",
    "これは画像に写っているもののラベルを数値で表したものが50000個というデータである。\n",
    "\n",
    "機械学習では、この様にラベルは文字列ではなく数値データに変換して扱うことでコンピュータでも解析しやすくしている。なお、各数値に対応するラベルは以下の様になる。\n",
    "\n",
    "- 0: airplane（飛行機）\n",
    "- 1: automobile（自動車）\n",
    "- 2: bird（鳥）\n",
    "- 3: cat（猫）\n",
    "- 4: deer（鹿）\n",
    "- 5: dog（犬）\n",
    "- 6: frog（カエル）\n",
    "- 7: horse（馬）\n",
    "- 8: ship（船）\n",
    "- 9: truck（トラック）\n",
    "\n",
    "本題からは外れるが、ここでダウンロードした画像の一部を表示してみよう。なお、ここで必要なMatplotlibというライブラリは可視化で詳しく学ぶこととなる。\n",
    "\n",
    "下記の`data_num`に0~49999のうち好きな数字を入れて確認してみよう。"
   ]
  },
  {
   "cell_type": "code",
   "execution_count": null,
   "id": "6ba1d1ef",
   "metadata": {},
   "outputs": [],
   "source": [
    "from matplotlib import pyplot as plt\n",
    "\n",
    "data_num = 0\n",
    "data_labels = [\"airplane\", \"automobile\", \"bird\", \"cat\", \"deer\", \"dog\", \"frog\", \"horse\", \"ship\", \"truck\"]\n",
    "\n",
    "print(\"This picture's label is {0}.\".format(data_labels[output_train[data_num][0]]))\n",
    "plt.imshow(input_train[data_num])"
   ]
  },
  {
   "cell_type": "code",
   "execution_count": null,
   "id": "d40d1bee",
   "metadata": {},
   "outputs": [],
   "source": []
  }
 ],
 "metadata": {
  "kernelspec": {
   "display_name": "Python 3 (ipykernel)",
   "language": "python",
   "name": "python3"
  },
  "language_info": {
   "codemirror_mode": {
    "name": "ipython",
    "version": 3
   },
   "file_extension": ".py",
   "mimetype": "text/x-python",
   "name": "python",
   "nbconvert_exporter": "python",
   "pygments_lexer": "ipython3",
   "version": "3.10.12"
  },
  "vscode": {
   "interpreter": {
    "hash": "aee8b7b246df8f9039afb4144a1f6fd8d2ca17a180786b69acc140d282b71a49"
   }
  }
 },
 "nbformat": 4,
 "nbformat_minor": 5
}
