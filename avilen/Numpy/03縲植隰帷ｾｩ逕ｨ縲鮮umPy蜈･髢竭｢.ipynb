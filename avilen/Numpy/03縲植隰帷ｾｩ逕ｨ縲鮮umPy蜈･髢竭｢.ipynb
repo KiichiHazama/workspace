{
 "cells": [
  {
   "cell_type": "markdown",
   "id": "e0760c42",
   "metadata": {},
   "source": [
    "## NumPy入門3\n",
    "NumPy内に用意されたarrayについてこれまでは基本的な演算やデータの取り扱いについて学んできた。ここからは、発展的な内容として、arrayで重要となるブロードキャストという機能や、数学、線形代数と対応した演算を見ていこう。\n",
    "\n",
    "まずはNumPyをインポートしよう。"
   ]
  },
  {
   "cell_type": "code",
   "execution_count": null,
   "id": "8568036c",
   "metadata": {},
   "outputs": [],
   "source": [
    "import numpy as np"
   ]
  },
  {
   "cell_type": "markdown",
   "id": "c4ad7371",
   "metadata": {},
   "source": [
    "### 1. ブロードキャスト\n",
    "例えば以下の様に構造の違う2つのarrayを用意。"
   ]
  },
  {
   "cell_type": "code",
   "execution_count": null,
   "id": "1853a8c1",
   "metadata": {},
   "outputs": [],
   "source": [
    "a3 = np.array([1, 2, 3])\n",
    "a3_3 = np.array([[1, 2, 3], [1, 2, 3], [1, 2, 3]])\n",
    "print(a3.shape)\n",
    "print(a3_3.shape)"
   ]
  },
  {
   "cell_type": "markdown",
   "id": "4fa02d9a",
   "metadata": {},
   "source": [
    "線形代数では、この様な構造の違う行列やベクトルの和や差は計算できない。では、この2つのarrayはどうだろう？"
   ]
  },
  {
   "cell_type": "code",
   "execution_count": null,
   "id": "359be999",
   "metadata": {},
   "outputs": [],
   "source": [
    "print(a3)\n",
    "print(a3_3)\n",
    "print(a3 + a3_3)"
   ]
  },
  {
   "cell_type": "markdown",
   "id": "3edb9e9a",
   "metadata": {},
   "source": [
    "できた！\n",
    "\n",
    "NumPyは構造の違うarrayどうしを計算しようとした際、自動で調整して計算してくれる。この様な機能を __ブロードキャスト__ という。\n",
    "もちろんこれは、加算乗除全てで可能だ。\n",
    "\n",
    "では、arrayではどの様な計算ができて、どの様な計算ができないのか確かめておこう。"
   ]
  },
  {
   "cell_type": "code",
   "execution_count": null,
   "id": "d0b3e894",
   "metadata": {},
   "outputs": [],
   "source": [
    "a1 = np.array([1])\n",
    "a4 = np.array([1, 2, 3, 4])\n",
    "a3_4 = np.array( [[1, 2, 3, 4], [1, 2, 3, 4], [1, 2, 3, 4]] )\n",
    "a3_1 = np.array( [[1], [1], [1]] )"
   ]
  },
  {
   "cell_type": "markdown",
   "id": "44f4e07c",
   "metadata": {},
   "source": [
    "これらの色々な組み合わせで計算してみて、計算が可能か確かめてみよう。"
   ]
  },
  {
   "cell_type": "code",
   "execution_count": null,
   "id": "2d61d380",
   "metadata": {},
   "outputs": [],
   "source": [
    "print(a4)\n",
    "print(a3)\n",
    "print(a4 + a3)"
   ]
  },
  {
   "cell_type": "markdown",
   "id": "a805e464",
   "metadata": {},
   "source": [
    "これは計算できない。\n",
    "\n",
    "同じ階数でも、次元が違う計算はできないみたいだ。もちろんこの様な場合もできない。"
   ]
  },
  {
   "cell_type": "code",
   "execution_count": null,
   "id": "812bf41f",
   "metadata": {},
   "outputs": [],
   "source": [
    "print(a3_3)\n",
    "print(a3_4)\n",
    "print(a3_3 + a3_4)"
   ]
  },
  {
   "cell_type": "markdown",
   "id": "fa2f7a05",
   "metadata": {},
   "source": [
    "ただし例外がある。一次元のデータは、次元が大きい方のデータに合わせて全てが同じ値のデータに修正して計算してくれる様だ。\n",
    "\n",
    "例えば以下の場合、1次元データの方が __全ての要素が1のデータに修正されて計算されている。__"
   ]
  },
  {
   "cell_type": "code",
   "execution_count": null,
   "id": "a1e6793a",
   "metadata": {},
   "outputs": [],
   "source": [
    "print(a1)\n",
    "print(a3)\n",
    "print(a1 + a3)"
   ]
  },
  {
   "cell_type": "markdown",
   "id": "cc89514f",
   "metadata": {},
   "source": [
    "先ほど(3,3) と(3,)の和は計算できていたが、(3,4)と(3,)の和は計算できない。"
   ]
  },
  {
   "cell_type": "code",
   "execution_count": null,
   "id": "f89bafeb",
   "metadata": {},
   "outputs": [],
   "source": [
    "print(a3_4)\n",
    "print(a3)\n",
    "print(a3_4 + a3)"
   ]
  },
  {
   "cell_type": "markdown",
   "id": "113715be",
   "metadata": {},
   "source": [
    "(3,4)と(4,)の和にすれば計算が可能となる。"
   ]
  },
  {
   "cell_type": "code",
   "execution_count": null,
   "id": "7efa3220",
   "metadata": {},
   "outputs": [],
   "source": [
    "print(a3_4)\n",
    "print(a4)\n",
    "print(a3_4 + a4)"
   ]
  },
  {
   "cell_type": "markdown",
   "id": "5f07fbbb",
   "metadata": {},
   "source": [
    "このように階数の異なるarray同士の演算の場合、「より後ろにある軸の要素数が一致している場合」に計算が可能となる、つまり「前の方にある軸を補うようにブロードキャストが行われる」"
   ]
  },
  {
   "cell_type": "code",
   "execution_count": null,
   "id": "fdd55c9e",
   "metadata": {},
   "outputs": [],
   "source": [
    "print(np.zeros((2,3,4,5)) + np.zeros((4,5)))\n",
    "print(np.zeros((2,3,4,5)) + np.zeros((2,3,4)))"
   ]
  },
  {
   "cell_type": "markdown",
   "id": "ab95d474",
   "metadata": {},
   "source": [
    "#### ブロードキャストの性質まとめ\n",
    "\n",
    "- 階数(ndimの値)があっていない場合\n",
    "  - 後ろの軸の要素数が一致している場合は自動で同じ要素を繋げ大きい方に合わせられる\n",
    "  - 後ろの軸の要素数が一致していない場合は計算できない\n",
    "- 階数があっていても(いなくても)、各次元のサイズ(shapeの値)があっていなければ計算できない\n",
    "- ただし例外的に、`[1]`や`[[1], [1]]`の様に次元が1の場合は同じ要素を繰り返すことで要素数を自動で合わせられる\n",
    "\n",
    "__あとは、思いつく限り色々なデータを作成して計算してみて、ブロードキャストの感覚を掴んでおこう。__"
   ]
  },
  {
   "cell_type": "markdown",
   "id": "68e4da04",
   "metadata": {},
   "source": [
    "### 2. 数学とNumPy\n",
    "数学で学んだ様々な計算について、NumPyでどの様にできるのかも確かめておこう。NumPyはこの様な計算をするにも非常に便利なのである。\n",
    "\n",
    "#### べき乗とルート\n",
    "これはPythonの標準機能でも`**`で計算できるが、NumPyでも以下の様な機能が提供されている。"
   ]
  },
  {
   "cell_type": "code",
   "execution_count": null,
   "id": "4dafe802",
   "metadata": {},
   "outputs": [],
   "source": [
    "#10の2乗\n",
    "print(np.power(10, 2))\n",
    "\n",
    "#100の1/2乗\n",
    "print(np.power(100, 1/2))\n",
    "\n",
    "#100のルート\n",
    "print(np.sqrt(100))"
   ]
  },
  {
   "cell_type": "markdown",
   "id": "24881568",
   "metadata": {},
   "source": [
    "#### 数学に登場する様々な定数\n",
    "数学では様々な定数が登場した。NumPyではその定数も提供されているため、手入力で実装する必要がない。"
   ]
  },
  {
   "cell_type": "code",
   "execution_count": null,
   "id": "658c4b83",
   "metadata": {},
   "outputs": [],
   "source": [
    "#円周率\n",
    "print(np.pi)\n",
    "\n",
    "#自然対数の底\n",
    "print(np.e)"
   ]
  },
  {
   "cell_type": "markdown",
   "id": "acc88dbc",
   "metadata": {},
   "source": [
    "#### 三角関数\n",
    "様々な三角関数を計算する機能も以下の様に提供されている。ここでは紹介しきれないが、他にも様々な関数が用意されているので調べてみてほしい。"
   ]
  },
  {
   "cell_type": "code",
   "execution_count": null,
   "id": "cd7c39ec",
   "metadata": {},
   "outputs": [],
   "source": [
    "#sin\n",
    "print(np.sin(np.pi/2))\n",
    "\n",
    "#cos\n",
    "print(np.cos(np.pi))\n",
    "\n",
    "#tan\n",
    "print(np.tan(np.pi))\n",
    "\n",
    "#arcsin (sinの逆関数)\n",
    "print(np.arcsin(0))\n",
    "\n",
    "#arccos (cosの逆関数)\n",
    "print(np.arccos(0))\n",
    "\n",
    "#arctan (tacの逆関数)\n",
    "print(np.arctan(0))"
   ]
  },
  {
   "cell_type": "markdown",
   "id": "9d1fdcab",
   "metadata": {},
   "source": [
    "ただし、これらの計算はあくまでコンピュータ内でアルゴリズムを用いて近似的に計算されるため誤差が生じる。0となるべき値が0ではなくe-16などと非常に小さい値となっていることがわかる。\n",
    "\n",
    "#### ランダム\n",
    "乱数を出力する機能はrandomモジュールにもあったが、NumPyにも便利な機能が提供されている。\n",
    "\n",
    "以下の様に`random.rand`を用いれば、要素が全て0~1の乱数である指定した構造のarrayが生成できる。ここでは2行3列のarrayを生成した。"
   ]
  },
  {
   "cell_type": "code",
   "execution_count": null,
   "id": "2b12f01e",
   "metadata": {},
   "outputs": [],
   "source": [
    "rand_data = np.random.rand(2, 3)\n",
    "\n",
    "print(rand_data)"
   ]
  },
  {
   "cell_type": "markdown",
   "id": "7b30b1c1",
   "metadata": {},
   "source": [
    "### 3. 線形代数とNumPy\n",
    "NumPyが提供するarrayは、様々なデータを表現できる。そのデータはベクトルや行列を含むテンソルとして、多重な構造を扱うのにも便利である。\n",
    "\n",
    "では、線形代数で学んだ様々な計算をarrayで実施するにはどの様にすればいいのか、ここで見ておこう。ここを理解すれば、線形代数で学んだ様々な計算をコンピュータで自動化できる。複雑で数の多い計算も正確に素早く実行することができる。\n",
    "\n",
    "#### 単位行列\n",
    "NumPyに用意された`identity()`という関数は、引数で指定したサイズの単位行列を返す。\n",
    "\n",
    "以下では3行3列の単位行列を作成してみる。"
   ]
  },
  {
   "cell_type": "code",
   "execution_count": null,
   "id": "93427854",
   "metadata": {},
   "outputs": [],
   "source": [
    "mat_id = np.identity(3)\n",
    "\n",
    "print(mat_id)"
   ]
  },
  {
   "cell_type": "markdown",
   "id": "6dbfcdaa",
   "metadata": {},
   "source": [
    "#### 行列と積\n",
    "arrayで表現した行列は、単に`*`を用いると要素積となる。\n",
    "\n",
    "以下の計算を見ると行列積ではなく要素積となっていることがわかる。"
   ]
  },
  {
   "cell_type": "code",
   "execution_count": null,
   "id": "3f62aa70",
   "metadata": {},
   "outputs": [],
   "source": [
    "mat1 = np.array([[1, 2, 3], [4, 5, 6], [7, 8, 9]])\n",
    "\n",
    "print(mat1 * mat_id)"
   ]
  },
  {
   "cell_type": "markdown",
   "id": "fa7e47a5",
   "metadata": {},
   "source": [
    "べき乗の計算も同じく要素ごとのべき乗である。\n",
    "\n",
    "これは`**`というPython標準の記法を用いても、`np.power()`を用いても同じである。"
   ]
  },
  {
   "cell_type": "code",
   "execution_count": null,
   "id": "931d8854",
   "metadata": {},
   "outputs": [],
   "source": [
    "print(mat1 **2)\n",
    "print(np.power(mat1, 2))"
   ]
  },
  {
   "cell_type": "markdown",
   "id": "619cdf4a",
   "metadata": {},
   "source": [
    "ベクトルの内積や行列積を計算するためには`dot()`という関数を使う。\n",
    "\n",
    "引数には、かける順番で入力する。"
   ]
  },
  {
   "cell_type": "code",
   "execution_count": null,
   "id": "5c481b04",
   "metadata": {},
   "outputs": [],
   "source": [
    "print(np.dot(mat1, mat_id))"
   ]
  },
  {
   "cell_type": "code",
   "execution_count": null,
   "id": "3e28f09f",
   "metadata": {},
   "outputs": [],
   "source": [
    "vec1 = np.array([1,2,3])\n",
    "vec2 = np.array([3,4,5])\n",
    "\n",
    "print(np.dot(vec1, vec2))"
   ]
  },
  {
   "cell_type": "markdown",
   "id": "ae1afab8",
   "metadata": {},
   "source": [
    "ベクトルの内積は`np.inner()`でも行える。また、`dot()`の代わりに`matmul()`を利用してもよい"
   ]
  },
  {
   "cell_type": "code",
   "execution_count": null,
   "id": "d9726dac",
   "metadata": {},
   "outputs": [],
   "source": [
    "print(np.inner(vec1, vec2))"
   ]
  },
  {
   "cell_type": "markdown",
   "id": "176ff4b7",
   "metadata": {},
   "source": [
    "#### 行列の転置\n",
    "行列の転置を計算する方法は以下の3つある。計算結果は全て同じなので、使いやすいものを使うといい。"
   ]
  },
  {
   "cell_type": "code",
   "execution_count": null,
   "id": "c460073c",
   "metadata": {},
   "outputs": [],
   "source": [
    "print(mat1.T)"
   ]
  },
  {
   "cell_type": "code",
   "execution_count": null,
   "id": "8f3c9572",
   "metadata": {},
   "outputs": [],
   "source": [
    "print(mat1.transpose())"
   ]
  },
  {
   "cell_type": "code",
   "execution_count": null,
   "id": "cde7b782",
   "metadata": {},
   "outputs": [],
   "source": [
    "print(np.transpose(mat1))"
   ]
  },
  {
   "cell_type": "markdown",
   "id": "2a45e2f1",
   "metadata": {},
   "source": [
    "#### ノルム\n",
    "ノルムの計算は`linalg.norm()`を使用すればいい。ただし、ノルムの種類は`ord`という引数で指定する。\n",
    "\n",
    "例えば以下は、`vec1`について順にL1ノルム、L2ノルム、L3ノルムである。"
   ]
  },
  {
   "cell_type": "code",
   "execution_count": null,
   "id": "31baff91",
   "metadata": {},
   "outputs": [],
   "source": [
    "print(np.linalg.norm(vec1, ord=1))\n",
    "print(np.linalg.norm(vec1, ord=2))\n",
    "print(np.linalg.norm(vec1, ord=3))"
   ]
  },
  {
   "cell_type": "markdown",
   "id": "584118a4",
   "metadata": {},
   "source": [
    "行列についても同様にノルムを計算できる。"
   ]
  },
  {
   "cell_type": "code",
   "execution_count": null,
   "id": "442d0976",
   "metadata": {},
   "outputs": [],
   "source": [
    "print(np.linalg.norm(mat1, ord=2))"
   ]
  },
  {
   "cell_type": "markdown",
   "id": "cb80a14d",
   "metadata": {},
   "source": [
    "ちなみに、各要素の絶対値をarrayで返す`abs()`と全ての要素をたす`sum()`等を用いて以下の様に計算することもできる。"
   ]
  },
  {
   "cell_type": "code",
   "execution_count": null,
   "id": "c6cffd48",
   "metadata": {},
   "outputs": [],
   "source": [
    "print(np.sum(np.abs(vec1)))\n",
    "print(np.sqrt(np.sum(np.abs(vec1**2))))\n",
    "print(np.power(np.sum(np.abs(vec1**3)), 1/3))"
   ]
  },
  {
   "cell_type": "markdown",
   "id": "f03e9144",
   "metadata": {},
   "source": [
    "## 最後に\n",
    "ここまでで紹介したarrayやNumPyの様々な機能は頻出なものの一部である。他にも便利な機能がたくさんあるので、「こういうことができないのかな？」と思った際に積極的に調べてみるのが今後の学習を加速させるために非常に重要となる。\n",
    "\n",
    "また、ここで紹介した内容についても知識としてだけではなく自身でも手を動かし、色々なパターンでarrayを作成して計算して感覚を掴んでいこう。"
   ]
  }
 ],
 "metadata": {
  "kernelspec": {
   "display_name": "Python 3 (ipykernel)",
   "language": "python",
   "name": "python3"
  },
  "language_info": {
   "codemirror_mode": {
    "name": "ipython",
    "version": 3
   },
   "file_extension": ".py",
   "mimetype": "text/x-python",
   "name": "python",
   "nbconvert_exporter": "python",
   "pygments_lexer": "ipython3",
   "version": "3.10.12"
  },
  "vscode": {
   "interpreter": {
    "hash": "aee8b7b246df8f9039afb4144a1f6fd8d2ca17a180786b69acc140d282b71a49"
   }
  }
 },
 "nbformat": 4,
 "nbformat_minor": 5
}
