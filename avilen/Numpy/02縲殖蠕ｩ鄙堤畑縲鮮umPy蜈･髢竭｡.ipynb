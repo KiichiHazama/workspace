{
 "cells": [
  {
   "cell_type": "markdown",
   "id": "7288830d",
   "metadata": {},
   "source": [
    "## NumPy入門2\n",
    "cifar10でダウンロードしたデータはNumPy内のarrayというデータで表現した画像データとそれぞれのラベルだった。\n",
    "この様な複雑なデータの表現や扱いをするのにこのNumPyは非常に便利だ。\n",
    "\n",
    "そのNumPyについて詳しく学んでいこう。\n",
    "\n",
    "### 1. NumPyのインポート\n",
    "以下でNumPyをインポートしよう。一般的にNumPyは、as構文を用いて`np`と省略される。"
   ]
  },
  {
   "cell_type": "code",
   "execution_count": 1,
   "id": "d905b5e3",
   "metadata": {},
   "outputs": [],
   "source": [
    "import numpy as np"
   ]
  },
  {
   "cell_type": "markdown",
   "id": "54829024",
   "metadata": {},
   "source": [
    "### 2. リストをarrayに変換しよう\n",
    "以下の様なコードでリストを簡単にarrayに変換できる。"
   ]
  },
  {
   "cell_type": "code",
   "execution_count": 2,
   "id": "2064374d",
   "metadata": {},
   "outputs": [],
   "source": [
    "data = np.array([[1, 2, 3], [3, 4, 5], [6, 7, 8]])"
   ]
  },
  {
   "cell_type": "code",
   "execution_count": 3,
   "id": "2c49f541",
   "metadata": {},
   "outputs": [
    {
     "name": "stdout",
     "output_type": "stream",
     "text": [
      "[[1 2 3]\n",
      " [3 4 5]\n",
      " [6 7 8]]\n",
      "(3, 3)\n"
     ]
    }
   ],
   "source": [
    "print(data)\n",
    "print(data.shape)"
   ]
  },
  {
   "cell_type": "markdown",
   "id": "d140ed19",
   "metadata": {},
   "source": [
    "### 3. 事前に準備されているarray\n",
    "以下の様に、NumPyには事前に用意されている標準的なarrayもある。\n",
    "\n",
    "データの構造(shape)はタプルで指定する。"
   ]
  },
  {
   "cell_type": "code",
   "execution_count": 4,
   "id": "7c6889a4",
   "metadata": {},
   "outputs": [
    {
     "name": "stdout",
     "output_type": "stream",
     "text": [
      "[0. 0. 0.]\n",
      "[1. 1. 1.]\n"
     ]
    }
   ],
   "source": [
    "zero1 = np.zeros((3))\n",
    "ones1 = np.ones((3))\n",
    "\n",
    "print(zero1)\n",
    "print(ones1)"
   ]
  },
  {
   "cell_type": "code",
   "execution_count": 6,
   "id": "c335ff12",
   "metadata": {},
   "outputs": [
    {
     "name": "stdout",
     "output_type": "stream",
     "text": [
      "[[0. 0. 0.]\n",
      " [0. 0. 0.]\n",
      " [0. 0. 0.]]\n",
      "[[1. 1. 1.]\n",
      " [1. 1. 1.]\n",
      " [1. 1. 1.]]\n"
     ]
    }
   ],
   "source": [
    "zero2 = np.zeros((3,3))\n",
    "ones2 = np.ones((3,3))\n",
    "\n",
    "print(zero2)\n",
    "print(ones2)"
   ]
  },
  {
   "cell_type": "markdown",
   "id": "2f06d0c6",
   "metadata": {},
   "source": [
    "### 4. データセットを取り込もう\n",
    "NumPyには保存したデータをarrayの形式に取り込める`loadtxt()`という関数が用意されている。これを用いて、データをarrayに取り込もう。\n",
    "\n",
    "なお、ここで用意したデータは応用編で使用した成績データの文字列部分を削除したものである。それぞれの人ごとに、テストの点数が国語、数学、理科、社会、英語の順で並んでいる。"
   ]
  },
  {
   "cell_type": "code",
   "execution_count": 7,
   "id": "6115e4dd",
   "metadata": {},
   "outputs": [
    {
     "name": "stdout",
     "output_type": "stream",
     "text": [
      "[[86. 54. 63. 74. 90.]\n",
      " [65. 89. 91. 67. 75.]\n",
      " [67. 58. 79. 86. 60.]\n",
      " [74. 68. 97. 67. 94.]\n",
      " [70. 95. 89. 76. 85.]\n",
      " [92. 67. 69. 89. 84.]\n",
      " [76. 54. 61. 78. 86.]\n",
      " [57. 48. 65. 70. 64.]\n",
      " [90. 86. 81. 79. 92.]\n",
      " [87. 91. 65. 70. 83.]]\n"
     ]
    }
   ],
   "source": [
    "data = np.loadtxt('./test_score_array1.csv', delimiter=',')\n",
    "print(data)"
   ]
  },
  {
   "cell_type": "markdown",
   "id": "bc70d5a3",
   "metadata": {},
   "source": [
    "`86.`のように小数点がついているが、これはfloat型として読み込まれていることを表している。\n",
    "\n",
    "arrayの要素の型はメンバ変数`dtype`で確認できる。"
   ]
  },
  {
   "cell_type": "code",
   "execution_count": 8,
   "id": "46f3545c",
   "metadata": {},
   "outputs": [
    {
     "name": "stdout",
     "output_type": "stream",
     "text": [
      "<class 'numpy.ndarray'>\n",
      "float64\n"
     ]
    }
   ],
   "source": [
    "print(type(data))\n",
    "print(data.dtype)"
   ]
  },
  {
   "cell_type": "markdown",
   "id": "ce7f0be0",
   "metadata": {},
   "source": [
    "int型にして読み込むには以下の様にする。"
   ]
  },
  {
   "cell_type": "code",
   "execution_count": 9,
   "id": "53e8758c",
   "metadata": {},
   "outputs": [
    {
     "name": "stdout",
     "output_type": "stream",
     "text": [
      "[[86 54 63 74 90]\n",
      " [65 89 91 67 75]\n",
      " [67 58 79 86 60]\n",
      " [74 68 97 67 94]\n",
      " [70 95 89 76 85]\n",
      " [92 67 69 89 84]\n",
      " [76 54 61 78 86]\n",
      " [57 48 65 70 64]\n",
      " [90 86 81 79 92]\n",
      " [87 91 65 70 83]]\n",
      "int64\n"
     ]
    }
   ],
   "source": [
    "data = np.loadtxt('./test_score_array1.csv', delimiter=',', dtype='int64')\n",
    "print(data)\n",
    "print(data.dtype)"
   ]
  },
  {
   "cell_type": "markdown",
   "id": "32b1c1d2",
   "metadata": {},
   "source": [
    "### 5. データの構造を確かめよう\n",
    "メンバ変数`shape`を用いてデータの構造を確かめてみると、これは10行5列の行列であることがわかる。"
   ]
  },
  {
   "cell_type": "code",
   "execution_count": 10,
   "id": "02883731",
   "metadata": {},
   "outputs": [
    {
     "name": "stdout",
     "output_type": "stream",
     "text": [
      "(10, 5)\n"
     ]
    }
   ],
   "source": [
    "print(data.shape)"
   ]
  },
  {
   "cell_type": "markdown",
   "id": "5dfd360b",
   "metadata": {},
   "source": [
    "この様にして、excel等を用いてcsvを開くことなくデータの外観をつかむことができる。また、この様に一度Pythonのデータとして取り込むことで元データに変更を加えることなく取り扱うことができる。\n",
    "\n",
    "また、メンバ変数`ndim`を用いることでこのデータのを表すテンソルの階数を調べることができる。"
   ]
  },
  {
   "cell_type": "code",
   "execution_count": 11,
   "id": "abd56ea1",
   "metadata": {},
   "outputs": [
    {
     "name": "stdout",
     "output_type": "stream",
     "text": [
      "2\n"
     ]
    }
   ],
   "source": [
    "print(data.ndim)"
   ]
  },
  {
   "cell_type": "markdown",
   "id": "6c3209aa",
   "metadata": {},
   "source": [
    "### 6. データの構造を変換しよう\n",
    "`reshape()`というメソッドを用いるとデータの構造を変換することができる。例えばこの10行5列の行列を50次元のベクトルに変換してみよう。構造の指定には、`shape`などの返り値と同じタプルを用いる。"
   ]
  },
  {
   "cell_type": "code",
   "execution_count": 12,
   "id": "3810c7e9",
   "metadata": {},
   "outputs": [
    {
     "name": "stdout",
     "output_type": "stream",
     "text": [
      "[86 54 63 74 90 65 89 91 67 75 67 58 79 86 60 74 68 97 67 94 70 95 89 76\n",
      " 85 92 67 69 89 84 76 54 61 78 86 57 48 65 70 64 90 86 81 79 92 87 91 65\n",
      " 70 83]\n"
     ]
    }
   ],
   "source": [
    "print(data.reshape(50))"
   ]
  },
  {
   "cell_type": "code",
   "execution_count": 15,
   "id": "b012b01e",
   "metadata": {},
   "outputs": [
    {
     "name": "stdout",
     "output_type": "stream",
     "text": [
      "[[[86 54 63 74 90]\n",
      "  [65 89 91 67 75]\n",
      "  [67 58 79 86 60]\n",
      "  [74 68 97 67 94]\n",
      "  [70 95 89 76 85]]\n",
      "\n",
      " [[92 67 69 89 84]\n",
      "  [76 54 61 78 86]\n",
      "  [57 48 65 70 64]\n",
      "  [90 86 81 79 92]\n",
      "  [87 91 65 70 83]]]\n",
      "[[[86 54 63 74 90]\n",
      "  [65 89 91 67 75]\n",
      "  [67 58 79 86 60]\n",
      "  [74 68 97 67 94]\n",
      "  [70 95 89 76 85]]\n",
      "\n",
      " [[92 67 69 89 84]\n",
      "  [76 54 61 78 86]\n",
      "  [57 48 65 70 64]\n",
      "  [90 86 81 79 92]\n",
      "  [87 91 65 70 83]]]\n"
     ]
    }
   ],
   "source": [
    "print(data.reshape((2, 5, 5)))\n",
    "print(data.reshape((2, 5, -1)))"
   ]
  },
  {
   "cell_type": "markdown",
   "id": "c67c5f14",
   "metadata": {},
   "source": [
    "ここで、このメソッドは元のデータを変換しているわけではなく、変換したデータを返しているだけなので、元のデータは影響を受けていない。"
   ]
  },
  {
   "cell_type": "code",
   "execution_count": 14,
   "id": "71787100",
   "metadata": {},
   "outputs": [
    {
     "name": "stdout",
     "output_type": "stream",
     "text": [
      "[[86 54 63 74 90]\n",
      " [65 89 91 67 75]\n",
      " [67 58 79 86 60]\n",
      " [74 68 97 67 94]\n",
      " [70 95 89 76 85]\n",
      " [92 67 69 89 84]\n",
      " [76 54 61 78 86]\n",
      " [57 48 65 70 64]\n",
      " [90 86 81 79 92]\n",
      " [87 91 65 70 83]]\n"
     ]
    }
   ],
   "source": [
    "print(data)"
   ]
  },
  {
   "cell_type": "markdown",
   "id": "81730f8f",
   "metadata": {},
   "source": [
    "変換後のデータを使用する場合は返り値を変数に格納する必要がある。\n",
    "\n",
    "この様に、データを加工するために用意されたメソッドには元のデータを変更するものと、変更したものを返すだけのものが存在する。\n",
    "\n",
    "この違いは意識しておく必要がある。"
   ]
  },
  {
   "cell_type": "code",
   "execution_count": 16,
   "id": "4630aaaa",
   "metadata": {},
   "outputs": [
    {
     "name": "stdout",
     "output_type": "stream",
     "text": [
      "[86 54 63 74 90 65 89 91 67 75 67 58 79 86 60 74 68 97 67 94 70 95 89 76\n",
      " 85 92 67 69 89 84 76 54 61 78 86 57 48 65 70 64 90 86 81 79 92 87 91 65\n",
      " 70 83]\n"
     ]
    }
   ],
   "source": [
    "data_vec = data.reshape((50))\n",
    "print(data_vec)"
   ]
  },
  {
   "cell_type": "markdown",
   "id": "1a3e3cf1",
   "metadata": {},
   "source": [
    "### 7. 要素の参照\n",
    "`data`の要素をいろいろな方法で参照してみよう。\n",
    "\n",
    "#### 3人目の人の英語（5番目）は何点？"
   ]
  },
  {
   "cell_type": "code",
   "execution_count": 17,
   "id": "ffee0e3e",
   "metadata": {},
   "outputs": [
    {
     "name": "stdout",
     "output_type": "stream",
     "text": [
      "60\n"
     ]
    }
   ],
   "source": [
    "print(data[2, 4])"
   ]
  },
  {
   "cell_type": "markdown",
   "id": "13b7c9b9",
   "metadata": {},
   "source": [
    "#### 4人目の人の全教科の点数を調べよう"
   ]
  },
  {
   "cell_type": "code",
   "execution_count": 18,
   "id": "540771fe",
   "metadata": {},
   "outputs": [
    {
     "name": "stdout",
     "output_type": "stream",
     "text": [
      "[74 68 97 67 94]\n"
     ]
    }
   ],
   "source": [
    "print(data[3,:])"
   ]
  },
  {
   "cell_type": "markdown",
   "id": "a9e19a03",
   "metadata": {},
   "source": [
    "この様に、その階の全データを参照する際は`:`を用いる。\n",
    "\n",
    "使いかたとしてはリストに対するスライス記法と同じである。"
   ]
  },
  {
   "cell_type": "code",
   "execution_count": 19,
   "id": "c97af400",
   "metadata": {},
   "outputs": [
    {
     "name": "stdout",
     "output_type": "stream",
     "text": [
      "[97 67 94]\n"
     ]
    }
   ],
   "source": [
    "print(data[3,2:])"
   ]
  },
  {
   "cell_type": "markdown",
   "id": "c0c00eab",
   "metadata": {},
   "source": [
    "#### 数学（2番目）の全員の点数分布を見てみよう\n",
    "\n",
    "考え方は全く同じとなる。"
   ]
  },
  {
   "cell_type": "code",
   "execution_count": 20,
   "id": "186843f4",
   "metadata": {},
   "outputs": [
    {
     "name": "stdout",
     "output_type": "stream",
     "text": [
      "[54 89 58 68 95 67 54 48 86 91]\n"
     ]
    }
   ],
   "source": [
    "print(data[:,1])"
   ]
  },
  {
   "cell_type": "markdown",
   "id": "6b5cc897",
   "metadata": {},
   "source": [
    "#### それでは、国語（1番目）と数学（2番目）についても点数の分布を見てみよう。"
   ]
  },
  {
   "cell_type": "code",
   "execution_count": 21,
   "id": "f8ef3b46",
   "metadata": {},
   "outputs": [
    {
     "name": "stdout",
     "output_type": "stream",
     "text": [
      "[[86 54]\n",
      " [65 89]\n",
      " [67 58]\n",
      " [74 68]\n",
      " [70 95]\n",
      " [92 67]\n",
      " [76 54]\n",
      " [57 48]\n",
      " [90 86]\n",
      " [87 91]]\n"
     ]
    }
   ],
   "source": [
    "print(data[:,:2])"
   ]
  },
  {
   "cell_type": "markdown",
   "id": "872550fa",
   "metadata": {},
   "source": [
    "### ８. 各要素の編集、演算\n",
    "arrayの各要素で演算をしたい場合、どの様にすればいいか学んでいこう。\n",
    "\n",
    "#### 6人目の人の理科（3番目）の点数は69点ではなく30点だった。データを修正しよう。\n",
    "\n",
    "変数へのデータの格納と同じ容量でできる。"
   ]
  },
  {
   "cell_type": "code",
   "execution_count": 22,
   "id": "bf75cc53",
   "metadata": {},
   "outputs": [],
   "source": [
    "data[5,2] = 30"
   ]
  },
  {
   "cell_type": "markdown",
   "id": "1ec641c5",
   "metadata": {},
   "source": [
    "修正できたか確認しよう。"
   ]
  },
  {
   "cell_type": "code",
   "execution_count": 23,
   "id": "66ebcb06",
   "metadata": {
    "scrolled": true
   },
   "outputs": [
    {
     "name": "stdout",
     "output_type": "stream",
     "text": [
      "30\n",
      "[[86 54 63 74 90]\n",
      " [65 89 91 67 75]\n",
      " [67 58 79 86 60]\n",
      " [74 68 97 67 94]\n",
      " [70 95 89 76 85]\n",
      " [92 67 30 89 84]\n",
      " [76 54 61 78 86]\n",
      " [57 48 65 70 64]\n",
      " [90 86 81 79 92]\n",
      " [87 91 65 70 83]]\n"
     ]
    }
   ],
   "source": [
    "print(data[5,2])\n",
    "print(data)"
   ]
  },
  {
   "cell_type": "markdown",
   "id": "356250fc",
   "metadata": {},
   "source": [
    "#### 8人目の人のカンニングが発覚したので、全教科一律0点にしよう"
   ]
  },
  {
   "cell_type": "code",
   "execution_count": 24,
   "id": "f3c84936",
   "metadata": {},
   "outputs": [
    {
     "name": "stdout",
     "output_type": "stream",
     "text": [
      "[[86 54 63 74 90]\n",
      " [65 89 91 67 75]\n",
      " [67 58 79 86 60]\n",
      " [74 68 97 67 94]\n",
      " [70 95 89 76 85]\n",
      " [92 67 30 89 84]\n",
      " [76 54 61 78 86]\n",
      " [ 0  0  0  0  0]\n",
      " [90 86 81 79 92]\n",
      " [87 91 65 70 83]]\n"
     ]
    }
   ],
   "source": [
    "data[7,:] = np.zeros((5))\n",
    "print(data)"
   ]
  },
  {
   "cell_type": "markdown",
   "id": "f8ae6292",
   "metadata": {},
   "source": [
    "この様に、列や行、スライスを用いて一部分を一気に変更することも可能だ。\n",
    "\n",
    "#### 100点満点で採点したけれど、50点満点に直したい。全ての点数を1/2にしよう。"
   ]
  },
  {
   "cell_type": "code",
   "execution_count": 25,
   "id": "f623865a",
   "metadata": {},
   "outputs": [
    {
     "name": "stdout",
     "output_type": "stream",
     "text": [
      "[[43.  27.  31.5 37.  45. ]\n",
      " [32.5 44.5 45.5 33.5 37.5]\n",
      " [33.5 29.  39.5 43.  30. ]\n",
      " [37.  34.  48.5 33.5 47. ]\n",
      " [35.  47.5 44.5 38.  42.5]\n",
      " [46.  33.5 15.  44.5 42. ]\n",
      " [38.  27.  30.5 39.  43. ]\n",
      " [ 0.   0.   0.   0.   0. ]\n",
      " [45.  43.  40.5 39.5 46. ]\n",
      " [43.5 45.5 32.5 35.  41.5]]\n"
     ]
    }
   ],
   "source": [
    "data = data / 2\n",
    "print(data)"
   ]
  },
  {
   "cell_type": "markdown",
   "id": "f6a0c19f",
   "metadata": {},
   "source": [
    "この様に全てのデータに同じ値を加算乗除したい際も簡単に記述できる。\n",
    "\n",
    "#### 数学（2番目）で出題ミスが発覚したので、全員の数学の点数を+5点しよう"
   ]
  },
  {
   "cell_type": "code",
   "execution_count": 26,
   "id": "3388fa76",
   "metadata": {},
   "outputs": [
    {
     "name": "stdout",
     "output_type": "stream",
     "text": [
      "[[43.  32.  31.5 37.  45. ]\n",
      " [32.5 49.5 45.5 33.5 37.5]\n",
      " [33.5 34.  39.5 43.  30. ]\n",
      " [37.  39.  48.5 33.5 47. ]\n",
      " [35.  52.5 44.5 38.  42.5]\n",
      " [46.  38.5 15.  44.5 42. ]\n",
      " [38.  32.  30.5 39.  43. ]\n",
      " [ 0.   5.   0.   0.   0. ]\n",
      " [45.  48.  40.5 39.5 46. ]\n",
      " [43.5 50.5 32.5 35.  41.5]]\n"
     ]
    }
   ],
   "source": [
    "data[:,1] = data[:,1] + 5\n",
    "print(data)"
   ]
  },
  {
   "cell_type": "markdown",
   "id": "59a2e7fd",
   "metadata": {},
   "source": [
    "もちろんスライス機能を用いて一部分だけ同じ値を加算乗除、ということもできる。\n",
    "\n",
    "#### 次のテストの結果が出たので、足し算しよう\n",
    "\n",
    "※以下で読み込むデータは既に50点満点のものである。"
   ]
  },
  {
   "cell_type": "code",
   "execution_count": 27,
   "id": "370237e0",
   "metadata": {},
   "outputs": [
    {
     "name": "stdout",
     "output_type": "stream",
     "text": [
      "[[34 26 32 34 37]\n",
      " [29 51 52 29 46]\n",
      " [41 37 50 44 21]\n",
      " [37 42 45 44 38]\n",
      " [37 49 42 35 41]\n",
      " [54 29 28 54 37]\n",
      " [35 37 28 30 48]\n",
      " [24 15 35 26 33]\n",
      " [53 49 36 36 54]\n",
      " [48 47 36 36 43]]\n"
     ]
    }
   ],
   "source": [
    "data2 = np.loadtxt('./test_score_array2.csv', delimiter=',', dtype='int64')\n",
    "print(data2)"
   ]
  },
  {
   "cell_type": "code",
   "execution_count": 28,
   "id": "bd8de143",
   "metadata": {},
   "outputs": [
    {
     "name": "stdout",
     "output_type": "stream",
     "text": [
      "[[ 77.   58.   63.5  71.   82. ]\n",
      " [ 61.5 100.5  97.5  62.5  83.5]\n",
      " [ 74.5  71.   89.5  87.   51. ]\n",
      " [ 74.   81.   93.5  77.5  85. ]\n",
      " [ 72.  101.5  86.5  73.   83.5]\n",
      " [100.   67.5  43.   98.5  79. ]\n",
      " [ 73.   69.   58.5  69.   91. ]\n",
      " [ 24.   20.   35.   26.   33. ]\n",
      " [ 98.   97.   76.5  75.5 100. ]\n",
      " [ 91.5  97.5  68.5  71.   84.5]]\n"
     ]
    }
   ],
   "source": [
    "data = data + data2\n",
    "print(data)"
   ]
  },
  {
   "cell_type": "markdown",
   "id": "28a80472",
   "metadata": {},
   "source": [
    "こうすれば同じ要素ごとの加算乗除ができる。\n",
    "\n",
    "積の場合、単に`*`を用いれば要素積となることに注意しよう。行列積の計算方法は後ほど学ぶ。\n",
    "\n",
    "#### 2回のテストの点数を平均しよう。"
   ]
  },
  {
   "cell_type": "code",
   "execution_count": 29,
   "id": "8e3551ef",
   "metadata": {},
   "outputs": [
    {
     "name": "stdout",
     "output_type": "stream",
     "text": [
      "[[38.5  29.   31.75 35.5  41.  ]\n",
      " [30.75 50.25 48.75 31.25 41.75]\n",
      " [37.25 35.5  44.75 43.5  25.5 ]\n",
      " [37.   40.5  46.75 38.75 42.5 ]\n",
      " [36.   50.75 43.25 36.5  41.75]\n",
      " [50.   33.75 21.5  49.25 39.5 ]\n",
      " [36.5  34.5  29.25 34.5  45.5 ]\n",
      " [12.   10.   17.5  13.   16.5 ]\n",
      " [49.   48.5  38.25 37.75 50.  ]\n",
      " [45.75 48.75 34.25 35.5  42.25]]\n"
     ]
    }
   ],
   "source": [
    "data_mean = data/2\n",
    "print(data_mean)"
   ]
  },
  {
   "cell_type": "markdown",
   "id": "eeba1fc2",
   "metadata": {},
   "source": [
    "### 9.  データをcsvで書き出してみよう\n",
    "arrayからcsvへの書き出しも`savetxt()`というメソッドを用いれば非常に簡単である。引数の指定は概ね`loadtxt()`と同じである。"
   ]
  },
  {
   "cell_type": "code",
   "execution_count": 30,
   "id": "4b256c99",
   "metadata": {},
   "outputs": [],
   "source": [
    "np.savetxt('./test_score_array_mean.csv', data_mean, delimiter=',')"
   ]
  },
  {
   "cell_type": "code",
   "execution_count": null,
   "id": "f5f88746",
   "metadata": {},
   "outputs": [],
   "source": []
  }
 ],
 "metadata": {
  "kernelspec": {
   "display_name": "Python 3 (ipykernel)",
   "language": "python",
   "name": "python3"
  },
  "language_info": {
   "codemirror_mode": {
    "name": "ipython",
    "version": 3
   },
   "file_extension": ".py",
   "mimetype": "text/x-python",
   "name": "python",
   "nbconvert_exporter": "python",
   "pygments_lexer": "ipython3",
   "version": "3.10.12"
  },
  "vscode": {
   "interpreter": {
    "hash": "f25b26b4ea7004765cfa1e96cf36e4bfdb1569f2ca834d9e6ec0cf32829ced3d"
   }
  }
 },
 "nbformat": 4,
 "nbformat_minor": 5
}
