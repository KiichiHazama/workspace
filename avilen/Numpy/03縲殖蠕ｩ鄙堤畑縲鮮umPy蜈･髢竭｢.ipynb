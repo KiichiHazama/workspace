{
 "cells": [
  {
   "cell_type": "markdown",
   "id": "9be40b2b",
   "metadata": {},
   "source": [
    "## NumPy入門3\n",
    "NumPy内に用意されたarrayについてこれまでは基本的な演算やデータの取り扱いについて学んできた。ここからは、発展的な内容として、arrayで重要となるブロードキャストという機能や、数学、線形代数と対応した演算を見ていこう。\n",
    "\n",
    "まずはNumPyをインポートしよう。"
   ]
  },
  {
   "cell_type": "code",
   "execution_count": 1,
   "id": "5661622d",
   "metadata": {},
   "outputs": [],
   "source": [
    "import numpy as np"
   ]
  },
  {
   "cell_type": "markdown",
   "id": "b10de859",
   "metadata": {},
   "source": [
    "### 1. ブロードキャスト\n",
    "例えば以下の様に構造の違う2つのarrayを用意。"
   ]
  },
  {
   "cell_type": "code",
   "execution_count": 2,
   "id": "0417b73c",
   "metadata": {},
   "outputs": [
    {
     "name": "stdout",
     "output_type": "stream",
     "text": [
      "(3,)\n",
      "(3, 3)\n"
     ]
    }
   ],
   "source": [
    "a3 = np.array([1, 2, 3])\n",
    "a3_3 = np.array([[1, 2, 3], [1, 2, 3], [1, 2, 3]])\n",
    "print(a3.shape)\n",
    "print(a3_3.shape)"
   ]
  },
  {
   "cell_type": "markdown",
   "id": "a9bd6bf9",
   "metadata": {},
   "source": [
    "線形代数では、この様な構造の違う行列やベクトルの和や差は計算できない。では、この2つのarrayはどうだろう？"
   ]
  },
  {
   "cell_type": "code",
   "execution_count": 3,
   "id": "d42d945e",
   "metadata": {},
   "outputs": [
    {
     "name": "stdout",
     "output_type": "stream",
     "text": [
      "[1 2 3]\n",
      "[[1 2 3]\n",
      " [1 2 3]\n",
      " [1 2 3]]\n",
      "[[2 4 6]\n",
      " [2 4 6]\n",
      " [2 4 6]]\n"
     ]
    }
   ],
   "source": [
    "print(a3)\n",
    "print(a3_3)\n",
    "print(a3+a3_3)"
   ]
  },
  {
   "cell_type": "markdown",
   "id": "9ec9a8e3",
   "metadata": {},
   "source": [
    "できた！\n",
    "\n",
    "NumPyは構造の違うarrayどうしを計算しようとした際、自動で調整して計算してくれる。この様な機能を __ブロードキャスト__ という。\n",
    "もちろんこれは、加算乗除全てで可能だ。\n",
    "\n",
    "では、arrayではどの様な計算ができて、どの様な計算ができないのか確かめておこう。"
   ]
  },
  {
   "cell_type": "code",
   "execution_count": 4,
   "id": "acf9ab48",
   "metadata": {},
   "outputs": [],
   "source": [
    "a1 = np.array([1])\n",
    "a4 = np.array([1, 2, 3, 4])\n",
    "a3_4 = np.array( [[1, 2, 3, 4], [1, 2, 3, 4], [1, 2, 3, 4]])\n",
    "a3_1 = np.array( [[1], [1], [1]])"
   ]
  },
  {
   "cell_type": "markdown",
   "id": "57348635",
   "metadata": {},
   "source": [
    "これらの色々な組み合わせで計算してみて、計算が可能か確かめてみよう。"
   ]
  },
  {
   "cell_type": "code",
   "execution_count": 6,
   "id": "6b01a173",
   "metadata": {},
   "outputs": [
    {
     "name": "stdout",
     "output_type": "stream",
     "text": [
      "[1 2 3 4]\n",
      "[1 2 3]\n"
     ]
    },
    {
     "ename": "ValueError",
     "evalue": "operands could not be broadcast together with shapes (4,) (3,) ",
     "output_type": "error",
     "traceback": [
      "\u001b[0;31m---------------------------------------------------------------------------\u001b[0m",
      "\u001b[0;31mValueError\u001b[0m                                Traceback (most recent call last)",
      "Cell \u001b[0;32mIn[6], line 3\u001b[0m\n\u001b[1;32m      1\u001b[0m \u001b[38;5;28mprint\u001b[39m(a4)\n\u001b[1;32m      2\u001b[0m \u001b[38;5;28mprint\u001b[39m(a3)\n\u001b[0;32m----> 3\u001b[0m \u001b[38;5;28mprint\u001b[39m(\u001b[43ma4\u001b[49m\u001b[43m \u001b[49m\u001b[38;5;241;43m+\u001b[39;49m\u001b[43m \u001b[49m\u001b[43ma3\u001b[49m)\n",
      "\u001b[0;31mValueError\u001b[0m: operands could not be broadcast together with shapes (4,) (3,) "
     ]
    }
   ],
   "source": [
    "print(a4)\n",
    "print(a3)\n",
    "print(a4 + a3)"
   ]
  },
  {
   "cell_type": "markdown",
   "id": "fe867864",
   "metadata": {},
   "source": [
    "これは計算できない。\n",
    "\n",
    "同じ階数でも、次元が違う計算はできないみたいだ。もちろんこの様な場合もできない。"
   ]
  },
  {
   "cell_type": "code",
   "execution_count": 7,
   "id": "f5e8c6bf",
   "metadata": {},
   "outputs": [
    {
     "name": "stdout",
     "output_type": "stream",
     "text": [
      "[[1 2 3]\n",
      " [1 2 3]\n",
      " [1 2 3]]\n",
      "[[1 2 3 4]\n",
      " [1 2 3 4]\n",
      " [1 2 3 4]]\n"
     ]
    },
    {
     "ename": "ValueError",
     "evalue": "operands could not be broadcast together with shapes (3,3) (3,4) ",
     "output_type": "error",
     "traceback": [
      "\u001b[0;31m---------------------------------------------------------------------------\u001b[0m",
      "\u001b[0;31mValueError\u001b[0m                                Traceback (most recent call last)",
      "Cell \u001b[0;32mIn[7], line 3\u001b[0m\n\u001b[1;32m      1\u001b[0m \u001b[38;5;28mprint\u001b[39m(a3_3)\n\u001b[1;32m      2\u001b[0m \u001b[38;5;28mprint\u001b[39m(a3_4)\n\u001b[0;32m----> 3\u001b[0m \u001b[38;5;28mprint\u001b[39m(\u001b[43ma3_3\u001b[49m\u001b[43m \u001b[49m\u001b[38;5;241;43m+\u001b[39;49m\u001b[43m \u001b[49m\u001b[43ma3_4\u001b[49m)\n",
      "\u001b[0;31mValueError\u001b[0m: operands could not be broadcast together with shapes (3,3) (3,4) "
     ]
    }
   ],
   "source": [
    "print(a3_3)\n",
    "print(a3_4)\n",
    "print(a3_3 + a3_4)"
   ]
  },
  {
   "cell_type": "markdown",
   "id": "efd299c3",
   "metadata": {},
   "source": [
    "ただし例外がある。一次元のデータは、次元が大きい方のデータに合わせて全てが同じ値のデータに修正して計算してくれる様だ。\n",
    "\n",
    "例えば以下の場合、1次元データの方が __全ての要素が1のデータに修正されて計算されている。__"
   ]
  },
  {
   "cell_type": "code",
   "execution_count": 8,
   "id": "05a44ef7",
   "metadata": {},
   "outputs": [
    {
     "name": "stdout",
     "output_type": "stream",
     "text": [
      "[1]\n",
      "[1 2 3]\n",
      "[2 3 4]\n"
     ]
    }
   ],
   "source": [
    "print(a1)\n",
    "print(a3)\n",
    "print(a1 + a3)"
   ]
  },
  {
   "cell_type": "markdown",
   "id": "0fc63aff",
   "metadata": {},
   "source": [
    "先ほど(3,3) と(3,)の和は計算できていたが、(3,4)と(3,)の和は計算できない。"
   ]
  },
  {
   "cell_type": "code",
   "execution_count": 9,
   "id": "63185719",
   "metadata": {},
   "outputs": [
    {
     "name": "stdout",
     "output_type": "stream",
     "text": [
      "[[1 2 3 4]\n",
      " [1 2 3 4]\n",
      " [1 2 3 4]]\n",
      "[1 2 3]\n"
     ]
    },
    {
     "ename": "ValueError",
     "evalue": "operands could not be broadcast together with shapes (3,4) (3,) ",
     "output_type": "error",
     "traceback": [
      "\u001b[0;31m---------------------------------------------------------------------------\u001b[0m",
      "\u001b[0;31mValueError\u001b[0m                                Traceback (most recent call last)",
      "Cell \u001b[0;32mIn[9], line 3\u001b[0m\n\u001b[1;32m      1\u001b[0m \u001b[38;5;28mprint\u001b[39m(a3_4)\n\u001b[1;32m      2\u001b[0m \u001b[38;5;28mprint\u001b[39m(a3)\n\u001b[0;32m----> 3\u001b[0m \u001b[38;5;28mprint\u001b[39m(\u001b[43ma3_4\u001b[49m\u001b[43m \u001b[49m\u001b[38;5;241;43m+\u001b[39;49m\u001b[43m \u001b[49m\u001b[43ma3\u001b[49m)\n",
      "\u001b[0;31mValueError\u001b[0m: operands could not be broadcast together with shapes (3,4) (3,) "
     ]
    }
   ],
   "source": [
    "print(a3_4)\n",
    "print(a3)\n",
    "print(a3_4 + a3)"
   ]
  },
  {
   "cell_type": "markdown",
   "id": "33803076",
   "metadata": {},
   "source": [
    "(3,4)と(4,)の和にすれば計算が可能となる。"
   ]
  },
  {
   "cell_type": "code",
   "execution_count": 10,
   "id": "db7a12f5",
   "metadata": {},
   "outputs": [
    {
     "name": "stdout",
     "output_type": "stream",
     "text": [
      "[[1 2 3 4]\n",
      " [1 2 3 4]\n",
      " [1 2 3 4]]\n",
      "[1 2 3 4]\n",
      "[[2 4 6 8]\n",
      " [2 4 6 8]\n",
      " [2 4 6 8]]\n"
     ]
    }
   ],
   "source": [
    "print(a3_4)\n",
    "print(a4)\n",
    "print(a3_4 + a4)"
   ]
  },
  {
   "cell_type": "markdown",
   "id": "acac2e7e",
   "metadata": {},
   "source": [
    "このように階数の異なるarray同士の演算の場合、「より後ろにある軸の要素数が一致している場合」に計算が可能となる、つまり「前の方にある軸を補うようにブロードキャストが行われる」"
   ]
  },
  {
   "cell_type": "code",
   "execution_count": 11,
   "id": "6e3f5462",
   "metadata": {},
   "outputs": [
    {
     "name": "stdout",
     "output_type": "stream",
     "text": [
      "[[[[0. 0. 0. 0. 0.]\n",
      "   [0. 0. 0. 0. 0.]\n",
      "   [0. 0. 0. 0. 0.]\n",
      "   [0. 0. 0. 0. 0.]]\n",
      "\n",
      "  [[0. 0. 0. 0. 0.]\n",
      "   [0. 0. 0. 0. 0.]\n",
      "   [0. 0. 0. 0. 0.]\n",
      "   [0. 0. 0. 0. 0.]]\n",
      "\n",
      "  [[0. 0. 0. 0. 0.]\n",
      "   [0. 0. 0. 0. 0.]\n",
      "   [0. 0. 0. 0. 0.]\n",
      "   [0. 0. 0. 0. 0.]]]\n",
      "\n",
      "\n",
      " [[[0. 0. 0. 0. 0.]\n",
      "   [0. 0. 0. 0. 0.]\n",
      "   [0. 0. 0. 0. 0.]\n",
      "   [0. 0. 0. 0. 0.]]\n",
      "\n",
      "  [[0. 0. 0. 0. 0.]\n",
      "   [0. 0. 0. 0. 0.]\n",
      "   [0. 0. 0. 0. 0.]\n",
      "   [0. 0. 0. 0. 0.]]\n",
      "\n",
      "  [[0. 0. 0. 0. 0.]\n",
      "   [0. 0. 0. 0. 0.]\n",
      "   [0. 0. 0. 0. 0.]\n",
      "   [0. 0. 0. 0. 0.]]]]\n"
     ]
    },
    {
     "ename": "ValueError",
     "evalue": "operands could not be broadcast together with shapes (2,3,4,5) (2,3,4) ",
     "output_type": "error",
     "traceback": [
      "\u001b[0;31m---------------------------------------------------------------------------\u001b[0m",
      "\u001b[0;31mValueError\u001b[0m                                Traceback (most recent call last)",
      "Cell \u001b[0;32mIn[11], line 2\u001b[0m\n\u001b[1;32m      1\u001b[0m \u001b[38;5;28mprint\u001b[39m(np\u001b[38;5;241m.\u001b[39mzeros((\u001b[38;5;241m2\u001b[39m,\u001b[38;5;241m3\u001b[39m,\u001b[38;5;241m4\u001b[39m,\u001b[38;5;241m5\u001b[39m)) \u001b[38;5;241m+\u001b[39m np\u001b[38;5;241m.\u001b[39mzeros((\u001b[38;5;241m4\u001b[39m,\u001b[38;5;241m5\u001b[39m)))\n\u001b[0;32m----> 2\u001b[0m \u001b[38;5;28mprint\u001b[39m(\u001b[43mnp\u001b[49m\u001b[38;5;241;43m.\u001b[39;49m\u001b[43mzeros\u001b[49m\u001b[43m(\u001b[49m\u001b[43m(\u001b[49m\u001b[38;5;241;43m2\u001b[39;49m\u001b[43m,\u001b[49m\u001b[38;5;241;43m3\u001b[39;49m\u001b[43m,\u001b[49m\u001b[38;5;241;43m4\u001b[39;49m\u001b[43m,\u001b[49m\u001b[38;5;241;43m5\u001b[39;49m\u001b[43m)\u001b[49m\u001b[43m)\u001b[49m\u001b[43m \u001b[49m\u001b[38;5;241;43m+\u001b[39;49m\u001b[43m \u001b[49m\u001b[43mnp\u001b[49m\u001b[38;5;241;43m.\u001b[39;49m\u001b[43mzeros\u001b[49m\u001b[43m(\u001b[49m\u001b[43m(\u001b[49m\u001b[38;5;241;43m2\u001b[39;49m\u001b[43m,\u001b[49m\u001b[38;5;241;43m3\u001b[39;49m\u001b[43m,\u001b[49m\u001b[38;5;241;43m4\u001b[39;49m\u001b[43m)\u001b[49m\u001b[43m)\u001b[49m)\n",
      "\u001b[0;31mValueError\u001b[0m: operands could not be broadcast together with shapes (2,3,4,5) (2,3,4) "
     ]
    }
   ],
   "source": [
    "print(np.zeros((2,3,4,5)) + np.zeros((4,5)))\n",
    "print(np.zeros((2,3,4,5)) + np.zeros((2,3,4)))"
   ]
  },
  {
   "cell_type": "markdown",
   "id": "aaa4dbf4",
   "metadata": {},
   "source": [
    "#### ブロードキャストの性質まとめ\n",
    "\n",
    "- 階数(ndimの値)があっていない場合\n",
    "  - 後ろの軸の要素数が一致している場合は自動で同じ要素を繋げ大きい方に合わせられる\n",
    "  - 後ろの軸の要素数が一致していない場合は計算できない\n",
    "- 階数があっていても(いなくても)、各次元のサイズ(shapeの値)があっていなければ計算できない\n",
    "- ただし例外的に、`[1]`や`[[1], [1]]`の様に次元が1の場合は同じ要素を繰り返すことで要素数を自動で合わせられる\n",
    "\n",
    "__あとは、思いつく限り色々なデータを作成して計算してみて、ブロードキャストの感覚を掴んでおこう。__"
   ]
  },
  {
   "cell_type": "markdown",
   "id": "642e20a9",
   "metadata": {},
   "source": [
    "### 2. 数学とNumPy\n",
    "数学で学んだ様々な計算について、NumPyでどの様にできるのかも確かめておこう。NumPyはこの様な計算をするにも非常に便利なのである。\n",
    "\n",
    "#### べき乗とルート\n",
    "これはPythonの標準機能でも`**`で計算できるが、NumPyでも以下の様な機能が提供されている。"
   ]
  },
  {
   "cell_type": "code",
   "execution_count": 12,
   "id": "b42a8f41",
   "metadata": {},
   "outputs": [
    {
     "name": "stdout",
     "output_type": "stream",
     "text": [
      "100\n",
      "10.0\n",
      "10.0\n"
     ]
    }
   ],
   "source": [
    "#10の2乗\n",
    "print(np.power(10, 2))\n",
    "\n",
    "#100の1/2乗\n",
    "print(np.power(100, 0.5))\n",
    "\n",
    "#100のルート\n",
    "print(np.sqrt(100))"
   ]
  },
  {
   "cell_type": "markdown",
   "id": "bef6ab99",
   "metadata": {},
   "source": [
    "#### 数学に登場する様々な定数\n",
    "数学では様々な定数が登場した。NumPyではその定数も提供されているため、手入力で実装する必要がない。"
   ]
  },
  {
   "cell_type": "code",
   "execution_count": 13,
   "id": "813fe47f",
   "metadata": {},
   "outputs": [
    {
     "name": "stdout",
     "output_type": "stream",
     "text": [
      "3.141592653589793\n",
      "2.718281828459045\n"
     ]
    }
   ],
   "source": [
    "#円周率\n",
    "print(np.pi)\n",
    "\n",
    "#自然対数の底\n",
    "print(np.e)"
   ]
  },
  {
   "cell_type": "markdown",
   "id": "634f72a5",
   "metadata": {},
   "source": [
    "#### 三角関数\n",
    "様々な三角関数を計算する機能も以下の様に提供されている。ここでは紹介しきれないが、他にも様々な関数が用意されているので調べてみてほしい。"
   ]
  },
  {
   "cell_type": "code",
   "execution_count": 14,
   "id": "2964e669",
   "metadata": {},
   "outputs": [
    {
     "name": "stdout",
     "output_type": "stream",
     "text": [
      "1.0\n",
      "-1.0\n",
      "-1.2246467991473532e-16\n",
      "0.0\n",
      "1.5707963267948966\n",
      "0.0\n"
     ]
    }
   ],
   "source": [
    "#sin\n",
    "print(np.sin(np.pi/2))\n",
    "\n",
    "#cos\n",
    "print(np.cos(np.pi))\n",
    "\n",
    "#tan\n",
    "print(np.tan(np.pi))\n",
    "\n",
    "#arcsin (sinの逆関数)\n",
    "print(np.arcsin(0))\n",
    "\n",
    "#arccos (cosの逆関数)\n",
    "print(np.arccos(0))\n",
    "\n",
    "#arctan (tacの逆関数)\n",
    "print(np.arctan(0))"
   ]
  },
  {
   "cell_type": "markdown",
   "id": "14ea8e81",
   "metadata": {},
   "source": [
    "ただし、これらの計算はあくまでコンピュータ内でアルゴリズムを用いて近似的に計算されるため誤差が生じる。0となるべき値が0ではなくe-16などと非常に小さい値となっていることがわかる。\n",
    "\n",
    "#### ランダム\n",
    "乱数を出力する機能はrandomモジュールにもあったが、NumPyにも便利な機能が提供されている。\n",
    "\n",
    "以下の様に`random.rand`を用いれば、要素が全て0~1の乱数である指定した構造のarrayが生成できる。ここでは2行3列のarrayを生成した。"
   ]
  },
  {
   "cell_type": "code",
   "execution_count": 15,
   "id": "37f82f01",
   "metadata": {},
   "outputs": [
    {
     "name": "stdout",
     "output_type": "stream",
     "text": [
      "[[0.69000458 0.07177353 0.99785565]\n",
      " [0.86503237 0.49744371 0.30239466]]\n"
     ]
    }
   ],
   "source": [
    "rand_data = np.random.rand(2, 3)\n",
    "\n",
    "print(rand_data)"
   ]
  },
  {
   "cell_type": "markdown",
   "id": "50468998",
   "metadata": {},
   "source": [
    "### 3. 線形代数とNumPy\n",
    "NumPyが提供するarrayは、様々なデータを表現できる。そのデータはベクトルや行列を含むテンソルとして、多重な構造を扱うのにも便利である。\n",
    "\n",
    "では、線形代数で学んだ様々な計算をarrayで実施するにはどの様にすればいいのか、ここで見ておこう。ここを理解すれば、線形代数で学んだ様々な計算をコンピュータで自動化できる。複雑で数の多い計算も正確に素早く実行することができる。\n",
    "\n",
    "#### 単位行列\n",
    "NumPyに用意された`identity()`という関数は、引数で指定したサイズの単位行列を返す。\n",
    "\n",
    "以下では3行3列の単位行列を作成してみる。"
   ]
  },
  {
   "cell_type": "code",
   "execution_count": 16,
   "id": "4ac229a9",
   "metadata": {},
   "outputs": [
    {
     "name": "stdout",
     "output_type": "stream",
     "text": [
      "[[1. 0. 0.]\n",
      " [0. 1. 0.]\n",
      " [0. 0. 1.]]\n"
     ]
    }
   ],
   "source": [
    "mat_id = np.identity(3)\n",
    "\n",
    "print(mat_id)"
   ]
  },
  {
   "cell_type": "markdown",
   "id": "c80c08c6",
   "metadata": {},
   "source": [
    "#### 行列と積\n",
    "arrayで表現した行列は、単に`*`を用いると要素積となる。\n",
    "\n",
    "以下の計算を見ると行列積ではなく要素積となっていることがわかる。"
   ]
  },
  {
   "cell_type": "code",
   "execution_count": 17,
   "id": "c3fdbcae",
   "metadata": {},
   "outputs": [
    {
     "name": "stdout",
     "output_type": "stream",
     "text": [
      "[[1. 0. 0.]\n",
      " [0. 5. 0.]\n",
      " [0. 0. 9.]]\n"
     ]
    }
   ],
   "source": [
    "mat1 = np.array([[1, 2, 3], [4, 5, 6], [7, 8, 9]])\n",
    "\n",
    "print(mat1 * mat_id)"
   ]
  },
  {
   "cell_type": "markdown",
   "id": "cbb9f87a",
   "metadata": {},
   "source": [
    "べき乗の計算も同じく要素ごとのべき乗である。\n",
    "\n",
    "これは`**`というPython標準の記法を用いても、`np.power()`を用いても同じである。"
   ]
  },
  {
   "cell_type": "code",
   "execution_count": 18,
   "id": "8826d41f",
   "metadata": {},
   "outputs": [
    {
     "name": "stdout",
     "output_type": "stream",
     "text": [
      "[[ 1  4  9]\n",
      " [16 25 36]\n",
      " [49 64 81]]\n",
      "[[ 1  4  9]\n",
      " [16 25 36]\n",
      " [49 64 81]]\n"
     ]
    }
   ],
   "source": [
    "print(mat1 **2)\n",
    "print(np.power(mat1, 2))"
   ]
  },
  {
   "cell_type": "markdown",
   "id": "0c2acba7",
   "metadata": {},
   "source": [
    "ベクトルの内積や行列積を計算するためには`dot()`という関数を使う。\n",
    "\n",
    "引数には、かける順番で入力する。"
   ]
  },
  {
   "cell_type": "code",
   "execution_count": 19,
   "id": "588d333c",
   "metadata": {},
   "outputs": [
    {
     "name": "stdout",
     "output_type": "stream",
     "text": [
      "[[1. 2. 3.]\n",
      " [4. 5. 6.]\n",
      " [7. 8. 9.]]\n"
     ]
    }
   ],
   "source": [
    "print(np.dot(mat1, mat_id))"
   ]
  },
  {
   "cell_type": "code",
   "execution_count": 20,
   "id": "c32499c5",
   "metadata": {},
   "outputs": [
    {
     "name": "stdout",
     "output_type": "stream",
     "text": [
      "26\n"
     ]
    }
   ],
   "source": [
    "vec1 = np.array([1,2,3])\n",
    "vec2 = np.array([3,4,5])\n",
    "\n",
    "print(np.dot(vec1, vec2))"
   ]
  },
  {
   "cell_type": "markdown",
   "id": "55ee8002",
   "metadata": {},
   "source": [
    "ベクトルの内積は`np.inner()`でも行える。また、`dot()`の代わりに`matmul()`を利用してもよい"
   ]
  },
  {
   "cell_type": "code",
   "execution_count": 21,
   "id": "bb635c5e",
   "metadata": {},
   "outputs": [
    {
     "name": "stdout",
     "output_type": "stream",
     "text": [
      "26\n"
     ]
    }
   ],
   "source": [
    "print(np.inner(vec1, vec2))"
   ]
  },
  {
   "cell_type": "markdown",
   "id": "9f5f824c",
   "metadata": {},
   "source": [
    "#### 行列の転置\n",
    "行列の転置を計算する方法は以下の3つある。計算結果は全て同じなので、使いやすいものを使うといい。"
   ]
  },
  {
   "cell_type": "code",
   "execution_count": 22,
   "id": "29c07309",
   "metadata": {},
   "outputs": [
    {
     "name": "stdout",
     "output_type": "stream",
     "text": [
      "[[1 4 7]\n",
      " [2 5 8]\n",
      " [3 6 9]]\n"
     ]
    }
   ],
   "source": [
    "print(mat1.T)"
   ]
  },
  {
   "cell_type": "code",
   "execution_count": 23,
   "id": "d0db13e2",
   "metadata": {},
   "outputs": [
    {
     "name": "stdout",
     "output_type": "stream",
     "text": [
      "[[1 4 7]\n",
      " [2 5 8]\n",
      " [3 6 9]]\n"
     ]
    }
   ],
   "source": [
    "print(mat1.transpose())"
   ]
  },
  {
   "cell_type": "code",
   "execution_count": 24,
   "id": "88d2a46f",
   "metadata": {},
   "outputs": [
    {
     "name": "stdout",
     "output_type": "stream",
     "text": [
      "[[1 4 7]\n",
      " [2 5 8]\n",
      " [3 6 9]]\n"
     ]
    }
   ],
   "source": [
    "print(np.transpose(mat1))"
   ]
  },
  {
   "cell_type": "markdown",
   "id": "f1a151b2",
   "metadata": {},
   "source": [
    "#### ノルム\n",
    "ノルムの計算は`linalg.norm()`を使用すればいい。ただし、ノルムの種類は`ord`という引数で指定する。\n",
    "\n",
    "例えば以下は、`vec1`について順にL1ノルム、L2ノルム、L3ノルムである。"
   ]
  },
  {
   "cell_type": "code",
   "execution_count": 25,
   "id": "a1e8b8d1",
   "metadata": {},
   "outputs": [
    {
     "name": "stdout",
     "output_type": "stream",
     "text": [
      "6.0\n",
      "3.7416573867739413\n",
      "3.3019272488946263\n"
     ]
    }
   ],
   "source": [
    "print(np.linalg.norm(vec1, ord=1))\n",
    "print(np.linalg.norm(vec1, ord=2))\n",
    "print(np.linalg.norm(vec1, ord=3))"
   ]
  },
  {
   "cell_type": "markdown",
   "id": "e85c51e1",
   "metadata": {},
   "source": [
    "行列についても同様にノルムを計算できる。"
   ]
  },
  {
   "cell_type": "code",
   "execution_count": 26,
   "id": "0c86f606",
   "metadata": {},
   "outputs": [
    {
     "name": "stdout",
     "output_type": "stream",
     "text": [
      "16.84810335261421\n"
     ]
    }
   ],
   "source": [
    "print(np.linalg.norm(mat1, ord=2))"
   ]
  },
  {
   "cell_type": "markdown",
   "id": "4d844c65",
   "metadata": {},
   "source": [
    "ちなみに、各要素の絶対値をarrayで返す`abs()`と全ての要素をたす`sum()`等を用いて以下の様に計算することもできる。"
   ]
  },
  {
   "cell_type": "code",
   "execution_count": 27,
   "id": "a3622030",
   "metadata": {},
   "outputs": [
    {
     "name": "stdout",
     "output_type": "stream",
     "text": [
      "6\n",
      "3.7416573867739413\n",
      "3.3019272488946263\n"
     ]
    }
   ],
   "source": [
    "print(np.sum(np.abs(vec1)))\n",
    "print(np.sqrt(np.sum(np.abs(vec1**2))))\n",
    "print(np.power(np.sum(np.abs(vec1**3)), 1/3))"
   ]
  },
  {
   "cell_type": "markdown",
   "id": "9faa7827",
   "metadata": {},
   "source": [
    "## 最後に\n",
    "ここまでで紹介したarrayやNumPyの様々な機能は頻出なものの一部である。他にも便利な機能がたくさんあるので、「こういうことができないのかな？」と思った際に積極的に調べてみるのが今後の学習を加速させるために非常に重要となる。\n",
    "\n",
    "また、ここで紹介した内容についても知識としてだけではなく自身でも手を動かし、色々なパターンでarrayを作成して計算して感覚を掴んでいこう。"
   ]
  }
 ],
 "metadata": {
  "kernelspec": {
   "display_name": "Python 3 (ipykernel)",
   "language": "python",
   "name": "python3"
  },
  "language_info": {
   "codemirror_mode": {
    "name": "ipython",
    "version": 3
   },
   "file_extension": ".py",
   "mimetype": "text/x-python",
   "name": "python",
   "nbconvert_exporter": "python",
   "pygments_lexer": "ipython3",
   "version": "3.10.12"
  },
  "vscode": {
   "interpreter": {
    "hash": "aee8b7b246df8f9039afb4144a1f6fd8d2ca17a180786b69acc140d282b71a49"
   }
  }
 },
 "nbformat": 4,
 "nbformat_minor": 5
}
