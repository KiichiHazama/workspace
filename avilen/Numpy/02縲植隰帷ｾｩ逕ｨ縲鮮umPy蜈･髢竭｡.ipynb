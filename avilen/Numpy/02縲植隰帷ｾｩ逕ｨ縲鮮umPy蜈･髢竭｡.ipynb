{
 "cells": [
  {
   "cell_type": "markdown",
   "id": "120bda13",
   "metadata": {},
   "source": [
    "## NumPy入門2\n",
    "cifar10でダウンロードしたデータはNumPy内のarrayというデータで表現した画像データとそれぞれのラベルだった。\n",
    "この様な複雑なデータの表現や扱いをするのにこのNumPyは非常に便利だ。\n",
    "\n",
    "そのNumPyについて詳しく学んでいこう。\n",
    "\n",
    "### 1. NumPyのインポート\n",
    "以下でNumPyをインポートしよう。一般的にNumPyは、as構文を用いて`np`と省略される。"
   ]
  },
  {
   "cell_type": "code",
   "execution_count": null,
   "id": "a6fff0db",
   "metadata": {},
   "outputs": [],
   "source": [
    "import numpy as np"
   ]
  },
  {
   "cell_type": "markdown",
   "id": "52cc4576",
   "metadata": {},
   "source": [
    "### 2. リストをarrayに変換しよう\n",
    "以下の様なコードでリストを簡単にarrayに変換できる。"
   ]
  },
  {
   "cell_type": "code",
   "execution_count": null,
   "id": "5f04eed7",
   "metadata": {},
   "outputs": [],
   "source": [
    "data = np.array([[1, 2, 3], [3, 4, 5], [6, 7, 8]])"
   ]
  },
  {
   "cell_type": "code",
   "execution_count": null,
   "id": "a9a79380",
   "metadata": {},
   "outputs": [],
   "source": [
    "print(data)\n",
    "print(data.shape)"
   ]
  },
  {
   "cell_type": "markdown",
   "id": "239986f2",
   "metadata": {},
   "source": [
    "### 3. 事前に準備されているarray\n",
    "以下の様に、NumPyには事前に用意されている標準的なarrayもある。\n",
    "\n",
    "データの構造(shape)はタプルで指定する。"
   ]
  },
  {
   "cell_type": "code",
   "execution_count": null,
   "id": "2a898220",
   "metadata": {},
   "outputs": [],
   "source": [
    "zero1 = np.zeros((3))\n",
    "ones1 = np.ones((3))\n",
    "\n",
    "print(zero1)\n",
    "print(ones1)"
   ]
  },
  {
   "cell_type": "code",
   "execution_count": null,
   "id": "8daf8a3a",
   "metadata": {},
   "outputs": [],
   "source": [
    "zero2 = np.zeros((3,3))\n",
    "ones2 = np.ones((3,3))\n",
    "\n",
    "print(zero2)\n",
    "print(ones2)"
   ]
  },
  {
   "cell_type": "markdown",
   "id": "cdddbf3b",
   "metadata": {},
   "source": [
    "### 4. データセットを取り込もう\n",
    "NumPyには保存したデータをarrayの形式に取り込める`loadtxt()`という関数が用意されている。これを用いて、データをarrayに取り込もう。\n",
    "\n",
    "なお、ここで用意したデータは応用編で使用した成績データの文字列部分を削除したものである。それぞれの人ごとに、テストの点数が国語、数学、理科、社会、英語の順で並んでいる。"
   ]
  },
  {
   "cell_type": "code",
   "execution_count": null,
   "id": "f4290460",
   "metadata": {},
   "outputs": [],
   "source": [
    "data = np.loadtxt(\"./test_score_array1.csv\", delimiter=',' )\n",
    "print(data)"
   ]
  },
  {
   "cell_type": "markdown",
   "id": "6cb7501a",
   "metadata": {},
   "source": [
    "`86.`のように小数点がついているが、これはfloat型として読み込まれていることを表している。\n",
    "\n",
    "arrayの要素の型はメンバ変数`dtype`で確認できる。"
   ]
  },
  {
   "cell_type": "code",
   "execution_count": null,
   "id": "539968a9",
   "metadata": {},
   "outputs": [],
   "source": [
    "print(type(data))\n",
    "print(data.dtype)"
   ]
  },
  {
   "cell_type": "markdown",
   "id": "734b803a",
   "metadata": {},
   "source": [
    "int型にして読み込むには以下の様にする。"
   ]
  },
  {
   "cell_type": "code",
   "execution_count": null,
   "id": "ae165a7a",
   "metadata": {},
   "outputs": [],
   "source": [
    "data = np.loadtxt(\"./test_score_array1.csv\", delimiter=',' , dtype='int64')\n",
    "print(data)\n",
    "print(data.dtype)"
   ]
  },
  {
   "cell_type": "markdown",
   "id": "fd4ff318",
   "metadata": {},
   "source": [
    "### 5. データの構造を確かめよう\n",
    "メンバ変数`shape`を用いてデータの構造を確かめてみると、これは10行5列の行列であることがわかる。"
   ]
  },
  {
   "cell_type": "code",
   "execution_count": null,
   "id": "6aedbb78",
   "metadata": {},
   "outputs": [],
   "source": [
    "print(data.shape)"
   ]
  },
  {
   "cell_type": "markdown",
   "id": "972ea22d",
   "metadata": {},
   "source": [
    "この様にして、excel等を用いてcsvを開くことなくデータの外観をつかむことができる。また、この様に一度Pythonのデータとして取り込むことで元データに変更を加えることなく取り扱うことができる。\n",
    "\n",
    "また、メンバ変数`ndim`を用いることでこのデータのを表すテンソルの階数を調べることができる。"
   ]
  },
  {
   "cell_type": "code",
   "execution_count": null,
   "id": "723a114f",
   "metadata": {},
   "outputs": [],
   "source": [
    "print(data.ndim)"
   ]
  },
  {
   "cell_type": "markdown",
   "id": "74fec11f",
   "metadata": {},
   "source": [
    "### 6. データの構造を変換しよう\n",
    "`reshape()`というメソッドを用いるとデータの構造を変換することができる。例えばこの10行5列の行列を50次元のベクトルに変換してみよう。構造の指定には、`shape`などの返り値と同じタプルを用いる。"
   ]
  },
  {
   "cell_type": "code",
   "execution_count": null,
   "id": "d73b62f4",
   "metadata": {},
   "outputs": [],
   "source": [
    "print(data.reshape((50)))"
   ]
  },
  {
   "cell_type": "code",
   "execution_count": null,
   "id": "2ae89a4d",
   "metadata": {},
   "outputs": [],
   "source": [
    "print(data.reshape((2, 5, -1)))"
   ]
  },
  {
   "cell_type": "markdown",
   "id": "b7a11eaa",
   "metadata": {},
   "source": [
    "ここで、このメソッドは元のデータを変換しているわけではなく、変換したデータを返しているだけなので、元のデータは影響を受けていない。"
   ]
  },
  {
   "cell_type": "code",
   "execution_count": null,
   "id": "37b62104",
   "metadata": {},
   "outputs": [],
   "source": [
    "print(data)"
   ]
  },
  {
   "cell_type": "markdown",
   "id": "f6251599",
   "metadata": {},
   "source": [
    "変換後のデータを使用する場合は返り値を変数に格納する必要がある。\n",
    "\n",
    "この様に、データを加工するために用意されたメソッドには元のデータを変更するものと、変更したものを返すだけのものが存在する。\n",
    "\n",
    "この違いは意識しておく必要がある。"
   ]
  },
  {
   "cell_type": "code",
   "execution_count": null,
   "id": "863abc52",
   "metadata": {},
   "outputs": [],
   "source": [
    "data_vec = data.reshape((50))\n",
    "print(data_vec)"
   ]
  },
  {
   "cell_type": "markdown",
   "id": "7e0a73cd",
   "metadata": {},
   "source": [
    "### 7. 要素の参照\n",
    "`data`の要素をいろいろな方法で参照してみよう。\n",
    "\n",
    "#### 3人目の人の英語（5番目）は何点？"
   ]
  },
  {
   "cell_type": "code",
   "execution_count": null,
   "id": "a38fa4dd",
   "metadata": {},
   "outputs": [],
   "source": [
    "print(data[2,4])"
   ]
  },
  {
   "cell_type": "markdown",
   "id": "5bf4d4b0",
   "metadata": {},
   "source": [
    "#### 4人目の人の全教科の点数を調べよう"
   ]
  },
  {
   "cell_type": "code",
   "execution_count": null,
   "id": "7882c44d",
   "metadata": {},
   "outputs": [],
   "source": [
    "print(data[3,:])"
   ]
  },
  {
   "cell_type": "markdown",
   "id": "bf07ee7c",
   "metadata": {},
   "source": [
    "この様に、その階の全データを参照する際は`:`を用いる。\n",
    "\n",
    "使いかたとしてはリストに対するスライス記法と同じである。"
   ]
  },
  {
   "cell_type": "code",
   "execution_count": null,
   "id": "97418d27",
   "metadata": {},
   "outputs": [],
   "source": [
    "print(data[3,1:3])\n",
    "print(data[3,:2])\n",
    "print(data[3,2:])"
   ]
  },
  {
   "cell_type": "markdown",
   "id": "4caf54c0",
   "metadata": {},
   "source": [
    "#### 数学（2番目）の全員の点数分布を見てみよう\n",
    "\n",
    "考え方は全く同じとなる。"
   ]
  },
  {
   "cell_type": "code",
   "execution_count": null,
   "id": "32a4ab6f",
   "metadata": {},
   "outputs": [],
   "source": [
    "print(data[:,1])"
   ]
  },
  {
   "cell_type": "markdown",
   "id": "6e734f76",
   "metadata": {},
   "source": [
    "#### それでは、国語（1番目）と数学（2番目）についても点数の分布を見てみよう。"
   ]
  },
  {
   "cell_type": "code",
   "execution_count": null,
   "id": "ce897828",
   "metadata": {},
   "outputs": [],
   "source": [
    "print(data[:, :2])"
   ]
  },
  {
   "cell_type": "markdown",
   "id": "21c84017",
   "metadata": {},
   "source": [
    "### ８. 各要素の編集、演算\n",
    "arrayの各要素で演算をしたい場合、どの様にすればいいか学んでいこう。\n",
    "\n",
    "#### 6人目の人の理科（3番目）の点数は69点ではなく30点だった。データを修正しよう。\n",
    "\n",
    "変数へのデータの格納と同じ容量でできる。"
   ]
  },
  {
   "cell_type": "code",
   "execution_count": null,
   "id": "ea793ae9",
   "metadata": {},
   "outputs": [],
   "source": [
    "data[5,2] = 30"
   ]
  },
  {
   "cell_type": "markdown",
   "id": "cceb5512",
   "metadata": {},
   "source": [
    "修正できたか確認しよう。"
   ]
  },
  {
   "cell_type": "code",
   "execution_count": null,
   "id": "6095670f",
   "metadata": {
    "scrolled": true
   },
   "outputs": [],
   "source": [
    "print(data[5,2])\n",
    "print(data)"
   ]
  },
  {
   "cell_type": "markdown",
   "id": "60cef55e",
   "metadata": {},
   "source": [
    "#### 8人目の人のカンニングが発覚したので、全教科一律0点にしよう"
   ]
  },
  {
   "cell_type": "code",
   "execution_count": null,
   "id": "218dc646",
   "metadata": {},
   "outputs": [],
   "source": [
    "data[7, :] = np.array([0,0,0,0,0])\n",
    "print(data)"
   ]
  },
  {
   "cell_type": "markdown",
   "id": "b5ea4c88",
   "metadata": {},
   "source": [
    "この様に、列や行、スライスを用いて一部分を一気に変更することも可能だ。\n",
    "\n",
    "#### 100点満点で採点したけれど、50点満点に直したい。全ての点数を1/2にしよう。"
   ]
  },
  {
   "cell_type": "code",
   "execution_count": null,
   "id": "d4910666",
   "metadata": {},
   "outputs": [],
   "source": [
    "data = data / 2\n",
    "print(data)"
   ]
  },
  {
   "cell_type": "markdown",
   "id": "9ab61a76",
   "metadata": {},
   "source": [
    "この様に全てのデータに同じ値を加算乗除したい際も簡単に記述できる。\n",
    "\n",
    "#### 数学（2番目）で出題ミスが発覚したので、全員の数学の点数を+5点しよう"
   ]
  },
  {
   "cell_type": "code",
   "execution_count": null,
   "id": "34207bd9",
   "metadata": {},
   "outputs": [],
   "source": [
    "data[:, 1] = data[:, 1]+5\n",
    "print(data)"
   ]
  },
  {
   "cell_type": "markdown",
   "id": "41a6041b",
   "metadata": {},
   "source": [
    "もちろんスライス機能を用いて一部分だけ同じ値を加算乗除、ということもできる。\n",
    "\n",
    "#### 次のテストの結果が出たので、足し算しよう\n",
    "\n",
    "※以下で読み込むデータは既に50点満点のものである。"
   ]
  },
  {
   "cell_type": "code",
   "execution_count": null,
   "id": "5695b454",
   "metadata": {},
   "outputs": [],
   "source": [
    "data2 = np.loadtxt(\"./test_score_array2.csv\", delimiter=',' , dtype='int64')\n",
    "print(data2)"
   ]
  },
  {
   "cell_type": "code",
   "execution_count": null,
   "id": "6791ae31",
   "metadata": {},
   "outputs": [],
   "source": [
    "data = data + data2\n",
    "print(data)"
   ]
  },
  {
   "cell_type": "markdown",
   "id": "64a71a50",
   "metadata": {},
   "source": [
    "こうすれば同じ要素ごとの加算乗除ができる。\n",
    "\n",
    "積の場合、単に`*`を用いれば要素積となることに注意しよう。行列積の計算方法は後ほど学ぶ。\n",
    "\n",
    "#### 2回のテストの点数を平均しよう。"
   ]
  },
  {
   "cell_type": "code",
   "execution_count": null,
   "id": "a12f8aff",
   "metadata": {},
   "outputs": [],
   "source": [
    "data_mean = data/2\n",
    "print(data_mean)"
   ]
  },
  {
   "cell_type": "markdown",
   "id": "a28c9d75",
   "metadata": {},
   "source": [
    "### 9.  データをcsvで書き出してみよう\n",
    "arrayからcsvへの書き出しも`savetxt()`というメソッドを用いれば非常に簡単である。引数の指定は概ね`loadtxt()`と同じである。"
   ]
  },
  {
   "cell_type": "code",
   "execution_count": null,
   "id": "b42cf0d2",
   "metadata": {},
   "outputs": [],
   "source": [
    "np.savetxt('./test_score_array_mean.csv',data_mean,delimiter=',')"
   ]
  }
 ],
 "metadata": {
  "kernelspec": {
   "display_name": "Python 3 (ipykernel)",
   "language": "python",
   "name": "python3"
  },
  "language_info": {
   "codemirror_mode": {
    "name": "ipython",
    "version": 3
   },
   "file_extension": ".py",
   "mimetype": "text/x-python",
   "name": "python",
   "nbconvert_exporter": "python",
   "pygments_lexer": "ipython3",
   "version": "3.10.12"
  },
  "vscode": {
   "interpreter": {
    "hash": "f25b26b4ea7004765cfa1e96cf36e4bfdb1569f2ca834d9e6ec0cf32829ced3d"
   }
  }
 },
 "nbformat": 4,
 "nbformat_minor": 5
}
